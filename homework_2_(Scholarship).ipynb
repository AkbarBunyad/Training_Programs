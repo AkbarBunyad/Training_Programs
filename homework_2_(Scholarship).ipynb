{
  "cells": [
    {
      "cell_type": "markdown",
      "metadata": {
        "id": "view-in-github",
        "colab_type": "text"
      },
      "source": [
        "<a href=\"https://colab.research.google.com/github/AkbarBunyad/Training_Programs/blob/main/homework_2_(Scholarship).ipynb\" target=\"_parent\"><img src=\"https://colab.research.google.com/assets/colab-badge.svg\" alt=\"Open In Colab\"/></a>"
      ]
    },
    {
      "cell_type": "markdown",
      "metadata": {
        "id": "c8013292"
      },
      "source": [
        "**1. Sevil has just learned multiplication tables in school. Today she has learned tables of 8 and 9. Help her memorise both the tables by printing them using for loop.**"
      ],
      "id": "c8013292"
    },
    {
      "cell_type": "code",
      "execution_count": null,
      "metadata": {
        "colab": {
          "base_uri": "https://localhost:8080/"
        },
        "id": "E74K7SMh4dnw",
        "outputId": "c8f9dd65-0ce1-4710-de65-8fd298ea793d"
      },
      "outputs": [
        {
          "output_type": "stream",
          "name": "stdout",
          "text": [
            "Multiplication Table for 8: \n",
            "\n",
            "8 * 1 = 8\n",
            "8 * 2 = 16\n",
            "8 * 3 = 24\n",
            "8 * 4 = 32\n",
            "8 * 5 = 40\n",
            "8 * 6 = 48\n",
            "8 * 7 = 56\n",
            "8 * 8 = 64\n",
            "8 * 9 = 72\n",
            "8 * 10 = 80\n",
            "\n",
            "Multiplication Table for 9: \n",
            "\n",
            "9 * 1 = 9\n",
            "9 * 2 = 18\n",
            "9 * 3 = 27\n",
            "9 * 4 = 36\n",
            "9 * 5 = 45\n",
            "9 * 6 = 54\n",
            "9 * 7 = 63\n",
            "9 * 8 = 72\n",
            "9 * 9 = 81\n",
            "9 * 10 = 90\n"
          ]
        }
      ],
      "source": [
        "print('Multiplication Table for 8: \\n')\n",
        "for i in range(1, 11):\n",
        "  res = 8*i\n",
        "  print(f\"8 * {i} = {res}\")\n",
        "\n",
        "print('\\nMultiplication Table for 9: \\n')\n",
        "for i in range(1, 11):\n",
        "  re = 9*i\n",
        "  print(f\"9 * {i} = {re}\")"
      ],
      "id": "E74K7SMh4dnw"
    },
    {
      "cell_type": "markdown",
      "metadata": {
        "id": "e9c0ceb3"
      },
      "source": [
        "**2.\n",
        "Write a for loop that prints out the following list: colors = ['yellow', 'black', 'red', 'orange', 'blue']**"
      ],
      "id": "e9c0ceb3"
    },
    {
      "cell_type": "code",
      "execution_count": null,
      "metadata": {
        "colab": {
          "base_uri": "https://localhost:8080/"
        },
        "id": "2fkIpn804kc4",
        "outputId": "0f5b89da-7246-4a58-cae0-f2a71c9919cb"
      },
      "outputs": [
        {
          "output_type": "stream",
          "name": "stdout",
          "text": [
            "yellow\n",
            "black\n",
            "red\n",
            "orange\n",
            "blue\n"
          ]
        }
      ],
      "source": [
        "colors = ['yellow', 'black', 'red', 'orange', 'blue']\n",
        "for i in colors:\n",
        "  print(i)"
      ],
      "id": "2fkIpn804kc4"
    },
    {
      "cell_type": "markdown",
      "metadata": {
        "id": "8516495d"
      },
      "source": [
        "**3. In a school canteen, children under the age of 9 are only given milk porridge for breakfast. Children from 10 to 14 are given a sandwich, and children from 15 to 17 are given a burger. The canteen master asks the age of the student and gives them breakfast accordingly. Aysel's age is 10. Use if-else statement to determine what the canteen master will offer to him.**"
      ],
      "id": "8516495d"
    },
    {
      "cell_type": "code",
      "execution_count": null,
      "metadata": {
        "colab": {
          "base_uri": "https://localhost:8080/"
        },
        "id": "nHibytwX6Plk",
        "outputId": "e0ac0367-0414-48e9-ec14-42cb714eb25c"
      },
      "outputs": [
        {
          "output_type": "stream",
          "name": "stdout",
          "text": [
            "Enter Aysel's age: 12.6\n",
            "Please enter a valid age\n",
            "Enter Aysel's age: 10\n",
            "Aysel will be offered sandwich\n"
          ]
        }
      ],
      "source": [
        "while True:\n",
        "  try:\n",
        "    age = int(input(\"Enter Aysel's age: \"))\n",
        "\n",
        "    if age<0:\n",
        "      print(\"Please enter a valid positive age\")\n",
        "      break\n",
        "    else:\n",
        "      if age < 9:\n",
        "        print('Aysel will be offered milk porridge')\n",
        "        break\n",
        "      elif 10 <= age <= 14:\n",
        "        print(\"Aysel will be offered sandwich\")\n",
        "        break\n",
        "      elif 15<=age<=17:\n",
        "        print(\"Aysel will be offered burger\")\n",
        "        break\n",
        "      else:\n",
        "        print(\"Aysel is not eligible for the age group provided\")\n",
        "        break\n",
        "  except:\n",
        "    print('Please enter a valid age')"
      ],
      "id": "nHibytwX6Plk"
    },
    {
      "cell_type": "markdown",
      "metadata": {
        "id": "fe978489"
      },
      "source": [
        "**4. Print just even numbers from 10 to 100 in the list and output the result in a line.**"
      ],
      "id": "fe978489"
    },
    {
      "cell_type": "code",
      "execution_count": null,
      "metadata": {
        "colab": {
          "base_uri": "https://localhost:8080/"
        },
        "id": "AeXl72G26kFf",
        "outputId": "6870cd41-209b-4133-bfc1-bc80434343de"
      },
      "outputs": [
        {
          "output_type": "stream",
          "name": "stdout",
          "text": [
            "10, 12, 14, 16, 18, 20, 22, 24, 26, 28, 30, 32, 34, 36, 38, 40, 42, 44, 46, 48, 50, 52, 54, 56, 58, 60, 62, 64, 66, 68, 70, 72, 74, 76, 78, 80, 82, 84, 86, 88, 90, 92, 94, 96, 98, 100"
          ]
        }
      ],
      "source": [
        "for i in range(10, 101):\n",
        "  if i%2 == 0:\n",
        "    print(f'{i}', end = ', ' if i<100 else '')"
      ],
      "id": "AeXl72G26kFf"
    },
    {
      "cell_type": "markdown",
      "metadata": {
        "id": "ee47a13c"
      },
      "source": [
        "**5. Find the count of digits of the given natural number. (Use input() function to get the number)**"
      ],
      "id": "ee47a13c"
    },
    {
      "cell_type": "code",
      "execution_count": null,
      "metadata": {
        "colab": {
          "base_uri": "https://localhost:8080/"
        },
        "id": "jQq779rY9ud3",
        "outputId": "89720206-5802-46db-d188-48ac008035a1"
      },
      "outputs": [
        {
          "output_type": "stream",
          "name": "stdout",
          "text": [
            "Enter a natural number: -12\n",
            "Enter a valid positive natural number\n"
          ]
        }
      ],
      "source": [
        "try:\n",
        "  num = int(input('Enter a natural number: '))\n",
        "  if num <=0:\n",
        "    print('Enter a valid positive natural number')\n",
        "  else:\n",
        "    print(f\"{num} has {len(str(num))} digit(s)\")\n",
        "except:\n",
        "  print('Enter a valid natural number')"
      ],
      "id": "jQq779rY9ud3"
    },
    {
      "cell_type": "markdown",
      "metadata": {
        "id": "0bf7f959"
      },
      "source": [
        "**6. Find the sum of negative number in the list  a = [34.9, -23, -98, -65.2, -89, 3].**"
      ],
      "id": "0bf7f959"
    },
    {
      "cell_type": "code",
      "execution_count": null,
      "metadata": {
        "colab": {
          "base_uri": "https://localhost:8080/"
        },
        "id": "nxL2wklrJhql",
        "outputId": "3ad703c7-cf6d-4ed9-eef1-55c35ae851e7"
      },
      "outputs": [
        {
          "output_type": "stream",
          "name": "stdout",
          "text": [
            "-275.5\n"
          ]
        }
      ],
      "source": [
        "a = [34.9, -23, -98, -65.2, -89.3]\n",
        "t = 0\n",
        "for i in a:\n",
        "  if i<0:\n",
        "    t+=i\n",
        "print(t)"
      ],
      "id": "nxL2wklrJhql"
    },
    {
      "cell_type": "markdown",
      "metadata": {
        "id": "fcff9886"
      },
      "source": [
        "**7. If the entered salary is less than 400, a 20% increase should be added; if it is more than 1000 manat, a 10% increase should be added; otherwise, a 15% increase should be applied.**"
      ],
      "id": "fcff9886"
    },
    {
      "cell_type": "code",
      "execution_count": null,
      "metadata": {
        "colab": {
          "base_uri": "https://localhost:8080/"
        },
        "id": "UDIxDXd4Kv03",
        "outputId": "e6413f57-c9dc-4c71-f0e2-65822bd91f6e"
      },
      "outputs": [
        {
          "output_type": "stream",
          "name": "stdout",
          "text": [
            "Enter the salary: -34\n",
            "Enter a valid input\n"
          ]
        }
      ],
      "source": [
        "try:\n",
        "  s = float(input('Enter the salary: '))\n",
        "  if s<0:\n",
        "    print('Enter a valid input')\n",
        "  else:\n",
        "    if s < 400:\n",
        "      snew = s * 1.20\n",
        "    elif s>1000:\n",
        "      snew = s*1.1\n",
        "    else:\n",
        "      snew = s*1.15\n",
        "    snew = round(snew, 2)\n",
        "    print(f\"The updated salary is {snew}\")\n",
        "except:\n",
        "  print('Enter a valid input')"
      ],
      "id": "UDIxDXd4Kv03"
    },
    {
      "cell_type": "markdown",
      "metadata": {
        "id": "0cffc0d4"
      },
      "source": [
        "**8. Count down from 5 to 1 with 2 seconds and print \"END\" at the end.**"
      ],
      "id": "0cffc0d4"
    },
    {
      "cell_type": "code",
      "execution_count": null,
      "metadata": {
        "colab": {
          "base_uri": "https://localhost:8080/"
        },
        "id": "Ry4KkNMMPNph",
        "outputId": "6b91f159-c66c-46ce-e864-0411cac5cab0"
      },
      "outputs": [
        {
          "output_type": "stream",
          "name": "stdout",
          "text": [
            "5\n",
            "4\n",
            "3\n",
            "2\n",
            "1\n",
            "END\n"
          ]
        }
      ],
      "source": [
        "import time\n",
        "for i in range(5, 0, -1):\n",
        "  print(i)\n",
        "  time.sleep(2)\n",
        "print('END')"
      ],
      "id": "Ry4KkNMMPNph"
    },
    {
      "cell_type": "markdown",
      "metadata": {
        "id": "15d75770"
      },
      "source": [
        "**9. Print odd numbers in the list b = [23, 56, 76, 32, 89, 23, 30].**"
      ],
      "id": "15d75770"
    },
    {
      "cell_type": "code",
      "execution_count": null,
      "metadata": {
        "colab": {
          "base_uri": "https://localhost:8080/"
        },
        "id": "6NX4o7VsPzb1",
        "outputId": "0815d3d3-093c-4741-c63a-646fef96e932"
      },
      "outputs": [
        {
          "output_type": "stream",
          "name": "stdout",
          "text": [
            "[23, 89, 23]\n"
          ]
        }
      ],
      "source": [
        "lst = [23,56,76,32,89,23,30]\n",
        "l = []\n",
        "for i in lst:\n",
        "  if i%2 == 1:\n",
        "    l+=[i]\n",
        "print(l)"
      ],
      "id": "6NX4o7VsPzb1"
    },
    {
      "cell_type": "markdown",
      "metadata": {
        "id": "8b1dbed5-1f04-4804-8257-e406dcdebe53"
      },
      "source": [
        "**10. Write a program to determine if a given number is divisible by both 5 and 3.**"
      ],
      "id": "8b1dbed5-1f04-4804-8257-e406dcdebe53"
    },
    {
      "cell_type": "code",
      "execution_count": null,
      "metadata": {
        "colab": {
          "base_uri": "https://localhost:8080/"
        },
        "id": "dbb29004-a001-4554-b419-ec00904bda84",
        "outputId": "6257573b-a7bc-42ec-f576-28bb3681679b"
      },
      "outputs": [
        {
          "output_type": "stream",
          "name": "stdout",
          "text": [
            "Enter a number: -123\n",
            "not divisible\n"
          ]
        }
      ],
      "source": [
        "try:\n",
        "  n = int(input('Enter a number: '))\n",
        "  if n%3 == 0 and n % 5 == 0:\n",
        "    print(f\"{n} is divisible by both 3 and 5\")\n",
        "  else:\n",
        "    print('not divisible')\n",
        "except:\n",
        "  print('enter a valid input')\n",
        "\n",
        "#assumed that n is a complete number: both positive and negative"
      ],
      "id": "dbb29004-a001-4554-b419-ec00904bda84"
    },
    {
      "cell_type": "code",
      "execution_count": null,
      "metadata": {
        "id": "O9j3jFX_TKEw"
      },
      "outputs": [],
      "source": [],
      "id": "O9j3jFX_TKEw"
    }
  ],
  "metadata": {
    "colab": {
      "provenance": [],
      "include_colab_link": true
    },
    "kernelspec": {
      "display_name": "Python 3 (ipykernel)",
      "language": "python",
      "name": "python3"
    },
    "language_info": {
      "codemirror_mode": {
        "name": "ipython",
        "version": 3
      },
      "file_extension": ".py",
      "mimetype": "text/x-python",
      "name": "python",
      "nbconvert_exporter": "python",
      "pygments_lexer": "ipython3",
      "version": "3.9.12"
    }
  },
  "nbformat": 4,
  "nbformat_minor": 5
}