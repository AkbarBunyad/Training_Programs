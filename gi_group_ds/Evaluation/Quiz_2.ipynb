{
  "cells": [
    {
      "cell_type": "markdown",
      "metadata": {
        "id": "view-in-github",
        "colab_type": "text"
      },
      "source": [
        "<a href=\"https://colab.research.google.com/github/AkbarBunyad/Training_Programs/blob/main/gi_group_ds/exams/Quiz_2.ipynb\" target=\"_parent\"><img src=\"https://colab.research.google.com/assets/colab-badge.svg\" alt=\"Open In Colab\"/></a>"
      ]
    },
    {
      "cell_type": "markdown",
      "id": "d1f83743",
      "metadata": {
        "id": "d1f83743"
      },
      "source": [
        "#####  1.Create a Python function called convert_temperature that converts temperatures from Fahrenheit to Celsius and vice versa. The function should take two arguments: the temperature to convert and the unit of the input temperature ('F' for Fahrenheit, 'C' for Celsius) and return the converted temperature."
      ]
    },
    {
      "cell_type": "code",
      "execution_count": null,
      "id": "df2ad911",
      "metadata": {
        "id": "df2ad911",
        "colab": {
          "base_uri": "https://localhost:8080/",
          "height": 35
        },
        "outputId": "72b2996c-f87c-401c-936c-199f1a0cba69"
      },
      "outputs": [
        {
          "output_type": "execute_result",
          "data": {
            "text/plain": [
              "'4.444444444444445 Celcius or Fahrenheit depending on the context'"
            ],
            "application/vnd.google.colaboratory.intrinsic+json": {
              "type": "string"
            }
          },
          "metadata": {},
          "execution_count": 6
        }
      ],
      "source": [
        "def convert_temperature(a, b):\n",
        "  if b == 'F':\n",
        "    a=5/9 * ( a- 32)\n",
        "  elif b == 'C':\n",
        "    a=(1.8*a+32)\n",
        "  else:\n",
        "    return 'add valid input for the second feature'\n",
        "  return f'{a} Celcius or Fahrenheit depending on the context'\n",
        "convert_temperature(40, 'F')"
      ]
    },
    {
      "cell_type": "markdown",
      "id": "a48c61ff",
      "metadata": {
        "id": "a48c61ff"
      },
      "source": [
        "###### 2.Implement a Python function named perform_operation that takes three arguments: two numbers and a string denoting an operation ('add', 'subtract', 'multiply', 'divide'). Inside perform_operation, define nested functions for each of the operations that perform the corresponding mathematical operation and return the result. perform_operation should return the result of applying the specified operation to the two numbers."
      ]
    },
    {
      "cell_type": "code",
      "execution_count": null,
      "id": "864a009b",
      "metadata": {
        "id": "864a009b",
        "colab": {
          "base_uri": "https://localhost:8080/",
          "height": 35
        },
        "outputId": "7d5dbc36-2add-4701-bdbc-897d83412cdc"
      },
      "outputs": [
        {
          "output_type": "execute_result",
          "data": {
            "text/plain": [
              "'add one of the operations given'"
            ],
            "application/vnd.google.colaboratory.intrinsic+json": {
              "type": "string"
            }
          },
          "metadata": {},
          "execution_count": 42
        }
      ],
      "source": [
        "def perform_operation(a, b, c):\n",
        "  def add(a, b):\n",
        "    return a + b\n",
        "  def subtract(a,b):\n",
        "    return a - b\n",
        "  def divide(a,b):\n",
        "    return a/b\n",
        "  def multiply(a,b):\n",
        "    return a*b\n",
        "  lst = ['add', 'subtract', 'multiply', 'divide']\n",
        "  if (type(a) is int) and (type(b) is int) and (type(c) is str):\n",
        "    if c in lst:\n",
        "      if c == 'add':\n",
        "        return add(a,b)\n",
        "      elif c == 'subtract':\n",
        "        return subtract(a, b)\n",
        "      elif c == 'multiply':\n",
        "        return multiply(a, b)\n",
        "      else:\n",
        "        return divide(a, b)\n",
        "    else:\n",
        "      return 'add one of the operations given'\n",
        "  else:\n",
        "    return 'enter proper data types for input features'\n",
        "perform_operation(3, 12, 'ssubtract')"
      ]
    },
    {
      "cell_type": "markdown",
      "id": "2c603747",
      "metadata": {
        "id": "2c603747"
      },
      "source": [
        "##### 3.Enhance the Vehicle class by adding an instance variable color initialized through an __init__ method. Then, create a method show_color that returns the color of the vehicle."
      ]
    },
    {
      "cell_type": "code",
      "execution_count": null,
      "id": "a6454ec8",
      "metadata": {
        "id": "a6454ec8",
        "colab": {
          "base_uri": "https://localhost:8080/"
        },
        "outputId": "aeb35e76-83f8-4415-9dbb-8e01f79924f5"
      },
      "outputs": [
        {
          "output_type": "stream",
          "name": "stdout",
          "text": [
            "Color: blue\n"
          ]
        }
      ],
      "source": [
        "class Vehicle:\n",
        "  def __init__(self, color):\n",
        "    self.color = color\n",
        "  def show_color(self):\n",
        "    return self.color\n",
        "v = Vehicle('blue')\n",
        "print(f'Color: {v.show_color()}')"
      ]
    },
    {
      "cell_type": "markdown",
      "id": "d48764d6",
      "metadata": {
        "id": "d48764d6"
      },
      "source": [
        "##### 4.Define a function create_profile that takes a mandatory name and an optional age and email as keyword arguments. The function should return a dictionary with the keys 'name', 'age', and 'email', corresponding to the values provided to the function."
      ]
    },
    {
      "cell_type": "code",
      "execution_count": null,
      "id": "cc00d33e",
      "metadata": {
        "id": "cc00d33e",
        "colab": {
          "base_uri": "https://localhost:8080/"
        },
        "outputId": "14bafe3a-ecad-4a93-ba6c-ac555f4d264f"
      },
      "outputs": [
        {
          "output_type": "execute_result",
          "data": {
            "text/plain": [
              "{'name': 'Akbar', 'age': 19, 'email': 'akbar.bunyadzade.std@bhos.edu.az'}"
            ]
          },
          "metadata": {},
          "execution_count": 34
        }
      ],
      "source": [
        "def create_profile(a, b, c):\n",
        "  dct = {}\n",
        "  dct['name'] = a\n",
        "  dct['age'] = b\n",
        "  dct['email'] = c\n",
        "  return dct\n",
        "create_profile('Akbar', 19, 'akbar.bunyadzade.std@bhos.edu.az')"
      ]
    },
    {
      "cell_type": "markdown",
      "id": "e3bbbcdb",
      "metadata": {
        "id": "e3bbbcdb"
      },
      "source": [
        "##### 5.Write a function get_math_operation that takes an argument op where op is either \"add\" or \"multiply\". Depending on op, the function returns another function that adds or multiplies two numbers. If op is not recognized, return No"
      ]
    },
    {
      "cell_type": "code",
      "execution_count": null,
      "id": "ebe1eb0d",
      "metadata": {
        "id": "ebe1eb0d",
        "colab": {
          "base_uri": "https://localhost:8080/",
          "height": 53
        },
        "outputId": "dc5982b5-e623-4186-8f72-69f39a441f25"
      },
      "outputs": [
        {
          "name": "stdout",
          "output_type": "stream",
          "text": [
            "enter argument: 13\n"
          ]
        },
        {
          "output_type": "execute_result",
          "data": {
            "text/plain": [
              "'No'"
            ],
            "application/vnd.google.colaboratory.intrinsic+json": {
              "type": "string"
            }
          },
          "metadata": {},
          "execution_count": 45
        }
      ],
      "source": [
        "def get_math(op):\n",
        "  lst = ['add', 'multiply']\n",
        "  def add(a, b):\n",
        "      return a + b\n",
        "  def multiply(a,b):\n",
        "      return a*b\n",
        "  if op in lst:\n",
        "    a = float(input('enter the 1st num: '))\n",
        "    b = float(input('enter the 2nd num: '))\n",
        "    if op == 'add':\n",
        "      return add(a, b)\n",
        "    else:\n",
        "      return multiply(a, b)\n",
        "  else:\n",
        "    return 'No'\n",
        "op = input('enter argument: ')\n",
        "get_math(op)"
      ]
    },
    {
      "cell_type": "code",
      "source": [],
      "metadata": {
        "id": "OWzdMXmLyDN4"
      },
      "id": "OWzdMXmLyDN4",
      "execution_count": null,
      "outputs": []
    }
  ],
  "metadata": {
    "kernelspec": {
      "display_name": "Python 3 (ipykernel)",
      "language": "python",
      "name": "python3"
    },
    "language_info": {
      "codemirror_mode": {
        "name": "ipython",
        "version": 3
      },
      "file_extension": ".py",
      "mimetype": "text/x-python",
      "name": "python",
      "nbconvert_exporter": "python",
      "pygments_lexer": "ipython3",
      "version": "3.11.2"
    },
    "colab": {
      "provenance": [],
      "include_colab_link": true
    }
  },
  "nbformat": 4,
  "nbformat_minor": 5
}