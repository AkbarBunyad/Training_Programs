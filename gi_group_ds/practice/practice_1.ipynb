{
  "nbformat": 4,
  "nbformat_minor": 0,
  "metadata": {
    "colab": {
      "provenance": [],
      "authorship_tag": "ABX9TyPhtM1pG6HWosSwflgXDhOS",
      "include_colab_link": true
    },
    "kernelspec": {
      "name": "python3",
      "display_name": "Python 3"
    },
    "language_info": {
      "name": "python"
    }
  },
  "cells": [
    {
      "cell_type": "markdown",
      "metadata": {
        "id": "view-in-github",
        "colab_type": "text"
      },
      "source": [
        "<a href=\"https://colab.research.google.com/github/AkbarBunyad/Training_Programs/blob/main/gi_group_ds/practice/practice_1.ipynb\" target=\"_parent\"><img src=\"https://colab.research.google.com/assets/colab-badge.svg\" alt=\"Open In Colab\"/></a>"
      ]
    },
    {
      "cell_type": "markdown",
      "source": [
        "1.Istifadəçidən yaşını soruşun və onun 18 yaşdan böyük olub-olmadığını yoxlayın. Əgər böyükdürsə, \"Siz yetiskinsiz\" mesajını, əks halda \"Siz yetiskin deyilsiniz\" mesajını çap edin."
      ],
      "metadata": {
        "id": "v_uFD5uriWWz"
      }
    },
    {
      "cell_type": "code",
      "execution_count": null,
      "metadata": {
        "colab": {
          "base_uri": "https://localhost:8080/"
        },
        "id": "87he0ylqiMsp",
        "outputId": "3cead22b-8f75-45cd-d80a-2d6de91e9df5"
      },
      "outputs": [
        {
          "output_type": "stream",
          "name": "stdout",
          "text": [
            "yas daxil edin: 2-\n",
            "duzgun yas daxil edin\n"
          ]
        }
      ],
      "source": [
        "try:\n",
        "    n = input('yas daxil edin: ')\n",
        "    m = int(n)\n",
        "    if m == int(n):\n",
        "        if m > 18:\n",
        "            print('yetiskinsen')\n",
        "        else:\n",
        "            print('deyilsen')\n",
        "except:\n",
        "    print('duzgun yas daxil edin')"
      ]
    },
    {
      "cell_type": "markdown",
      "source": [
        "2.Istifadəçidən iki ədəd daxil etməsini istəyin və bu ədədlərdən hansının böyük olduğunu çap edin. Əgər ədədlər bərabərdirsə, \"Ədədlər bərabərdir\" mesajını çap edin."
      ],
      "metadata": {
        "id": "d5Ne0onHiqwT"
      }
    },
    {
      "cell_type": "code",
      "source": [
        "a = input('birinci ededi daxil edin: ')\n",
        "b = input('ikinci ededi daxil edin: ')\n",
        "try:\n",
        "    a = float(a)\n",
        "    b = float(b)\n",
        "    if a == b:\n",
        "        print('ededler beraberdir')\n",
        "    elif a > b:\n",
        "        print('birinci eded boyukdur')\n",
        "    else:\n",
        "        print('ikinci eded boyukdur')\n",
        "except:\n",
        "    print('duzgun input formati daxil edin')"
      ],
      "metadata": {
        "colab": {
          "base_uri": "https://localhost:8080/"
        },
        "id": "TJnyKQOKiksz",
        "outputId": "44dd18de-2aca-46d2-969c-29359d1a6325"
      },
      "execution_count": null,
      "outputs": [
        {
          "output_type": "stream",
          "name": "stdout",
          "text": [
            "birinci ededi daxil edin: 9\n",
            "ikinci ededi daxil edin: 0\n",
            "birinci eded boyukdur\n"
          ]
        }
      ]
    },
    {
      "cell_type": "markdown",
      "source": [
        "3.Bir dəyişəndə hava temperaturunu saxlayın. Əgər temperatur 0 dərəcədən aşağıdırsa, \"Çox soyuq\" mesajını, əgər temperatur 0 ilə 20 dərəcə arasındadırsa, \"Soyuq\" mesajını, əks halda \"Ilıq\" mesajını çap edin."
      ],
      "metadata": {
        "id": "7depZ77Tixjn"
      }
    },
    {
      "cell_type": "code",
      "source": [
        "try:\n",
        "    a = input('temperaturu daxil edin: ')\n",
        "    a = float(a)\n",
        "    if a < 0:\n",
        "        print('cox soyuq')\n",
        "    elif 0 < a < 20:\n",
        "        print('soyuq')\n",
        "    else:\n",
        "        print('iliq')\n",
        "except:\n",
        "    print('duzgun temperatur format daxil edin')"
      ],
      "metadata": {
        "colab": {
          "base_uri": "https://localhost:8080/"
        },
        "id": "UAekmDqhitpT",
        "outputId": "4e6f580e-00f4-451c-97ba-815afd9d0149"
      },
      "execution_count": null,
      "outputs": [
        {
          "output_type": "stream",
          "name": "stdout",
          "text": [
            "temperaturu daxil edin: 89\n",
            "iliq\n"
          ]
        }
      ]
    },
    {
      "cell_type": "markdown",
      "source": [
        "4.Bir for döngüsü istifadə edərək, 1-dən 10-a qədər olan ədədləri çap edin."
      ],
      "metadata": {
        "id": "TEBdw3Bui3Vo"
      }
    },
    {
      "cell_type": "code",
      "source": [
        "for i in range(1, 11):\n",
        "    print(i, end = ' ')"
      ],
      "metadata": {
        "colab": {
          "base_uri": "https://localhost:8080/"
        },
        "id": "_VpLRLWki0Co",
        "outputId": "fc532c92-efdd-46ae-87d9-57f14de9f5a9"
      },
      "execution_count": null,
      "outputs": [
        {
          "output_type": "stream",
          "name": "stdout",
          "text": [
            "1 2 3 4 5 6 7 8 9 10 "
          ]
        }
      ]
    },
    {
      "cell_type": "markdown",
      "source": [
        "5.Bir error handling bloku yazın ki, istifadəçidən bir ədəd alın və onu integer-a çevirin. Əgər daxil edilən məlumat ədəd deyilsə, \"Zəhmət olmasa, düzgün bir ədəd daxil edin\" mesajını çap edin."
      ],
      "metadata": {
        "id": "8q4WNfUsi8-X"
      }
    },
    {
      "cell_type": "code",
      "source": [
        "try:\n",
        "    a = input()\n",
        "    b = int(a)\n",
        "    if b == int(a):\n",
        "        print(a)\n",
        "except:\n",
        "    print('duzgun eded daxil edin')"
      ],
      "metadata": {
        "colab": {
          "base_uri": "https://localhost:8080/"
        },
        "id": "ANcweNL8i7rM",
        "outputId": "75b43412-0791-45ef-ff0e-e8b20437b868"
      },
      "execution_count": null,
      "outputs": [
        {
          "output_type": "stream",
          "name": "stdout",
          "text": [
            "-11\n",
            "-11\n"
          ]
        }
      ]
    },
    {
      "cell_type": "markdown",
      "source": [
        "6.Istifadəçidən bir ədəd daxil etməsini istəyin və bu ədədin mükəmməl ədəd olub olmadığını yoxlayın. Bir ədəd özündən başqa bütün müsbət bölənlərinin cəmi özünə bərabərdirsə, mükəmməl ədəd hesab edilir."
      ],
      "metadata": {
        "id": "NmlqYRAejwBJ"
      }
    },
    {
      "cell_type": "code",
      "source": [
        "n = int(input('eded daxil et: '))\n",
        "a = 0\n",
        "for i in range(1, n):\n",
        "    if n%i == 0:\n",
        "        a+=i\n",
        "if a == n:\n",
        "    print('ozudu')\n",
        "else:\n",
        "    print('deyil')"
      ],
      "metadata": {
        "colab": {
          "base_uri": "https://localhost:8080/"
        },
        "id": "1MRm_dpjjsW4",
        "outputId": "47549ff2-78e8-4e0e-fcc4-fc0b7f998229"
      },
      "execution_count": null,
      "outputs": [
        {
          "output_type": "stream",
          "name": "stdout",
          "text": [
            "eded daxil et: 28\n",
            "ozudu\n"
          ]
        }
      ]
    },
    {
      "cell_type": "markdown",
      "source": [
        "7.Bir ədəd daxil edin və bu ədədin faktorialını hesablayın."
      ],
      "metadata": {
        "id": "MWKsCW3-j2ue"
      }
    },
    {
      "cell_type": "code",
      "source": [
        "a = int(input('eded: '))\n",
        "x = 1\n",
        "for i in range(1, a+1):\n",
        "    x*=i\n",
        "print(x)"
      ],
      "metadata": {
        "colab": {
          "base_uri": "https://localhost:8080/"
        },
        "id": "3M18j1JejzXp",
        "outputId": "a1fcc23d-9a61-402e-fa3d-cdaa31d2e2e1"
      },
      "execution_count": null,
      "outputs": [
        {
          "output_type": "stream",
          "name": "stdout",
          "text": [
            "eded: 5\n",
            "120\n"
          ]
        }
      ]
    },
    {
      "cell_type": "markdown",
      "source": [
        "8.Bir sıra ədədləri daxil edin (məsələn, vergül ilə ayrılmış şəkildə) və bu ədədlərin cəmini hesablayın."
      ],
      "metadata": {
        "id": "ARsV4Nf2j8uB"
      }
    },
    {
      "cell_type": "code",
      "source": [
        "i = input('enter multiple values: ')\n",
        "inn = i.split(',')\n",
        "s = 0\n",
        "for j in inn:\n",
        "    s+=float(j)\n",
        "print(s)"
      ],
      "metadata": {
        "colab": {
          "base_uri": "https://localhost:8080/"
        },
        "id": "PWopgQIHj6Nl",
        "outputId": "6d8a842b-0fde-4c32-8d17-ef87feb1e3a0"
      },
      "execution_count": null,
      "outputs": [
        {
          "output_type": "stream",
          "name": "stdout",
          "text": [
            "enter multiple values: 23, 45, 67\n",
            "135.0\n"
          ]
        }
      ]
    },
    {
      "cell_type": "markdown",
      "source": [
        "9.Bir dəyişəndə saxlanılan mətnin hər bir simvolunu (hərfini) yeni sətirdə çap edin."
      ],
      "metadata": {
        "id": "LJ7Sa--PkDuM"
      }
    },
    {
      "cell_type": "code",
      "source": [
        "i = input('stringi daxil edin: ')\n",
        "for j in i:\n",
        "    print(j)"
      ],
      "metadata": {
        "colab": {
          "base_uri": "https://localhost:8080/"
        },
        "id": "NZ2fiE7xj-vp",
        "outputId": "df342554-d60b-4b90-bc8b-07f11fd06a20"
      },
      "execution_count": null,
      "outputs": [
        {
          "output_type": "stream",
          "name": "stdout",
          "text": [
            "stringi daxil edin: SOCAR\n",
            "S\n",
            "O\n",
            "C\n",
            "A\n",
            "R\n"
          ]
        }
      ]
    },
    {
      "cell_type": "markdown",
      "source": [
        "10.Istifadəçidən bir mətn daxil etməsini istəyin və bu mətndəki sözlərin sayını hesablayın."
      ],
      "metadata": {
        "id": "3K6CFzBxkIsf"
      }
    },
    {
      "cell_type": "code",
      "source": [
        "i = input('metni daxil edin: ')\n",
        "\n",
        "#print(len(i.split()))\n",
        "\n",
        "w = 0\n",
        "flag = False\n",
        "for char in i:\n",
        "    if char.isspace():\n",
        "        if flag:\n",
        "            w+=1\n",
        "            flag = False\n",
        "    else:\n",
        "        flag = True\n",
        "if flag:\n",
        "    w+=1\n",
        "print(w)"
      ],
      "metadata": {
        "colab": {
          "base_uri": "https://localhost:8080/"
        },
        "id": "WcIK-YRQkGBz",
        "outputId": "95a8aa48-f81b-4de4-beff-7ca7ef616876"
      },
      "execution_count": null,
      "outputs": [
        {
          "output_type": "stream",
          "name": "stdout",
          "text": [
            "metni daxil edin: We will rock you\n",
            "4\n"
          ]
        }
      ]
    },
    {
      "cell_type": "markdown",
      "source": [
        "11.Bir mətn daxil edin və bu mətndəki hərflərin sayını (böyük və kiçik hərf fərqi olmadan) hesablayın."
      ],
      "metadata": {
        "id": "KZj2rXsokQFY"
      }
    },
    {
      "cell_type": "code",
      "source": [
        "i = input('metn daxil edin: ')\n",
        "\n",
        "w = 0\n",
        "for j in i:\n",
        "    if j.isalpha():\n",
        "        w+=1\n",
        "print(w)"
      ],
      "metadata": {
        "colab": {
          "base_uri": "https://localhost:8080/"
        },
        "id": "D574pqP7kL2u",
        "outputId": "2cc9efb4-558e-4875-8069-0ee69cd27c18"
      },
      "execution_count": null,
      "outputs": [
        {
          "output_type": "stream",
          "name": "stdout",
          "text": [
            "metn daxil edin: Akbar Soccer football\n",
            "19\n"
          ]
        }
      ]
    },
    {
      "cell_type": "markdown",
      "source": [
        "12.Bir ədəd daxil edin və bu ədədin sadə bölənlərini çap edin."
      ],
      "metadata": {
        "id": "_6RqSOQVkaTj"
      }
    },
    {
      "cell_type": "code",
      "source": [
        "i = int(input('ededi daxil et: '))\n",
        "l = []\n",
        "w = 0\n",
        "for j in range(1, i):\n",
        "    w = 0\n",
        "    if i%j == 0 and j not in l:\n",
        "        for k in range(1, j):\n",
        "            if j%k == 0:\n",
        "                w+=1\n",
        "        if w<=1:\n",
        "            l+=[j]\n",
        "print(l[1: len(l)])"
      ],
      "metadata": {
        "colab": {
          "base_uri": "https://localhost:8080/"
        },
        "id": "7Fd4KrAvkS5x",
        "outputId": "5d522a86-e868-4cb9-b4e0-6a8ac6b23474"
      },
      "execution_count": null,
      "outputs": [
        {
          "output_type": "stream",
          "name": "stdout",
          "text": [
            "ededi daxil et: 345\n",
            "[3, 5, 23]\n"
          ]
        }
      ]
    },
    {
      "cell_type": "markdown",
      "source": [
        "13.Bir for döngüsü istifadə edərək, 1-dən 100-ə qədər olan ədədlərin kvadratlarını çap edin."
      ],
      "metadata": {
        "id": "lkJbhzUXkigQ"
      }
    },
    {
      "cell_type": "code",
      "source": [
        "for i in range(1, 101):\n",
        "    print(i**2, end = ', ' if i < 100 else '')"
      ],
      "metadata": {
        "colab": {
          "base_uri": "https://localhost:8080/"
        },
        "id": "F3lLMA1UkgIW",
        "outputId": "aefc0c92-ee52-4ad1-ab77-a85b8fad26b2"
      },
      "execution_count": null,
      "outputs": [
        {
          "output_type": "stream",
          "name": "stdout",
          "text": [
            "1, 4, 9, 16, 25, 36, 49, 64, 81, 100, 121, 144, 169, 196, 225, 256, 289, 324, 361, 400, 441, 484, 529, 576, 625, 676, 729, 784, 841, 900, 961, 1024, 1089, 1156, 1225, 1296, 1369, 1444, 1521, 1600, 1681, 1764, 1849, 1936, 2025, 2116, 2209, 2304, 2401, 2500, 2601, 2704, 2809, 2916, 3025, 3136, 3249, 3364, 3481, 3600, 3721, 3844, 3969, 4096, 4225, 4356, 4489, 4624, 4761, 4900, 5041, 5184, 5329, 5476, 5625, 5776, 5929, 6084, 6241, 6400, 6561, 6724, 6889, 7056, 7225, 7396, 7569, 7744, 7921, 8100, 8281, 8464, 8649, 8836, 9025, 9216, 9409, 9604, 9801, 10000"
          ]
        }
      ]
    },
    {
      "cell_type": "markdown",
      "source": [
        "14.Bir while döngüsü istifadə edərək, istifadəçidən daxil edilmiş ədədlərin ortalamasını hesablayın. Döngü istifadəçi tərəfindən xüsusi bir söz (məsələn, \"stop\") daxil edilənə qədər davam etsin."
      ],
      "metadata": {
        "id": "bp4_TVXwko5s"
      }
    },
    {
      "cell_type": "code",
      "source": [
        "lst = []\n",
        "t = 0\n",
        "i = input('enter the number or write stop to finish the loop: ')\n",
        "c = 0\n",
        "while i != 'stop':\n",
        "    try:\n",
        "        num = float(i)\n",
        "        lst+=[i]\n",
        "        c+=1\n",
        "        t+=num\n",
        "    except:\n",
        "        print('invalid input')\n",
        "    i = input('enter the number or write stop to finish the loop: ')\n",
        "print(lst)\n",
        "print(t/c)"
      ],
      "metadata": {
        "colab": {
          "base_uri": "https://localhost:8080/"
        },
        "id": "ig-rc5Kikkos",
        "outputId": "fa84fa9e-f82a-4aa7-fd92-2613beae63b8"
      },
      "execution_count": null,
      "outputs": [
        {
          "output_type": "stream",
          "name": "stdout",
          "text": [
            "enter the number or write stop to finish the loop: 4\n",
            "enter the number or write stop to finish the loop: 6\n",
            "enter the number or write stop to finish the loop: 34\n",
            "enter the number or write stop to finish the loop: stop\n",
            "['4', '6', '34']\n",
            "14.666666666666666\n"
          ]
        }
      ]
    },
    {
      "cell_type": "code",
      "source": [],
      "metadata": {
        "id": "uRFT_4IvkoD3"
      },
      "execution_count": null,
      "outputs": []
    }
  ]
}