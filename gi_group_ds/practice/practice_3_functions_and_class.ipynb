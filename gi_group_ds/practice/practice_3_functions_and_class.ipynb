{
  "nbformat": 4,
  "nbformat_minor": 0,
  "metadata": {
    "colab": {
      "provenance": [],
      "authorship_tag": "ABX9TyNJggoyygGbChnVeCcNxrOq",
      "include_colab_link": true
    },
    "kernelspec": {
      "name": "python3",
      "display_name": "Python 3"
    },
    "language_info": {
      "name": "python"
    }
  },
  "cells": [
    {
      "cell_type": "markdown",
      "metadata": {
        "id": "view-in-github",
        "colab_type": "text"
      },
      "source": [
        "<a href=\"https://colab.research.google.com/github/AkbarBunyad/Training_Programs/blob/main/gi_group_ds/practice/practice_3_functions_and_class.ipynb\" target=\"_parent\"><img src=\"https://colab.research.google.com/assets/colab-badge.svg\" alt=\"Open In Colab\"/></a>"
      ]
    },
    {
      "cell_type": "markdown",
      "source": [],
      "metadata": {
        "id": "9TpyEBG0nHc7"
      }
    },
    {
      "cell_type": "markdown",
      "source": [
        "1.Write a function that takes a number as input and returns its square."
      ],
      "metadata": {
        "id": "0cQTpmBlnPYK"
      }
    },
    {
      "cell_type": "code",
      "execution_count": null,
      "metadata": {
        "colab": {
          "base_uri": "https://localhost:8080/"
        },
        "id": "Zewr03cTOvSg",
        "outputId": "49b2ccb1-b180-411e-e201-db1207e721f5"
      },
      "outputs": [
        {
          "output_type": "stream",
          "name": "stdout",
          "text": [
            "Enter the number: 13\n",
            "Square of 13 is 169\n"
          ]
        }
      ],
      "source": [
        "def func(n):\n",
        "  return n**2\n",
        "i = int(input('Enter the number: '))\n",
        "print(f'Square of {i} is {func(i)}')"
      ]
    },
    {
      "cell_type": "markdown",
      "source": [
        "2.Write a function that takes three numbers as input and returns the largest number among them."
      ],
      "metadata": {
        "id": "9ytdHa87nTwk"
      }
    },
    {
      "cell_type": "code",
      "source": [
        "def largest():\n",
        "  lst = []\n",
        "  for i in range(3):\n",
        "    lst+=[float(input('Enter the number: '))]\n",
        "  mn = lst[0]\n",
        "  for i in lst:\n",
        "    if i > mn:\n",
        "      mn = i\n",
        "  return mn\n",
        "\n",
        "largest()"
      ],
      "metadata": {
        "colab": {
          "base_uri": "https://localhost:8080/"
        },
        "id": "CGq7UuDTPN5a",
        "outputId": "9999453e-1eb6-482e-a2b7-af41679a728c"
      },
      "execution_count": null,
      "outputs": [
        {
          "name": "stdout",
          "output_type": "stream",
          "text": [
            "Enter the number: 12\n",
            "Enter the number: 14\n",
            "Enter the number: 45\n"
          ]
        },
        {
          "output_type": "execute_result",
          "data": {
            "text/plain": [
              "45.0"
            ]
          },
          "metadata": {},
          "execution_count": 8
        }
      ]
    },
    {
      "cell_type": "markdown",
      "source": [
        "3. Write a function to calculate the factorial of a number. The factorial is the product of all positive integers up to that number."
      ],
      "metadata": {
        "id": "qM3da2WPnWPG"
      }
    },
    {
      "cell_type": "code",
      "source": [
        "def fact(n):\n",
        "  s = 1\n",
        "  for i in range(1, n+1):\n",
        "    s*=i\n",
        "  return s\n",
        "fact(5)"
      ],
      "metadata": {
        "colab": {
          "base_uri": "https://localhost:8080/"
        },
        "id": "ZlhHw1GWQHgB",
        "outputId": "6e6091fc-8212-4949-c83e-1c2244d939dc"
      },
      "execution_count": null,
      "outputs": [
        {
          "output_type": "execute_result",
          "data": {
            "text/plain": [
              "120"
            ]
          },
          "metadata": {},
          "execution_count": 9
        }
      ]
    },
    {
      "cell_type": "markdown",
      "source": [
        "5. Write a function that takes a list of numbers from the user and calculates the average."
      ],
      "metadata": {
        "id": "1AyC1JpSnYYv"
      }
    },
    {
      "cell_type": "code",
      "source": [
        "def av(n):\n",
        "  c = 0\n",
        "  for i in range(n):\n",
        "    c+=float(input('Enter the number: '))\n",
        "  return c/n\n",
        "av(5)"
      ],
      "metadata": {
        "colab": {
          "base_uri": "https://localhost:8080/"
        },
        "id": "OF79UV4dQVsd",
        "outputId": "c8af7632-7836-47d9-9fc8-844453a06fa8"
      },
      "execution_count": null,
      "outputs": [
        {
          "name": "stdout",
          "output_type": "stream",
          "text": [
            "Enter the number: 12\n",
            "Enter the number: 13\n",
            "Enter the number: 13\n",
            "Enter the number: 14\n",
            "Enter the number: 15\n"
          ]
        },
        {
          "output_type": "execute_result",
          "data": {
            "text/plain": [
              "13.4"
            ]
          },
          "metadata": {},
          "execution_count": 11
        }
      ]
    },
    {
      "cell_type": "markdown",
      "source": [
        "6.Write a function that takes a list of numbers and separates the odd and even numbers into two different lists."
      ],
      "metadata": {
        "id": "d5iK2c4mniMy"
      }
    },
    {
      "cell_type": "code",
      "source": [
        "def separator(n):\n",
        "  od = []\n",
        "  ev = []\n",
        "  for i in range(n):\n",
        "    nt = float(input('Enter the number: '))\n",
        "    if nt % 2 == 0:\n",
        "      ev +=[nt]\n",
        "    else:\n",
        "      od+=[nt]\n",
        "  return f'list for odds: {od} and for evens: {ev}'\n",
        "separator(3)"
      ],
      "metadata": {
        "colab": {
          "base_uri": "https://localhost:8080/",
          "height": 87
        },
        "id": "zCashjDFQ3kg",
        "outputId": "9181fed3-b27f-4569-f496-f339a050d697"
      },
      "execution_count": null,
      "outputs": [
        {
          "name": "stdout",
          "output_type": "stream",
          "text": [
            "Enter the number: 12\n",
            "Enter the number: 23\n",
            "Enter the number: 45\n"
          ]
        },
        {
          "output_type": "execute_result",
          "data": {
            "text/plain": [
              "'list for odds: [23.0, 45.0] and for evens: [12.0]'"
            ],
            "application/vnd.google.colaboratory.intrinsic+json": {
              "type": "string"
            }
          },
          "metadata": {},
          "execution_count": 22
        }
      ]
    },
    {
      "cell_type": "markdown",
      "source": [
        "7.Create a function that takes two numbers as inputs and returns their sum."
      ],
      "metadata": {
        "id": "-1VxhapAnldH"
      }
    },
    {
      "cell_type": "code",
      "source": [
        "def fenc():\n",
        "  s = 0\n",
        "  for i in range(2):\n",
        "    s+=float(input('Enter the number: '))\n",
        "  return s\n",
        "fenc()"
      ],
      "metadata": {
        "colab": {
          "base_uri": "https://localhost:8080/"
        },
        "id": "N3z8yuGUR4jv",
        "outputId": "d45a3b3f-e119-4fa7-fe83-c90a86a56c5c"
      },
      "execution_count": null,
      "outputs": [
        {
          "name": "stdout",
          "output_type": "stream",
          "text": [
            "Enter the number: 12\n",
            "Enter the number: 23\n"
          ]
        },
        {
          "output_type": "execute_result",
          "data": {
            "text/plain": [
              "35.0"
            ]
          },
          "metadata": {},
          "execution_count": 23
        }
      ]
    },
    {
      "cell_type": "markdown",
      "source": [
        "4. Write a function that returns the nth Fibonacci number. The Fibonacci series is a sequence where each number is the sum of the two preceding ones, starting from 0 and 1."
      ],
      "metadata": {
        "id": "4eSBeM9UnpH6"
      }
    },
    {
      "cell_type": "code",
      "source": [
        "#fibonacci sequence\n",
        "'''def fibon(n):\n",
        "  if n<=0:\n",
        "    return 'Invalid input'\n",
        "  elif n == 1:\n",
        "    return 0\n",
        "  elif n == 2:\n",
        "    return 1\n",
        "  else:\n",
        "    fib_seq = [0,1]\n",
        "    for i in range(2, n):\n",
        "      fib_seq+=[fib_seq[-1] + fib_seq[-2]]\n",
        "    return fib_seq[-1]\n",
        "fibon(5)'''\n",
        "\n",
        "def fibon(n):\n",
        "  a, b = 0,1\n",
        "  for i in range(n):\n",
        "    a, b = b, a+b\n",
        "  return a\n",
        "fibon(3)"
      ],
      "metadata": {
        "colab": {
          "base_uri": "https://localhost:8080/"
        },
        "id": "ggbYOe8DSlQq",
        "outputId": "a24f6237-11ed-4fdc-91cd-8111e70c279f"
      },
      "execution_count": null,
      "outputs": [
        {
          "output_type": "execute_result",
          "data": {
            "text/plain": [
              "2"
            ]
          },
          "metadata": {},
          "execution_count": 26
        }
      ]
    },
    {
      "cell_type": "markdown",
      "source": [
        "8.Create a Car class with attributes like brand and model. Create an instance of this class and print its attributes."
      ],
      "metadata": {
        "id": "X-45q9ccnsZU"
      }
    },
    {
      "cell_type": "code",
      "source": [
        "class Car:\n",
        "  def __init__(self, brand, model):\n",
        "    self.brand = brand\n",
        "    self.model = model\n",
        "mine = Car('Toyota', '2011')\n",
        "print('Brand: ', mine.brand)\n",
        "print('Model: ', mine.model)"
      ],
      "metadata": {
        "colab": {
          "base_uri": "https://localhost:8080/"
        },
        "id": "oxezgzLPTyTN",
        "outputId": "406ee4b6-d9a0-4c58-bca9-22c217974c7d"
      },
      "execution_count": null,
      "outputs": [
        {
          "output_type": "stream",
          "name": "stdout",
          "text": [
            "Brand:  Toyota\n",
            "Model:  2011\n"
          ]
        }
      ]
    },
    {
      "cell_type": "markdown",
      "source": [
        "9.Create a Rectangle class with attributes for width and length. Include methods to calculate the area and perimeter."
      ],
      "metadata": {
        "id": "ckBTsOH1nvtt"
      }
    },
    {
      "cell_type": "code",
      "source": [
        "class Rectangle:\n",
        "  def __init__(self, width, length):\n",
        "    self.width = width\n",
        "    self.length = length\n",
        "\n",
        "  def area(self):\n",
        "    return self.width * self.length\n",
        "\n",
        "  def perim(self):\n",
        "    return 2 * (self.width + self.length)\n",
        "\n",
        "rec = Rectangle(12, 3)\n",
        "print(f'Area: {rec.area()}')\n",
        "print(f'Perimeter: {rec.perim()}')"
      ],
      "metadata": {
        "colab": {
          "base_uri": "https://localhost:8080/"
        },
        "id": "5yREEEIAVfBW",
        "outputId": "df6c9640-612b-4211-8554-47b7965515e4"
      },
      "execution_count": null,
      "outputs": [
        {
          "output_type": "stream",
          "name": "stdout",
          "text": [
            "Area: 36\n",
            "Perimeter: 30\n"
          ]
        }
      ]
    },
    {
      "cell_type": "markdown",
      "source": [
        "10.Create a Book class that is initialized with the name and author of the book. Include a method to print the book’s name and author."
      ],
      "metadata": {
        "id": "s0ca3DbWnxiT"
      }
    },
    {
      "cell_type": "code",
      "source": [
        "class poem:\n",
        "  def __init__(self, b_name, author):\n",
        "    self.b_name = b_name\n",
        "    self.author = author\n",
        "\n",
        "  def info(self):\n",
        "    print(f'Book name: {self.b_name}')\n",
        "    print(f'Author: {self.author}')\n",
        "mine = poem('Almanack', 'Naval Ravikant')\n",
        "mine.info()"
      ],
      "metadata": {
        "colab": {
          "base_uri": "https://localhost:8080/"
        },
        "id": "11YGiAeQWvYx",
        "outputId": "ebfea7a8-5009-4705-995b-fdc915347e70"
      },
      "execution_count": null,
      "outputs": [
        {
          "output_type": "stream",
          "name": "stdout",
          "text": [
            "Book name: Almanack\n",
            "Author: Naval Ravikant\n"
          ]
        }
      ]
    },
    {
      "cell_type": "markdown",
      "source": [
        "11.Write a Python program to create a class representing a Circle. Include methods to calculate its area and perimeter."
      ],
      "metadata": {
        "id": "LC9zQoWcnz4n"
      }
    },
    {
      "cell_type": "code",
      "source": [
        "import math\n",
        "class circle:\n",
        "  def __init__(self, radius):\n",
        "    self.radius = radius\n",
        "\n",
        "  def area(self):\n",
        "    return math.pi * (self.radius ** 2)\n",
        "\n",
        "  def perim(self):\n",
        "    return 2 * math.pi * self.radius\n",
        "\n",
        "mine = circle(4)\n",
        "print(f'Area: {mine.area()}')\n",
        "print(f': {mine.perim()}')"
      ],
      "metadata": {
        "colab": {
          "base_uri": "https://localhost:8080/"
        },
        "id": "bm2R36FYZnT5",
        "outputId": "062f5e2a-1549-4f4e-e804-fb0a069d73dd"
      },
      "execution_count": null,
      "outputs": [
        {
          "output_type": "stream",
          "name": "stdout",
          "text": [
            "Area: 50.26548245743669\n",
            "Perimeter: 25.132741228718345\n"
          ]
        }
      ]
    },
    {
      "cell_type": "markdown",
      "source": [
        "12.Write a Python function that checks whether a passed string is a palindrome or not. Note: A palindrome is a word, phrase, or sequence that reads the same backward as forward, e.g., madam or nurses run."
      ],
      "metadata": {
        "id": "6fYaRo9Un3MH"
      }
    },
    {
      "cell_type": "code",
      "source": [
        "def palindrome():\n",
        "  s = input('Enter your input in whatever format you want: ')\n",
        "  if s == s[::-1] :\n",
        "    return 'Valid'\n",
        "  else:\n",
        "    return 'Not palindrome'\n",
        "\n",
        "palindrome()"
      ],
      "metadata": {
        "colab": {
          "base_uri": "https://localhost:8080/",
          "height": 53
        },
        "id": "nYLftXsYaZDB",
        "outputId": "783d3e6b-31ce-42dd-8a49-9a39494a5f7c"
      },
      "execution_count": null,
      "outputs": [
        {
          "name": "stdout",
          "output_type": "stream",
          "text": [
            "Enter your input in whatever format you want: 123321\n"
          ]
        },
        {
          "output_type": "execute_result",
          "data": {
            "text/plain": [
              "'Valid'"
            ],
            "application/vnd.google.colaboratory.intrinsic+json": {
              "type": "string"
            }
          },
          "metadata": {},
          "execution_count": 37
        }
      ]
    }
  ]
}