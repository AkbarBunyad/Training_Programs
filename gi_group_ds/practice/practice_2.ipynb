{
  "nbformat": 4,
  "nbformat_minor": 0,
  "metadata": {
    "colab": {
      "provenance": [],
      "authorship_tag": "ABX9TyOHIHWA1qs/Vhd8h5/AEc1g",
      "include_colab_link": true
    },
    "kernelspec": {
      "name": "python3",
      "display_name": "Python 3"
    },
    "language_info": {
      "name": "python"
    }
  },
  "cells": [
    {
      "cell_type": "markdown",
      "metadata": {
        "id": "view-in-github",
        "colab_type": "text"
      },
      "source": [
        "<a href=\"https://colab.research.google.com/github/AkbarBunyad/Training_Programs/blob/main/gi_group_ds/practice/practice_2.ipynb\" target=\"_parent\"><img src=\"https://colab.research.google.com/assets/colab-badge.svg\" alt=\"Open In Colab\"/></a>"
      ]
    },
    {
      "cell_type": "markdown",
      "source": [
        "1.Verilmiş listin elementlərinin cəmini tapın : [10, 20, 30, 40, 50]"
      ],
      "metadata": {
        "id": "szaxWvZO69Jd"
      }
    },
    {
      "cell_type": "code",
      "execution_count": null,
      "metadata": {
        "id": "w2fLqCeOoWqJ",
        "colab": {
          "base_uri": "https://localhost:8080/"
        },
        "outputId": "882dfcca-5ed6-41eb-8e9c-c99bd533e739"
      },
      "outputs": [
        {
          "output_type": "execute_result",
          "data": {
            "text/plain": [
              "150"
            ]
          },
          "metadata": {},
          "execution_count": 1
        }
      ],
      "source": [
        "lst = [10, 20, 30, 40, 50]\n",
        "sum(lst)"
      ]
    },
    {
      "cell_type": "markdown",
      "source": [
        "2.Verilmiş tuple içindəki ən böyük və ən kiçik elementi tapın : (3, 7, 2, 5, 20, 10)"
      ],
      "metadata": {
        "id": "zBl7_YaP7JQe"
      }
    },
    {
      "cell_type": "code",
      "source": [
        "t = (3, 7, 2, 5, 20, 10)\n",
        "print(f'Min and max in the tuple given are {min(t)} and {max(t)}')"
      ],
      "metadata": {
        "colab": {
          "base_uri": "https://localhost:8080/"
        },
        "id": "L0kjG0d_7EPI",
        "outputId": "512b58a5-1f66-429e-bf79-1f0961ec6d81"
      },
      "execution_count": null,
      "outputs": [
        {
          "output_type": "stream",
          "name": "stdout",
          "text": [
            "Min and max in the tuple given are 2 and 20\n"
          ]
        }
      ]
    },
    {
      "cell_type": "markdown",
      "source": [
        "3.Verilmiş bir setdəki elementləri artan sıra ilə sıralayıb, yeni bir list kimi qaytarın:{16, 2, 28, 24, 10}"
      ],
      "metadata": {
        "id": "U-dcbCWd7e5r"
      }
    },
    {
      "cell_type": "code",
      "source": [
        "s = (16, 2, 28, 24, 10)\n",
        "list(sorted(s))"
      ],
      "metadata": {
        "colab": {
          "base_uri": "https://localhost:8080/"
        },
        "id": "GBD085Fi7Q4g",
        "outputId": "4855e47f-4cf0-4af9-fb4e-381e14df56c3"
      },
      "execution_count": null,
      "outputs": [
        {
          "output_type": "execute_result",
          "data": {
            "text/plain": [
              "[2, 10, 16, 24, 28]"
            ]
          },
          "metadata": {},
          "execution_count": 5
        }
      ]
    },
    {
      "cell_type": "markdown",
      "source": [
        "4.Verilmiş dictionaryde bütün dəyərlərin cəmini tapın: {'a': 18, 'b': 27, 'c': 36}"
      ],
      "metadata": {
        "id": "gOs6fbm676bc"
      }
    },
    {
      "cell_type": "code",
      "source": [
        "dct = {'a': 18, 'b': 27, 'c': 36}\n",
        "s = 0\n",
        "for i in dct:\n",
        "  s+= dct[i]\n",
        "s"
      ],
      "metadata": {
        "colab": {
          "base_uri": "https://localhost:8080/"
        },
        "id": "m_kR-8A872SM",
        "outputId": "582a6bcc-5a01-4031-bfa9-7efc86148717"
      },
      "execution_count": null,
      "outputs": [
        {
          "output_type": "execute_result",
          "data": {
            "text/plain": [
              "81"
            ]
          },
          "metadata": {},
          "execution_count": 7
        }
      ]
    },
    {
      "cell_type": "markdown",
      "source": [
        "5.Verilmiş bir listdəki təkrarlanan elementləri silərək, yalnız unikal elementlərdən ibarət yeni bir list yaradın:[1, 2, 2, 3, 2,8,4, 5, 1,5, 6, 7]"
      ],
      "metadata": {
        "id": "ZGfBz9Ys8P9v"
      }
    },
    {
      "cell_type": "code",
      "source": [
        "lst = [1, 2, 2, 3, 2, 8, 4, 5, 1, 5, 6, 7]\n",
        "new = []\n",
        "for i in lst:\n",
        "  if i not in new:\n",
        "    new+=[i]\n",
        "new"
      ],
      "metadata": {
        "colab": {
          "base_uri": "https://localhost:8080/"
        },
        "id": "OfLFccUc8KPW",
        "outputId": "f4e93c2d-de09-4575-8848-5176cc187aa7"
      },
      "execution_count": null,
      "outputs": [
        {
          "output_type": "execute_result",
          "data": {
            "text/plain": [
              "[1, 2, 3, 8, 4, 5, 6, 7]"
            ]
          },
          "metadata": {},
          "execution_count": 8
        }
      ]
    },
    {
      "cell_type": "markdown",
      "source": [
        "6.İki listin kəsişmə elementlərindən ibarət yeni bir list yaradın: list1 = [1, 2, 3, 4, 5], list2 = [4, 5, 6, 7, 8]"
      ],
      "metadata": {
        "id": "g6O-Lzy68o4e"
      }
    },
    {
      "cell_type": "code",
      "source": [
        "lst1 = [1, 2, 3, 4, 5]\n",
        "lst2 = [4, 5, 6, 7, 8]\n",
        "new = []\n",
        "for i in lst1:\n",
        "  if i in lst2:\n",
        "    new+=[i]\n",
        "new"
      ],
      "metadata": {
        "colab": {
          "base_uri": "https://localhost:8080/"
        },
        "id": "NXU6KQ2L8lBQ",
        "outputId": "053fa002-0fb4-4322-a06a-4bc337cc89a3"
      },
      "execution_count": null,
      "outputs": [
        {
          "output_type": "execute_result",
          "data": {
            "text/plain": [
              "[4, 5]"
            ]
          },
          "metadata": {},
          "execution_count": 9
        }
      ]
    },
    {
      "cell_type": "markdown",
      "source": [
        "7.Verilmiş bir tuple'ın içindəki string elementləri başqa bir tuple'a köçürün:(Elton', 'Mirzayev', '20', 'ASOIU')"
      ],
      "metadata": {
        "id": "4iXqg_k388pZ"
      }
    },
    {
      "cell_type": "code",
      "source": [
        "t = ('Akbar', 'Bunyadzade', 20, 'BHOS')\n",
        "t1 = ()\n",
        "for i in t:\n",
        "  if isinstance(i, str):\n",
        "    t1 += (i, )\n",
        "t1"
      ],
      "metadata": {
        "colab": {
          "base_uri": "https://localhost:8080/"
        },
        "id": "ztkJ8L9187Fc",
        "outputId": "2508b0d4-706c-41e3-8fa8-958f5d532945"
      },
      "execution_count": null,
      "outputs": [
        {
          "output_type": "execute_result",
          "data": {
            "text/plain": [
              "('Akbar', 'Bunyadzade', 'BHOS')"
            ]
          },
          "metadata": {},
          "execution_count": 12
        }
      ]
    },
    {
      "cell_type": "markdown",
      "source": [
        "8. Bir setdəki bütün cüt sayları ayrı bir setə köçürün:"
      ],
      "metadata": {
        "id": "kGL5FOWI9dIC"
      }
    },
    {
      "cell_type": "code",
      "source": [
        "s = set()\n",
        "for i in range(1, 24):\n",
        "  s.add(i)\n",
        "s1 = set()\n",
        "for i in s:\n",
        "  if i%2 == 0:\n",
        "    s1.add(i)\n",
        "s1"
      ],
      "metadata": {
        "colab": {
          "base_uri": "https://localhost:8080/"
        },
        "id": "7nXNatBi9Prw",
        "outputId": "02477865-1492-40ff-c522-b28cabee3865"
      },
      "execution_count": null,
      "outputs": [
        {
          "output_type": "execute_result",
          "data": {
            "text/plain": [
              "{2, 4, 6, 8, 10, 12, 14, 16, 18, 20, 22}"
            ]
          },
          "metadata": {},
          "execution_count": 17
        }
      ]
    },
    {
      "cell_type": "markdown",
      "source": [
        "9.Bir dictionaryde açarların (keys) və dəyərlərinin (values) yerini dəyişdirərək yeni bir dictionary yaradın."
      ],
      "metadata": {
        "id": "eEjYOhfB-WMv"
      }
    },
    {
      "cell_type": "code",
      "source": [
        "dct = {'Name': 'Akbar', 'Surname': 'Bunyadzade', 'Degree': 'CHEM',\n",
        "       'Course': 3}\n",
        "dct1 = {}\n",
        "for i in dct:\n",
        "  dct1[dct[i]] = i\n",
        "dct1"
      ],
      "metadata": {
        "colab": {
          "base_uri": "https://localhost:8080/"
        },
        "id": "qFkr37wN91DD",
        "outputId": "3f3db877-a909-4752-a811-6a74b88bec10"
      },
      "execution_count": null,
      "outputs": [
        {
          "output_type": "execute_result",
          "data": {
            "text/plain": [
              "{'Akbar': 'Name', 'Bunyadzade': 'Surname', 'CHEM': 'Degree', 3: 'Course'}"
            ]
          },
          "metadata": {},
          "execution_count": 21
        }
      ]
    },
    {
      "cell_type": "markdown",
      "source": [
        "10.Listdəki hər bir elementin neçə dəfə təkrarlandığını dictionary vasitəsilə göstərin."
      ],
      "metadata": {
        "id": "EnJwvSiV_UKP"
      }
    },
    {
      "cell_type": "code",
      "source": [
        "lst = [2, 3, 4, 7, 1, 2, 5, 3, 9, 8, 2, 4, 5, 0, 9]\n",
        "dct = {}\n",
        "for i in lst:\n",
        "  if i not in dct:\n",
        "    dct[i] = 1\n",
        "  else:\n",
        "    dct[i] += 1\n",
        "dct"
      ],
      "metadata": {
        "colab": {
          "base_uri": "https://localhost:8080/"
        },
        "id": "cq6vMzse--ra",
        "outputId": "b0f75ba2-2e00-4ea5-a9d8-f897dc7387f9"
      },
      "execution_count": null,
      "outputs": [
        {
          "output_type": "execute_result",
          "data": {
            "text/plain": [
              "{2: 3, 3: 2, 4: 2, 7: 1, 1: 1, 5: 2, 9: 2, 8: 1, 0: 1}"
            ]
          },
          "metadata": {},
          "execution_count": 22
        }
      ]
    },
    {
      "cell_type": "markdown",
      "source": [
        "11.Verilmiş bir tuple'ın içindəki elementlərin orta qiymətini hesablayın"
      ],
      "metadata": {
        "id": "bdlLRRMy_tn-"
      }
    },
    {
      "cell_type": "code",
      "source": [
        "t = (2, 4, 5, 1, 2, 5, 9, 3)\n",
        "sum(t)/len(t)"
      ],
      "metadata": {
        "colab": {
          "base_uri": "https://localhost:8080/"
        },
        "id": "dXrxvFBq_o_O",
        "outputId": "b0bf5ec8-f5ec-46b6-9064-648dfc0de4bb"
      },
      "execution_count": null,
      "outputs": [
        {
          "output_type": "execute_result",
          "data": {
            "text/plain": [
              "3.875"
            ]
          },
          "metadata": {},
          "execution_count": 25
        }
      ]
    },
    {
      "cell_type": "markdown",
      "source": [
        "12.İki set arasındakı fərqi tapın (birincinin ikincidə olmayan elementləri)."
      ],
      "metadata": {
        "id": "E7hGdAYzACwj"
      }
    },
    {
      "cell_type": "code",
      "source": [
        "s1 = set([12, 34, 2, 4, 9, 90])\n",
        "s2 = set([34, 23, 80, 91, 4, 8, 5])\n",
        "s3 = set()\n",
        "for i in s1:\n",
        "  if i not in s2:\n",
        "    s3.add(i)\n",
        "s3"
      ],
      "metadata": {
        "colab": {
          "base_uri": "https://localhost:8080/"
        },
        "id": "7o3BlTRn_1r9",
        "outputId": "e1bff7ab-4bed-453a-fcb5-a399c2de658f"
      },
      "execution_count": null,
      "outputs": [
        {
          "output_type": "execute_result",
          "data": {
            "text/plain": [
              "{2, 9, 12, 90}"
            ]
          },
          "metadata": {},
          "execution_count": 27
        }
      ]
    },
    {
      "cell_type": "markdown",
      "source": [
        "13. Bir dictionarydeki dəyərləri artan sıra ilə sıralayın"
      ],
      "metadata": {
        "id": "uiKSKoE6Arwa"
      }
    },
    {
      "cell_type": "code",
      "source": [
        "import numpy as np"
      ],
      "metadata": {
        "id": "9WxgQ_TNCxye"
      },
      "execution_count": null,
      "outputs": []
    },
    {
      "cell_type": "code",
      "source": [
        "dct = {'A': 23, 'B': 2, 'C': 5, 'D': 90, 'E': 1}\n",
        "keys = list(dct.keys())\n",
        "values = list(dct.values())\n",
        "sorted_dct = {keys[i]: values[i] for i in np.argsort(values)}\n",
        "sorted_dct"
      ],
      "metadata": {
        "colab": {
          "base_uri": "https://localhost:8080/"
        },
        "id": "DT_1DphKAdaJ",
        "outputId": "dc7db6a5-1d9a-4bd5-9224-51fc48d1b8d1"
      },
      "execution_count": null,
      "outputs": [
        {
          "output_type": "execute_result",
          "data": {
            "text/plain": [
              "{'E': 1, 'B': 2, 'C': 5, 'A': 23, 'D': 90}"
            ]
          },
          "metadata": {},
          "execution_count": 40
        }
      ]
    },
    {
      "cell_type": "markdown",
      "source": [
        "14.Verilmiş bir listdəki ədədləri onların kvadratları ilə əvəz edin."
      ],
      "metadata": {
        "id": "ksWhDdqGDJez"
      }
    },
    {
      "cell_type": "code",
      "source": [
        "lst = [2, 3, 4, 7, 1, 2, 5, 3, 9, 8, 2, 4, 5, 0, 9]\n",
        "for i in range(len(lst)):\n",
        "  lst[i] = lst[i] ** 2\n",
        "lst"
      ],
      "metadata": {
        "colab": {
          "base_uri": "https://localhost:8080/"
        },
        "id": "DvTeSPi7CaWF",
        "outputId": "ef417f78-5cf2-421f-9dde-dd31cc599bfd"
      },
      "execution_count": null,
      "outputs": [
        {
          "output_type": "execute_result",
          "data": {
            "text/plain": [
              "[4, 9, 16, 49, 1, 4, 25, 9, 81, 64, 4, 16, 25, 0, 81]"
            ]
          },
          "metadata": {},
          "execution_count": 43
        }
      ]
    },
    {
      "cell_type": "markdown",
      "source": [
        "15.Bir dictionarydeki dəyərlərə əsasən, ən çoxdan ən aza doğru keysleri sıralayın:"
      ],
      "metadata": {
        "id": "5Oi3m4dXDerK"
      }
    },
    {
      "cell_type": "code",
      "source": [
        "dct = {'A': 23, 'B': 2, 'C': 5, 'D': 90, 'E': 1}\n",
        "v = list(dct.values())\n",
        "for i in np.flip(np.argsort(v)):\n",
        "  print(list(dct.keys())[i])\n"
      ],
      "metadata": {
        "colab": {
          "base_uri": "https://localhost:8080/"
        },
        "id": "6l9bGU_qDWJ1",
        "outputId": "312bb117-ba7f-4914-f67a-49a8c806603f"
      },
      "execution_count": null,
      "outputs": [
        {
          "output_type": "stream",
          "name": "stdout",
          "text": [
            "D\n",
            "A\n",
            "C\n",
            "B\n",
            "E\n"
          ]
        }
      ]
    },
    {
      "cell_type": "markdown",
      "source": [
        "16.İki set arasında simmetrik fərqə (yəni yalnız birində olan elementlər) əsaslanaraq yeni bir set yaradın."
      ],
      "metadata": {
        "id": "cBgC_gy5EVRj"
      }
    },
    {
      "cell_type": "code",
      "source": [
        "s1 = set([12, 34, 2, 4, 9, 90])\n",
        "s2 = set([34, 23, 80, 91, 4, 8, 5])\n",
        "s1.union(s2)"
      ],
      "metadata": {
        "colab": {
          "base_uri": "https://localhost:8080/"
        },
        "id": "cReiswu4EJHR",
        "outputId": "4d55be81-2a4b-4ed8-a859-c380ccb8ac9e"
      },
      "execution_count": null,
      "outputs": [
        {
          "output_type": "execute_result",
          "data": {
            "text/plain": [
              "{2, 4, 5, 8, 9, 12, 23, 34, 80, 90, 91}"
            ]
          },
          "metadata": {},
          "execution_count": 49
        }
      ]
    }
  ]
}