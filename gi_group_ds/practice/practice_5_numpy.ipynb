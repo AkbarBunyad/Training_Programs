{
  "nbformat": 4,
  "nbformat_minor": 0,
  "metadata": {
    "colab": {
      "provenance": [],
      "authorship_tag": "ABX9TyPcmCLhJxqgTA1OzfT4S0ZH",
      "include_colab_link": true
    },
    "kernelspec": {
      "name": "python3",
      "display_name": "Python 3"
    },
    "language_info": {
      "name": "python"
    }
  },
  "cells": [
    {
      "cell_type": "markdown",
      "metadata": {
        "id": "view-in-github",
        "colab_type": "text"
      },
      "source": [
        "<a href=\"https://colab.research.google.com/github/AkbarBunyad/Training_Programs/blob/main/gi_group_ds/practice/practice_5_numpy.ipynb\" target=\"_parent\"><img src=\"https://colab.research.google.com/assets/colab-badge.svg\" alt=\"Open In Colab\"/></a>"
      ]
    },
    {
      "cell_type": "markdown",
      "source": [
        "Question 1: Create a zero vector of size 10 and update the fifth value to 1."
      ],
      "metadata": {
        "id": "OSRFfi-9zh6I"
      }
    },
    {
      "cell_type": "code",
      "execution_count": null,
      "metadata": {
        "colab": {
          "base_uri": "https://localhost:8080/"
        },
        "id": "xAb4w6B3RR4R",
        "outputId": "9a980f5f-551b-4667-f64c-aef7f626acf9"
      },
      "outputs": [
        {
          "output_type": "stream",
          "name": "stdout",
          "text": [
            "[0. 0. 0. 0. 1. 0. 0. 0. 0. 0.]\n"
          ]
        }
      ],
      "source": [
        "import numpy as np\n",
        "vect = np.zeros(10)\n",
        "vect[4] = 1\n",
        "print(vect)"
      ]
    },
    {
      "cell_type": "markdown",
      "source": [
        "2. Create a Numpy array filled with numbers from 10 to 49, inclusive, and reverse it (so that the last element becomes the first)."
      ],
      "metadata": {
        "id": "7CD0jDMkzlGO"
      }
    },
    {
      "cell_type": "code",
      "source": [
        "lst = np.arange(10,50)\n",
        "print(lst[::-1])"
      ],
      "metadata": {
        "colab": {
          "base_uri": "https://localhost:8080/"
        },
        "id": "lVGBc6ZEVHy7",
        "outputId": "5602ab33-89d4-4267-9a21-93997ad47f22"
      },
      "execution_count": null,
      "outputs": [
        {
          "output_type": "stream",
          "name": "stdout",
          "text": [
            "[49 48 47 46 45 44 43 42 41 40 39 38 37 36 35 34 33 32 31 30 29 28 27 26\n",
            " 25 24 23 22 21 20 19 18 17 16 15 14 13 12 11 10]\n"
          ]
        }
      ]
    },
    {
      "cell_type": "markdown",
      "source": [
        "3.Create a 3x3 identity matrix"
      ],
      "metadata": {
        "id": "MTrCFUTlzrJr"
      }
    },
    {
      "cell_type": "code",
      "source": [
        "#3 by 4 identity matrix\n",
        "#np.identity(3)\n",
        "\n",
        "m = [[0 for x in range (3)] for y in range (3)]\n",
        "for i in range (3):\n",
        "  for j in range(3):\n",
        "    if i ==j:\n",
        "      m[i][j] = 1\n",
        "np.array(m)\n"
      ],
      "metadata": {
        "colab": {
          "base_uri": "https://localhost:8080/"
        },
        "id": "Gh2OgqjQVawe",
        "outputId": "92a0cbfa-5fd5-448b-bf21-d6b9e70b35e1"
      },
      "execution_count": null,
      "outputs": [
        {
          "output_type": "execute_result",
          "data": {
            "text/plain": [
              "array([[1, 0, 0],\n",
              "       [0, 1, 0],\n",
              "       [0, 0, 1]])"
            ]
          },
          "metadata": {},
          "execution_count": 6
        }
      ]
    },
    {
      "cell_type": "markdown",
      "source": [
        "4.Create a 3x3 array with values ranging from 0 to 8."
      ],
      "metadata": {
        "id": "76CWrw4Ezs_m"
      }
    },
    {
      "cell_type": "code",
      "source": [
        "c = 0\n",
        "lst = [[], [], []]\n",
        "for i in range(3):\n",
        "  for j in range(3):\n",
        "    lst[i].append(c)\n",
        "    c+=1\n",
        "print(lst)\n",
        "\n",
        "print(np.arange(0, 9).reshape(3, 3))"
      ],
      "metadata": {
        "colab": {
          "base_uri": "https://localhost:8080/"
        },
        "id": "TPdiDEbOVqwF",
        "outputId": "e92310ab-7cc3-4457-9213-bf0f309511c4"
      },
      "execution_count": null,
      "outputs": [
        {
          "output_type": "stream",
          "name": "stdout",
          "text": [
            "[[0, 1, 2], [3, 4, 5], [6, 7, 8]]\n",
            "[[0 1 2]\n",
            " [3 4 5]\n",
            " [6 7 8]]\n"
          ]
        }
      ]
    },
    {
      "cell_type": "markdown",
      "source": [
        "5.Create a 10x10 array with random values and find the minimum and maximum values."
      ],
      "metadata": {
        "id": "pQbhsW-mzvLT"
      }
    },
    {
      "cell_type": "code",
      "source": [
        "l = np.random.randint(0, 100, (10, 10))\n",
        "print(l)\n",
        "print(np.max(l))\n",
        "print(np.min(l))\n"
      ],
      "metadata": {
        "colab": {
          "base_uri": "https://localhost:8080/"
        },
        "id": "6VbBAeymXGPD",
        "outputId": "85446f38-5a8a-47b5-e454-08501df6329d"
      },
      "execution_count": null,
      "outputs": [
        {
          "output_type": "stream",
          "name": "stdout",
          "text": [
            "[[ 9 43 75 57  3 34 62 33 33 90]\n",
            " [53 36 70 13 21 94 40 91 18 98]\n",
            " [60 39  2 71 10 71 33 50 84 86]\n",
            " [18 28 96  6 43 64 24  7 35  7]\n",
            " [16 44 73  8  3 39  1 55 45 77]\n",
            " [98 51 73 41 30 70 98 65  1 22]\n",
            " [72 15 50 38 93 83 91 92 46  2]\n",
            " [82 59 60 28 94 49 60 18 60 91]\n",
            " [96 57 19 43 82 94 53 44  4 93]\n",
            " [33 16 43 33 54 72 77 72 21 17]]\n",
            "98\n",
            "1\n"
          ]
        }
      ]
    },
    {
      "cell_type": "markdown",
      "source": [
        "6.Find the mean value of a random array of 30 elements."
      ],
      "metadata": {
        "id": "Sr9Z3sy8zyLs"
      }
    },
    {
      "cell_type": "code",
      "source": [
        "arr = np.random.rand(30)\n",
        "print(arr)\n",
        "print(np.mean(arr))"
      ],
      "metadata": {
        "colab": {
          "base_uri": "https://localhost:8080/"
        },
        "id": "aiEb7HUCYswk",
        "outputId": "d48a9bb4-2f42-4b25-c1b8-3e7093167d4d"
      },
      "execution_count": null,
      "outputs": [
        {
          "output_type": "stream",
          "name": "stdout",
          "text": [
            "[0.81863152 0.34384031 0.36434918 0.12150352 0.2250312  0.70297485\n",
            " 0.52104781 0.86287983 0.23446914 0.68652944 0.4512006  0.59279492\n",
            " 0.82728239 0.5562768  0.02733198 0.87849869 0.63883709 0.35550771\n",
            " 0.47402893 0.39832341 0.35384067 0.14502702 0.15154866 0.50093733\n",
            " 0.22595882 0.45457016 0.38915473 0.83394098 0.95481322 0.0657839 ]\n",
            "0.4718971599862972\n"
          ]
        }
      ]
    },
    {
      "cell_type": "markdown",
      "source": [
        "7.Create a 2D array of shape (5,5) with values 1,2,3,4 just below the diagonal."
      ],
      "metadata": {
        "id": "wrwDX34Dzz6l"
      }
    },
    {
      "cell_type": "code",
      "source": [
        "l = np.zeros((5, 5))\n",
        "for i in range (5):\n",
        "  l[i, i-1] = i\n",
        "print(l)"
      ],
      "metadata": {
        "colab": {
          "base_uri": "https://localhost:8080/"
        },
        "id": "F55vTk2IZh-R",
        "outputId": "85bb8628-8410-405d-bc61-2474e0c3f04a"
      },
      "execution_count": null,
      "outputs": [
        {
          "output_type": "stream",
          "name": "stdout",
          "text": [
            "[[0. 0. 0. 0. 0.]\n",
            " [1. 0. 0. 0. 0.]\n",
            " [0. 2. 0. 0. 0.]\n",
            " [0. 0. 3. 0. 0.]\n",
            " [0. 0. 0. 4. 0.]]\n"
          ]
        }
      ]
    },
    {
      "cell_type": "markdown",
      "source": [
        "8.Normalize a 5x5 random matrix (subtract the mean and divide by the standard deviation)."
      ],
      "metadata": {
        "id": "J8o5r84Pz2rz"
      }
    },
    {
      "cell_type": "code",
      "source": [
        "arr = np.random.randint(1, 45, (5, 5))\n",
        "print(arr)\n",
        "updated = (arr - np.mean(arr))/np.std(arr)\n",
        "print(updated)"
      ],
      "metadata": {
        "colab": {
          "base_uri": "https://localhost:8080/"
        },
        "id": "qxZNT42Ba2CC",
        "outputId": "4cc45e08-383d-46cc-e993-727067a46586"
      },
      "execution_count": null,
      "outputs": [
        {
          "output_type": "stream",
          "name": "stdout",
          "text": [
            "[[31 35 20 41 37]\n",
            " [16 31  9 31  6]\n",
            " [24 32 27 44 31]\n",
            " [ 7  6  7 18 11]\n",
            " [30 15 37 14  5]]\n",
            "[[ 0.69216144  1.02176212 -0.21424044  1.51616314  1.18656246]\n",
            " [-0.54384113  0.69216144 -1.12064232  0.69216144 -1.36784284]\n",
            " [ 0.11536024  0.77456161  0.36256075  1.76336366  0.69216144]\n",
            " [-1.28544267 -1.36784284 -1.28544267 -0.37904079 -0.95584198]\n",
            " [ 0.60976126 -0.6262413   1.18656246 -0.70864147 -1.45024301]]\n"
          ]
        }
      ]
    },
    {
      "cell_type": "markdown",
      "source": [
        "9.Multiply a 5x3 matrix by a 3x2 matrix (real matrix product)."
      ],
      "metadata": {
        "id": "W5Ri0WgXz3fn"
      }
    },
    {
      "cell_type": "code",
      "source": [
        "arr1 = np.random.randint(1, 10, (5, 3))\n",
        "arr2 = np.random.randint(5, 14, (3, 2))\n",
        "f = np.dot(arr1, arr2)\n",
        "print(arr1)\n",
        "print(arr2)\n",
        "print(f)"
      ],
      "metadata": {
        "colab": {
          "base_uri": "https://localhost:8080/"
        },
        "id": "-lqYIAvrcIEe",
        "outputId": "565b3ef2-a82d-46e4-ffca-bc1ad9e21987"
      },
      "execution_count": null,
      "outputs": [
        {
          "output_type": "stream",
          "name": "stdout",
          "text": [
            "[[8 9 7]\n",
            " [9 5 8]\n",
            " [4 6 3]\n",
            " [9 7 7]\n",
            " [9 6 3]]\n",
            "[[13 13]\n",
            " [ 5 12]\n",
            " [12 10]]\n",
            "[[233 282]\n",
            " [238 257]\n",
            " [118 154]\n",
            " [236 271]\n",
            " [183 219]]\n"
          ]
        }
      ]
    },
    {
      "cell_type": "markdown",
      "source": [
        "10.Subtract the mean of each row of a matrix (use a 10x10 matrix)."
      ],
      "metadata": {
        "id": "Bxv1fjfOz5dD"
      }
    },
    {
      "cell_type": "code",
      "source": [
        "np.random.seed(34)\n",
        "arr = np.random.randint(1, 10, (10, 10))\n",
        "l = np.mean(arr, axis  = 1)\n",
        "print(arr)\n",
        "print(l)\n",
        "print(arr - l)"
      ],
      "metadata": {
        "colab": {
          "base_uri": "https://localhost:8080/"
        },
        "id": "6CNdg45HdBEy",
        "outputId": "6f93e3f8-faba-47dd-d22c-a3a97459fe7a"
      },
      "execution_count": null,
      "outputs": [
        {
          "output_type": "stream",
          "name": "stdout",
          "text": [
            "[[2 7 6 5 4 6 3 9 7 6]\n",
            " [7 5 6 1 6 5 4 4 6 6]\n",
            " [9 9 5 9 5 3 6 3 3 7]\n",
            " [9 3 7 1 6 5 1 5 5 8]\n",
            " [5 8 4 7 8 7 9 9 5 5]\n",
            " [1 2 2 6 4 6 1 1 3 4]\n",
            " [5 2 9 7 8 4 7 6 2 7]\n",
            " [2 1 6 7 8 2 7 8 3 6]\n",
            " [3 1 2 6 7 5 3 2 1 9]\n",
            " [9 8 7 8 3 5 7 7 5 1]]\n",
            "[5.5 5.  5.9 5.  6.7 3.  5.7 5.  3.9 6. ]\n",
            "[[-3.5  2.   0.1  0.  -2.7  3.  -2.7  4.   3.1  0. ]\n",
            " [ 1.5  0.   0.1 -4.  -0.7  2.  -1.7 -1.   2.1  0. ]\n",
            " [ 3.5  4.  -0.9  4.  -1.7  0.   0.3 -2.  -0.9  1. ]\n",
            " [ 3.5 -2.   1.1 -4.  -0.7  2.  -4.7  0.   1.1  2. ]\n",
            " [-0.5  3.  -1.9  2.   1.3  4.   3.3  4.   1.1 -1. ]\n",
            " [-4.5 -3.  -3.9  1.  -2.7  3.  -4.7 -4.  -0.9 -2. ]\n",
            " [-0.5 -3.   3.1  2.   1.3  1.   1.3  1.  -1.9  1. ]\n",
            " [-3.5 -4.   0.1  2.   1.3 -1.   1.3  3.  -0.9  0. ]\n",
            " [-2.5 -4.  -3.9  1.   0.3  2.  -2.7 -3.  -2.9  3. ]\n",
            " [ 3.5  3.   1.1  3.  -3.7  2.   1.3  2.   1.1 -5. ]]\n"
          ]
        }
      ]
    },
    {
      "cell_type": "markdown",
      "source": [
        "11.Create a 4x4 matrix with values from 0 to 15, and then replace any value that is greater than 5 with the value -1."
      ],
      "metadata": {
        "id": "b1Lo4NUcz71T"
      }
    },
    {
      "cell_type": "code",
      "source": [
        "l = np.arange(0, 16).reshape(4, 4)\n",
        "print(l)\n",
        "l[l>5] = -1\n",
        "c = np.copy(l)\n",
        "print(c)"
      ],
      "metadata": {
        "colab": {
          "base_uri": "https://localhost:8080/"
        },
        "id": "9sj7hcR4g_lY",
        "outputId": "2baf140c-4dfc-44fe-d362-e21369b43eef"
      },
      "execution_count": null,
      "outputs": [
        {
          "output_type": "stream",
          "name": "stdout",
          "text": [
            "[[ 0  1  2  3]\n",
            " [ 4  5  6  7]\n",
            " [ 8  9 10 11]\n",
            " [12 13 14 15]]\n",
            "[[ 0  1  2  3]\n",
            " [ 4  5 -1 -1]\n",
            " [-1 -1 -1 -1]\n",
            " [-1 -1 -1 -1]]\n"
          ]
        }
      ]
    },
    {
      "cell_type": "markdown",
      "source": [
        "12.Create a 30x30 matrix with random values and find the maximum value in each row."
      ],
      "metadata": {
        "id": "QXD87bprz9VK"
      }
    },
    {
      "cell_type": "code",
      "source": [
        "lst = np.random.randint(1, 200, (30, 30))\n",
        "print(lst)\n",
        "up = np.max(lst, axis = 1)\n",
        "print(up)"
      ],
      "metadata": {
        "colab": {
          "base_uri": "https://localhost:8080/"
        },
        "id": "FfG04dvGh2eN",
        "outputId": "045374ca-1854-40b2-9be3-d4df55c4510b"
      },
      "execution_count": null,
      "outputs": [
        {
          "output_type": "stream",
          "name": "stdout",
          "text": [
            "[[ 77  85  88 172  81  83  87  43  18 143  15  87 141  84  91  84 137  29\n",
            "   54 198 186 109 172  82 102  18 184  95 165 132]\n",
            " [114  13 116 156  52 119  78  81  39  40 168  77 120  44 193  49 176 121\n",
            "  189  78  72  89 190  86   3 127  88 167  16 175]\n",
            " [153 159 190   7  26  23  56  56 140  66  90  80 122 186 101  99 140  65\n",
            "  187  43  58  28 119 123  92 166  23 167  94  16]\n",
            " [164   1  67  80  54 193 130  59 183 167 145 189 100  87  95 130 178 193\n",
            "  135 145  31  17  20 163 185 186 101 125 102  17]\n",
            " [196  14  75 171 109 178  87 144  46  22  59  89 123   5  99 162 118 185\n",
            "   91  47 173  86  26  38 154   2 109  39 159 130]\n",
            " [ 16  82 184  36 118 170 159 156 167  44  84  46 129  62  84  40  78 123\n",
            "   72  35 190  85  43 126  86  88  57  66 131  58]\n",
            " [187  96  40 114 138 105  17  42  32  86  13 190   2  54  61 169 102 143\n",
            "   69 185  23 102  10 139  34  69 173 133 145  64]\n",
            " [ 50 151  84  90  70 122 180 128 160  25 165 128 141  98   3  78 115  25\n",
            "  188 147  90  11   2  24 189  76 138  55  44 167]\n",
            " [  2  65 171 154 131  98 177  80 103 110  48   8  77 135  27  44  60  72\n",
            "  161 198 198  63 113 187  38 146  91 113 186  57]\n",
            " [139 103 188  30  11 121  26  87 154 192  56 140  69 109 186  15 140  44\n",
            "  177 117 106  80 159 138  94  22  74  73 116  64]\n",
            " [ 73 187  89 138  77  93  24 121 170 128 129 164  67   3  84  66  24 123\n",
            "   81  13  50  19  66  75   6 139  92 198  75  40]\n",
            " [185 190 166 116  11 159  90 114 129 155 158  39  64 173   9 102   6  84\n",
            "  100   2  25   5  49  57 129 100  22 104  98 174]\n",
            " [ 16 172 175 150 130 178  79  37 120 113  57  57  51 147  72 157  65 161\n",
            "   37  34 132  48 135  67  69 169 113  59  80 114]\n",
            " [ 92   3 167 177  89  89 159  23 185   9  93 116  72 121 195  73   1  70\n",
            "  130  20 190 117 144 180 121 182 125  52   1  26]\n",
            " [179 115   7 124 160  25 181  36  82  10 195  52 172 140 184  85  96 101\n",
            "   79  80  92  48  58 103 120 159  46 107  48 174]\n",
            " [169 160  90 118 130  79  67  52  74  45  64  57  22 122 163 197  54  88\n",
            "   27  65  90  30 170  47  95 147 115 133  60 153]\n",
            " [ 32 145 174 190 195   3  15 197  93  89  65 168 145 194  21  26 116  64\n",
            "  148 167  39  83 177  39 159  17  42  23  61  46]\n",
            " [160  84 119 109  33  59 103  12 161 173  18  86 154  88 199 185 163  90\n",
            "  197 126  77 192 180 150   3  96 197  13  53 191]\n",
            " [ 35  54 134 193 145 116  24  68  31  25  21  86 102 141 142  18  12 164\n",
            "   36  17  41 111  55  58 179  34  14  10 166 102]\n",
            " [ 92 132  77   5 102   5  87 131  31 185  40  55 134 112 146  45   3 167\n",
            "   10 184 177 130 144 143  78 141  76 171  34  42]\n",
            " [ 30 192  10  68  53 182 105  55 108 173  51 134  33 139 170  52   2 170\n",
            "  126  38 121  21  17 165  94  75 110 133 123   7]\n",
            " [  5  17 144  12  19  49  54 170 161  81  50 120 189 158 155 151  13  28\n",
            "   25  41  11  65  98  41 188  24  22 120  52 186]\n",
            " [ 84 133  33  72  11 135  99  70 114  58  42 184 100  30  75  42 127  82\n",
            "  102   6 142  48  62 177  86  72  55 102 134 110]\n",
            " [184  86 134  23 100  48 144 192  13  59 193 128  38 121 195 198  99  90\n",
            "   56 195 123 187 121 185 199 104 150  87  22 182]\n",
            " [ 42 145 156 182  21 114 109 120  17   6 185  75  80   5  95 109 161 191\n",
            "    8 192 161  65 146  75 122 165  20  86  78  20]\n",
            " [102 132 160  14  59 117 105  32 107  55 166  68  85  60  83 199  41 154\n",
            "  100  83  18 177 175 117  59  75 170 167 103  85]\n",
            " [148  66  65 196 154 114  36   7 111 154  59  25 192  12 166   6  84  63\n",
            "  144  72 131 193 144  36  34  43 138  98 178  78]\n",
            " [187 180  97  75 165  62 137  23  57  44  68  18 161  58 179  41 164 149\n",
            "   41  44 187  75 124 148  21 124 167  16  41 120]\n",
            " [  2 185  99 151 101  23  72 189 194 159  68  33 127 163 146 134  32  46\n",
            "   12  62  47  59  45  93  40 158 174 101  93 168]\n",
            " [ 21  56  65 178  95  94  89 106 194 114 165 108  11  93  93  33  55 116\n",
            "  130  13 199 164 171  49  93  19 106  11 159 146]]\n",
            "[198 193 190 193 196 190 190 189 198 192 198 190 178 195 195 197 197 199\n",
            " 193 185 192 189 184 199 192 199 196 187 194 199]\n"
          ]
        }
      ]
    },
    {
      "cell_type": "markdown",
      "source": [
        "13.Create a random vector of size 100 and find the position of the maximum value"
      ],
      "metadata": {
        "id": "BdpI8Wnsz_s8"
      }
    },
    {
      "cell_type": "code",
      "source": [
        "s = np.random.randint(1, 100, (100))\n",
        "print(s)\n",
        "#np.argmax(s)\n",
        "mx = s[0]\n",
        "for i in range(len(s)):\n",
        "  if mx < s[i]:\n",
        "    mx = s[i]\n",
        "    idx = i\n",
        "print(mx)\n",
        "print(idx)"
      ],
      "metadata": {
        "colab": {
          "base_uri": "https://localhost:8080/"
        },
        "id": "uIbDg0h1kbz1",
        "outputId": "c68533c8-ba4b-4018-c5ef-b100ca6dec36"
      },
      "execution_count": null,
      "outputs": [
        {
          "output_type": "stream",
          "name": "stdout",
          "text": [
            "[77  3 54 91  2 39 21 15 88 25 45 82 87 77 90 68  5 55 29 53 20 37 75 10\n",
            " 31 93 40 75 28 56  5  4 87 57 26 85 17 53 36 16 32 58 16 79 37 99  9 38\n",
            " 15 39 58 16 21 64 83 42  2 32 40 12 87 26  2 87 88 74 53 63 68  6 44 88\n",
            " 44 41 25 99 55 91 72 77 52 86  2 88 13 20  1 15 46 96 35 33 15 48 16 77\n",
            " 59 88 86 83]\n",
            "99\n",
            "45\n"
          ]
        }
      ]
    },
    {
      "cell_type": "code",
      "source": [],
      "metadata": {
        "id": "Q64tSj2Mk5Xu"
      },
      "execution_count": null,
      "outputs": []
    }
  ]
}