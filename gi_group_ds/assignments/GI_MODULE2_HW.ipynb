{
  "nbformat": 4,
  "nbformat_minor": 0,
  "metadata": {
    "colab": {
      "provenance": []
    },
    "kernelspec": {
      "name": "python3",
      "display_name": "Python 3"
    },
    "language_info": {
      "name": "python"
    }
  },
  "cells": [
    {
      "cell_type": "markdown",
      "metadata": {
        "id": "dYfQDd6EaF3E"
      },
      "source": [
        " ## **Homework 1**\n",
        "\n",
        "İstifadəçidən 1 ədəd daxil edir. Daxil edilən ədədə qədər(ədədin özü də daxil) bütün cüt ədədləri ekrana çıxarın.\n",
        "\n",
        "Example:\n",
        "\n",
        "*ədəd*: 10\n",
        "\n",
        "*output*: 0,2,4,6,8,10\n",
        "\n"
      ]
    },
    {
      "cell_type": "code",
      "source": [
        "while True:\n",
        "  try:\n",
        "    n = int(input('Enter a valid integer greater than 0: '))\n",
        "    if n<=0:\n",
        "      print('Error! Number should be greater than 0')\n",
        "      continue\n",
        "    for i in range(2, n+1, 2):\n",
        "      print(i, end = ', ' if i<n-1 else '')\n",
        "    break\n",
        "  except ValueError as e:\n",
        "    print(f'Error! {e} Enter valid integer')"
      ],
      "metadata": {
        "colab": {
          "base_uri": "https://localhost:8080/"
        },
        "id": "MuFUmlVaeN7H",
        "outputId": "31d879d7-d186-4ddf-9288-e7c0bc455472"
      },
      "execution_count": null,
      "outputs": [
        {
          "output_type": "stream",
          "name": "stdout",
          "text": [
            "Enter a valid integer greater than 0: eror\n",
            "Error! invalid literal for int() with base 10: 'eror' Enter valid integer\n",
            "Enter a valid integer greater than 0: 5\n",
            "2, 4"
          ]
        }
      ]
    },
    {
      "cell_type": "markdown",
      "source": [
        " ## **Homework 2**\n",
        "\n",
        "İstifadəçidən 1 ədəd daxil edir. Daxil edilən ədədin rəqəm sayını ekrana çıxarın\n",
        "\n",
        "Example:\n",
        "\n",
        "*ədəd*: 15798\n",
        "\n",
        "*output*: 5\n",
        "\n"
      ],
      "metadata": {
        "id": "i2LdD5QedUvU"
      }
    },
    {
      "cell_type": "code",
      "source": [
        "while True:\n",
        "    try:\n",
        "        n = float(input('Enter a real number that can be float, integer, or negative: '))\n",
        "        s = ''\n",
        "\n",
        "        is_neg = False\n",
        "        if n < 0:\n",
        "          is_neg = True\n",
        "          n = abs(n)\n",
        "\n",
        "        if not n.is_integer():\n",
        "            for i in str(n):\n",
        "                if i.isdigit():\n",
        "                    s += i\n",
        "        else:\n",
        "            s = str(int(n))\n",
        "\n",
        "        print(f'For the number {n}: {len(s)}')\n",
        "        break\n",
        "    except ValueError:\n",
        "        print('Error! Enter a real number')"
      ],
      "metadata": {
        "id": "C6YH3d-LdvnV",
        "colab": {
          "base_uri": "https://localhost:8080/"
        },
        "outputId": "bb4d60be-ad37-4d22-fc28-7c7e308a675d"
      },
      "execution_count": null,
      "outputs": [
        {
          "output_type": "stream",
          "name": "stdout",
          "text": [
            "Enter a real number that can be float, integer, or negative: -1023\n",
            "For the number 1023.0: 4\n"
          ]
        }
      ]
    },
    {
      "cell_type": "markdown",
      "source": [
        " ## **Homework 3**\n",
        "\n",
        "İstifadəçidən 1 ədəd daxil etməsini istəyin. Daxil edilən ədədin əsasən aşağıdakı patterni ekrana çıxarsın\n",
        "\n",
        "**Example**\n",
        "\n",
        "*ədəd*: 5\n",
        "\n",
        "*output*:\n",
        "\n",
        "![image.png](data:image/png;base64,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)\n"
      ],
      "metadata": {
        "id": "VTTJczrKlu8n"
      }
    },
    {
      "cell_type": "code",
      "source": [
        "while True:\n",
        "  try:\n",
        "    n = int(input('Enter a valid integer greater than 0: '))\n",
        "    if n<=0:\n",
        "      raise ValueError('Number should be greater than 0')\n",
        "    for i in range(n, 0, -1):\n",
        "      for j in range(i, 0, -1):\n",
        "        print(j, end = ' ')\n",
        "      print()\n",
        "    break\n",
        "  except:\n",
        "    print('Error! Enter valid integer')"
      ],
      "metadata": {
        "id": "OylwW-cZla8_",
        "colab": {
          "base_uri": "https://localhost:8080/"
        },
        "outputId": "4ec97786-1c5b-4df9-b0c0-64b0f6c59f71"
      },
      "execution_count": null,
      "outputs": [
        {
          "output_type": "stream",
          "name": "stdout",
          "text": [
            "Enter a valid integer greater than 0: 6\n",
            "6 5 4 3 2 1 \n",
            "5 4 3 2 1 \n",
            "4 3 2 1 \n",
            "3 2 1 \n",
            "2 1 \n",
            "1 \n"
          ]
        }
      ]
    },
    {
      "cell_type": "markdown",
      "source": [
        " ## **Homework 4**\n",
        "\n",
        "İstifadəçidən 1 ədəd daxil edir. Daxil edilən ədədin polindrom(rəqəmlərini simmetrik dəyişdikdə eyni ədəd alınan ədədlər misal 121) olub olmadığını ekrana çıxarın\n",
        "\n",
        "Example:\n",
        "\n",
        "*ədəd*: 244\n",
        "\n",
        "*output*: Polindrom deyil\n",
        "#-------------------------\n",
        "*ədəd*: 1551\n",
        "\n",
        "*output*: Polindrom ədəddir"
      ],
      "metadata": {
        "id": "Z2ggRruOd94c"
      }
    },
    {
      "cell_type": "code",
      "source": [
        "while True:\n",
        "  try:\n",
        "    n = int(input('Enter a valid integer greater than 0: '))\n",
        "    if n<=0:\n",
        "      raise ValueError('Number should be greater than 0')\n",
        "    if str(n) == str(n)[::-1]:\n",
        "      print('Approved! It is palindrome')\n",
        "    else:\n",
        "      print('Not palindrome')\n",
        "    break\n",
        "  except:\n",
        "    print('Error! Enter valid integer')"
      ],
      "metadata": {
        "id": "goEKS_3Ue5qf",
        "colab": {
          "base_uri": "https://localhost:8080/"
        },
        "outputId": "7d8bf8c5-e712-43d9-cb49-a4cbea7e2121"
      },
      "execution_count": null,
      "outputs": [
        {
          "output_type": "stream",
          "name": "stdout",
          "text": [
            "Enter a valid integer greater than 0: -0\n",
            "Error! Enter valid integer\n",
            "Enter a valid integer greater than 0: -8\n",
            "Error! Enter valid integer\n",
            "Enter a valid integer greater than 0: 567\n",
            "Not palindrome\n"
          ]
        }
      ]
    },
    {
      "cell_type": "markdown",
      "source": [
        " ## **Homework 5**\n",
        "\n",
        "İstifadəçidən 1 ədəd daxil etməsini istəyin daxil edilmiş ədədin 1-dən fərqli bürün bölənlərini list şəklində ekrana çıxarın.\n",
        "\n",
        "Example:\n",
        "\n",
        "*ədəd*: 20\n",
        "\n",
        "*output*: [4,5,10,20]"
      ],
      "metadata": {
        "id": "Fdf99cvVXuAh"
      }
    },
    {
      "cell_type": "code",
      "source": [
        "while True:\n",
        "  try:\n",
        "    n = int(input('Enter a valid integer greater than 0: '))\n",
        "    lst = []\n",
        "    if n<=0:\n",
        "      raise ValueError('Number should be greater than 0')\n",
        "    for i in range(2, n+1):\n",
        "      if n%i == 0:\n",
        "        lst+=[i]\n",
        "    print(lst)\n",
        "    break\n",
        "  except:\n",
        "    print('Error! Enter valid integer')"
      ],
      "metadata": {
        "id": "xN9LNuy_YRL0",
        "colab": {
          "base_uri": "https://localhost:8080/"
        },
        "outputId": "71c00c1b-a129-40ac-f94b-0d7471ce9840"
      },
      "execution_count": null,
      "outputs": [
        {
          "output_type": "stream",
          "name": "stdout",
          "text": [
            "Enter a valid integer greater than 0: 20\n",
            "[2, 4, 5, 10, 20]\n"
          ]
        }
      ]
    },
    {
      "cell_type": "markdown",
      "source": [
        " ## **Homework 6**\n",
        "Bu taskda təxmin oyunu yazırıq. Proqram hər dəfə random bir qiymətin seçilməsi ilə başlayır(1-100 arası) və userdən bir qiymət istəyir. Əgər daxil olunan qiymət random seçilmiş ədəddən kiçikdirsə \"Yuxarı təxmin et\", əgər daxil olunan qiymət random qiymətdən böyükdürsə o zaman \"Aşağı təxmin et\" yazılsın və yeni input istənilsin. İstifadəçi \"exit\" yazarsa proqram dayansın. Əks halda düzgün həll tapılana qədər davam etsin. Düzgün nəticə olduqda \"Təbriklər siz n sayda cəhdlə cavabı tapdınız\" sözü ekrana çıxsın(n burda cəhdlərin sayını təmsil edir)\n",
        "\n",
        "Example:\n",
        "\n",
        "*random qiymət*: 20\n",
        "#-------------------------\n",
        "\n",
        "*input*: 15\n",
        "\n",
        "\"Yuxarı təxmin et\"\n",
        "#-------------------------\n",
        "*yeni input*: 22\n",
        "\n",
        "\"Aşağı təxmin et\"\n",
        "#-------------------------\n",
        "*yeni input*: 20\n",
        "\n",
        "\"Təbriklər siz 3 sayda cəhdlə cavabı tapdınız\""
      ],
      "metadata": {
        "id": "zZXQieQOYSNQ"
      }
    },
    {
      "cell_type": "code",
      "source": [
        "import random\n",
        "\n",
        "rand = random.randint(1, 100)\n",
        "s = 0\n",
        "\n",
        "while True:\n",
        "    try:\n",
        "        inp = input('Guess the number (or type \"exit\" to quit): ')\n",
        "\n",
        "        if inp.lower() == 'exit':\n",
        "            print(f'Exiting the game...Random number was {rand}')\n",
        "            break\n",
        "\n",
        "        guess = int(inp)\n",
        "        s += 1\n",
        "\n",
        "        if guess == rand:\n",
        "            print(f'Congratulations! Found the answer in {s} tries.')\n",
        "            break\n",
        "        elif guess < rand:\n",
        "            print('Guess Up')\n",
        "        else:\n",
        "            print('Guess Down')\n",
        "\n",
        "    except ValueError:\n",
        "        print('Please enter a valid integer or type \"exit\" to quit.')"
      ],
      "metadata": {
        "colab": {
          "base_uri": "https://localhost:8080/"
        },
        "id": "iwStrZECbng_",
        "outputId": "7deeac82-511b-49d9-de6d-55b1155b81ee"
      },
      "execution_count": null,
      "outputs": [
        {
          "output_type": "stream",
          "name": "stdout",
          "text": [
            "Guess the number (or type \"exit\" to quit): 120-\n",
            "Please enter a valid integer or type \"exit\" to quit.\n",
            "Guess the number (or type \"exit\" to quit): 120exit\n",
            "Please enter a valid integer or type \"exit\" to quit.\n",
            "Guess the number (or type \"exit\" to quit): 120\n",
            "Guess Down\n",
            "Guess the number (or type \"exit\" to quit): 34\n",
            "Guess Down\n",
            "Guess the number (or type \"exit\" to quit): exit\n",
            "Exiting the game...Random number was 24\n"
          ]
        }
      ]
    },
    {
      "cell_type": "markdown",
      "source": [
        " ## **Homework 7**\n",
        "\n",
        "İstifadəçidən 1 ədəd daxil edir. Daxil faktorial qiymətini hesablayıb ekrana çıxarın\n",
        "\n",
        "Example:\n",
        "\n",
        "*ədəd*: 6\n",
        "\n",
        "*output*: 720"
      ],
      "metadata": {
        "id": "p_v4JpOTfCeh"
      }
    },
    {
      "cell_type": "code",
      "source": [
        "while True:\n",
        "  try:\n",
        "    n = int(input('Enter valid integer greater than 0: '))\n",
        "    if n <= 0:\n",
        "      raise ValueError('Number should be greater than 0, man')\n",
        "    k = 1\n",
        "    for i in range(1, n+1):\n",
        "      k*=i\n",
        "    print(k)\n",
        "    break\n",
        "  except:\n",
        "    print('Error! Please enter valid integer')"
      ],
      "metadata": {
        "id": "qyvxECLVglww",
        "colab": {
          "base_uri": "https://localhost:8080/"
        },
        "outputId": "4f7bd5e1-ee66-44b9-8ee2-e9fa87aae0d0"
      },
      "execution_count": null,
      "outputs": [
        {
          "output_type": "stream",
          "name": "stdout",
          "text": [
            "Enter valid integer greater than 0: o\n",
            "Error! Please enter valid integer\n",
            "Enter valid integer greater than 0: 6\n",
            "720\n"
          ]
        }
      ]
    },
    {
      "cell_type": "markdown",
      "source": [
        " ## **Homework 8**\n",
        "Uşaq teatrı rəhbərliyi qrup şəklində gələn uşaqlar üçün endirim tətbiq edir. Endirim yaşlar üzrə bu şəkildədir, normal biletin qiyməti isə 10 azndir. Endirimlər yalnız iki və daha çox uşaq gəldikdə tətbiq edilə bilər.\n",
        "\n",
        "0-3 yaş    10 faiz\n",
        "\n",
        "4-8 yaş    8 faiz\n",
        "\n",
        "9-12 yaş    6 faiz\n",
        "\n",
        "\n",
        "İstifadəçidən ilk olaraq, qrupdakı uşaqların sayını soruşun. Daha sonra, bu sayı nəzərə alaraq yaşları daxil etməsini istəyin. Sonda ümumi qiyməti ekranda çap edin."
      ],
      "metadata": {
        "id": "-x-xlKHLgoe6"
      }
    },
    {
      "cell_type": "code",
      "source": [
        "while True:\n",
        "    try:\n",
        "        n = int(input('Enter the number of children in the group: '))\n",
        "        if n < 0:\n",
        "            print('Enter a positive number')\n",
        "            continue\n",
        "        tot = 0\n",
        "        for i in range(n):\n",
        "            while True:\n",
        "                try:\n",
        "                    age = int(input('Enter age: '))\n",
        "                    if age < 0:\n",
        "                        print('Error! Enter a positive age')\n",
        "                        continue\n",
        "                    if age <= 3:\n",
        "                        tot += 10 * 0.9\n",
        "                    elif 4 <= age <= 8:\n",
        "                        tot += 10 * 0.92\n",
        "                    elif age < 12:\n",
        "                        tot += 10 * 0.94\n",
        "                    else:\n",
        "                        tot += 10\n",
        "                    break\n",
        "                except ValueError:\n",
        "                    print('Error! Enter a valid integer as age')\n",
        "        print(f'Final payment: {tot:.3f}')\n",
        "        break\n",
        "    except ValueError:\n",
        "        print('Error! Enter a valid integer as the number of children')\n"
      ],
      "metadata": {
        "id": "OoOlHerDCrhk",
        "colab": {
          "base_uri": "https://localhost:8080/"
        },
        "outputId": "dbcf3202-fb7f-4950-aa6d-5729a7dc0b53"
      },
      "execution_count": null,
      "outputs": [
        {
          "output_type": "stream",
          "name": "stdout",
          "text": [
            "Enter the number of children in the group: -9\n",
            "Enter a positive number\n",
            "Enter the number of children in the group: 90-\n",
            "Error! Enter a valid integer as the number of children\n",
            "Enter the number of children in the group: 3\n",
            "Enter age: 12-\n",
            "Error! Enter a valid integer as age\n",
            "Enter age: 23\n",
            "Enter age: 32\n",
            "Enter age: -3\n",
            "Error! Enter a positive age\n",
            "Enter age: 4\n",
            "Final payment: 29.200\n"
          ]
        }
      ]
    },
    {
      "cell_type": "markdown",
      "source": [
        " ## **Homework 9**\n",
        "Userdən 2 qiymət daxil etməsini istəyin. Daxil edilmiş ədədlər arasındakı sadə ədədləri ekrana çıxarın\n",
        "\n",
        "**Input**:   start = 25,\n",
        "             end = 50\n",
        "\n",
        "**Output**: 25 və 50 arasındakı sadə ədədlər:\n",
        "\n",
        "    29\n",
        "    31\n",
        "    37\n",
        "    41\n",
        "    43\n",
        "    47"
      ],
      "metadata": {
        "id": "gfwc813ophzd"
      }
    },
    {
      "cell_type": "code",
      "source": [
        "while True:\n",
        "  try:\n",
        "    n1 = int(input('Enter the starting number, which should be positive integer: '))\n",
        "    n2 = int(input('Enter the ending number, which should be positive integer and greater than the starting one: '))\n",
        "    if n1<=0 or n2 <= 0:\n",
        "      print('Please enter positive integers')\n",
        "    elif n2 <= n1:\n",
        "      print('Error! Ending number should be greater than the starting one')\n",
        "    else:\n",
        "      break\n",
        "  except ValueError as e:\n",
        "    print(f'Error! {e} Enter valid positive integers')\n",
        "\n",
        "def prime(n):\n",
        "  if n<=1:\n",
        "    return False\n",
        "  for i in range(2, n):\n",
        "    if n%i == 0:\n",
        "      return False\n",
        "  return True\n",
        "\n",
        "print(f'Prime numbers between {n1} and {n2}: ')\n",
        "for nu in range(n1, n2+1):\n",
        "  if prime(nu):\n",
        "    print(nu, end = ' ')"
      ],
      "metadata": {
        "id": "ds9fubSdqRNR",
        "colab": {
          "base_uri": "https://localhost:8080/"
        },
        "outputId": "30a575d7-f9fc-42d5-ee14-0d46dc162119"
      },
      "execution_count": null,
      "outputs": [
        {
          "output_type": "stream",
          "name": "stdout",
          "text": [
            "Enter the starting number, which should be positive integer: 24\n",
            "Enter the ending number, which should be positive integer and greater than the starting one: 90000-\n",
            "Error! invalid literal for int() with base 10: '90000-' Enter valid positive integers\n",
            "Enter the starting number, which should be positive integer: 78\n",
            "Enter the ending number, which should be positive integer and greater than the starting one: 67\n",
            "Error! Ending number should be greater than the starting one\n",
            "Enter the starting number, which should be positive integer: -90\n",
            "Enter the ending number, which should be positive integer and greater than the starting one: 89\n",
            "Please enter positive integers\n",
            "Enter the starting number, which should be positive integer: 78'670=\n",
            "Error! invalid literal for int() with base 10: \"78'670=\" Enter valid positive integers\n",
            "Enter the starting number, which should be positive integer: 78\n",
            "Enter the ending number, which should be positive integer and greater than the starting one: 670]\n",
            "Error! invalid literal for int() with base 10: '670]' Enter valid positive integers\n",
            "Enter the starting number, which should be positive integer: 7\n",
            "Enter the ending number, which should be positive integer and greater than the starting one: 679\n",
            "Prime numbers between 7 and 679: \n",
            "7 11 13 17 19 23 29 31 37 41 43 47 53 59 61 67 71 73 79 83 89 97 101 103 107 109 113 127 131 137 139 149 151 157 163 167 173 179 181 191 193 197 199 211 223 227 229 233 239 241 251 257 263 269 271 277 281 283 293 307 311 313 317 331 337 347 349 353 359 367 373 379 383 389 397 401 409 419 421 431 433 439 443 449 457 461 463 467 479 487 491 499 503 509 521 523 541 547 557 563 569 571 577 587 593 599 601 607 613 617 619 631 641 643 647 653 659 661 673 677 "
          ]
        }
      ]
    },
    {
      "cell_type": "markdown",
      "source": [
        " ## **Homework 10**\n",
        "Userdən 1 qiymət daxil etməsini istəyin. Daxil edilmiş qiymət sayına uyğun olaraq Fibonaççi ədədlərini ekrana çıxarın.\n",
        "\n",
        "*Qeyd*: Ilk 2 hədd 0 və 1 olmalıdır. Eyni zamanda user 2-dən kiçik qiymət daxil edə bilməz.\n",
        "\n",
        "**Input**:   10\n",
        "\n",
        "**Output**: Fibonaççi ədədləri:\n",
        "\n",
        "    0  1  1  2  3  5  8  13  21  34"
      ],
      "metadata": {
        "id": "A9ROTlverMeH"
      }
    },
    {
      "cell_type": "code",
      "source": [
        "while True:\n",
        "  try:\n",
        "    num = int(input('Enter the number of Fibonacci numbers: '))\n",
        "    if num < 2:\n",
        "      print('Number of values should be at least 2!')\n",
        "    else:\n",
        "      seq = [0, 1]\n",
        "      for i in range(2, num):\n",
        "        next = seq[-1] + seq[-2]\n",
        "        seq += [next]\n",
        "      print(seq)\n",
        "      break\n",
        "  except ValueError as e:\n",
        "    print(f'Error! {e} enter valid integer greater than or equal to 2!')"
      ],
      "metadata": {
        "id": "Xlbq0AErsYlk",
        "colab": {
          "base_uri": "https://localhost:8080/"
        },
        "outputId": "8edff7aa-3247-4a44-96b1-46402ce3d7cb"
      },
      "execution_count": null,
      "outputs": [
        {
          "output_type": "stream",
          "name": "stdout",
          "text": [
            "Enter the number of Fibonacci numbers: 1\n",
            "Number of values should be at least 2!\n",
            "Enter the number of Fibonacci numbers: 4\n",
            "[0, 1, 1, 2]\n"
          ]
        }
      ]
    },
    {
      "cell_type": "markdown",
      "source": [
        " ## **Homework 11**\n",
        "Userdən 1 cümlə daxil etməsini istəyin. Daxil edilmiş cümlənin tərkibindəki rəqəm və simvol saylarını hesablayıb ekrana çıxarın.\n",
        "\n",
        "**Input**:   hello world! 123\n",
        "\n",
        "**Output**:\n",
        "\n",
        "    LETTERS: 10\n",
        "    DIGITS: 3"
      ],
      "metadata": {
        "id": "t1yG2MF7spKt"
      }
    },
    {
      "cell_type": "code",
      "source": [
        "sent = input('Enter the sentence: ')\n",
        "#print(sent)\n",
        "l, d = 0, 0\n",
        "for i in sent:\n",
        "  if i.isdigit():\n",
        "    d+=1\n",
        "  elif i.isalpha():\n",
        "    l+=1\n",
        "print(f'Letters: {l}')\n",
        "print(f'Digits: {d}')\n"
      ],
      "metadata": {
        "id": "TD8Q3D7CtmUk",
        "colab": {
          "base_uri": "https://localhost:8080/"
        },
        "outputId": "b19c858b-7e30-4a12-e731-8f432ad646db"
      },
      "execution_count": null,
      "outputs": [
        {
          "output_type": "stream",
          "name": "stdout",
          "text": [
            "Enter the sentence: hello guyss 907\n",
            "Letters: 10\n",
            "Digits: 3\n"
          ]
        }
      ]
    },
    {
      "cell_type": "markdown",
      "source": [
        " ## **Homework 12**\n",
        "Userdən 1 ədəd daxil etməsini istəyin. Daxil edilmiş ədədin rəqəmləri cəmini ekrana çıxarın.\n",
        "\n",
        "*Vacib not:* String xüsusiyyətlərindən istifadə etmədən yalnız integer kimi baxıb məsələni həll edin\n",
        "\n",
        "**Input**: 4264\n",
        "\n",
        "**Output**:\n",
        "\n",
        "    16\n",
        "    "
      ],
      "metadata": {
        "id": "ikOqhMwMvGmt"
      }
    },
    {
      "cell_type": "code",
      "source": [
        "while True:\n",
        "  try:\n",
        "    n = int(input('Enter positive digit: '))\n",
        "    if n<=0:\n",
        "      print('Error! number should be positive')\n",
        "    else:\n",
        "      tot = 0\n",
        "      while n>0:\n",
        "        remainder = n % 10\n",
        "        tot+=remainder\n",
        "        n//=10\n",
        "      print(tot)\n",
        "      break\n",
        "  except ValueError as e:\n",
        "    print(f'Error! {e} enter valid integer greater than 0')"
      ],
      "metadata": {
        "id": "HkUp0JKmviUb",
        "colab": {
          "base_uri": "https://localhost:8080/"
        },
        "outputId": "a7d8d000-2697-48ec-c89a-3951c02ef70f"
      },
      "execution_count": null,
      "outputs": [
        {
          "output_type": "stream",
          "name": "stdout",
          "text": [
            "Enter positive digit: 904\n",
            "13\n"
          ]
        }
      ]
    },
    {
      "cell_type": "markdown",
      "source": [
        " ## **Homework 13**\n",
        "Userdən 1 ədəd daxil etməsini istəyin. Daxil edilmiş ədədin tərsini çıxarın.\n",
        "\n",
        "*Vacib not:* String xüsusiyyətlərindən istifadə etmədən yalnız integer kimi baxıb məsələni həll edin\n",
        "\n",
        "**Input**: 8320\n",
        "\n",
        "**Output**:\n",
        "\n",
        "    238\n",
        "  --------------------\n",
        "  **Input**: 345679\n",
        "\n",
        "**Output**:\n",
        "\n",
        "    976543\n",
        "    "
      ],
      "metadata": {
        "id": "mVTuz6ukwpek"
      }
    },
    {
      "cell_type": "code",
      "source": [
        "while True:\n",
        "  try:\n",
        "    num = int(input('Enter a number: '))\n",
        "    if num <= 0:\n",
        "      print('Error! enter valid positive integer')\n",
        "    else:\n",
        "      inv = 0\n",
        "      while num > 0:\n",
        "        dgt = num % 10\n",
        "        inv = inv * 10 + dgt\n",
        "        num //=10\n",
        "      print(inv)\n",
        "      break\n",
        "  except ValueError as e:\n",
        "    print(f'Error! {e} enter valid integer greater than 0')"
      ],
      "metadata": {
        "id": "PhD1iQ6mwjHy",
        "colab": {
          "base_uri": "https://localhost:8080/"
        },
        "outputId": "a83a5372-f604-4eb3-a070-9066304f73cc"
      },
      "execution_count": null,
      "outputs": [
        {
          "output_type": "stream",
          "name": "stdout",
          "text": [
            "Enter a number: -90\n",
            "Error! enter valid positive integer\n",
            "Enter a number: 90m\n",
            "Error! invalid literal for int() with base 10: '90m' enter valid integer greater than 0\n",
            "Enter a number: 123\n",
            "321\n"
          ]
        }
      ]
    },
    {
      "cell_type": "markdown",
      "source": [
        " ## **Homework 13**\n",
        "\n",
        "Aşağıdakı patterni ekrana çıxaran script yazın:\n",
        "\n",
        "![image.png](data:image/png;base64,iVBORw0KGgoAAAANSUhEUgAAAToAAAGgCAYAAAA6v6t5AAAMQGlDQ1BJQ0MgUHJvZmlsZQAASImVVwdYU8kWnluSkEBCCV1K6E0QkRJASggtgPQi2AhJgFBiDAQVO7Ko4NrFAjZ0VUSxA2JBEcXCotj7YkFBWRcLduVNCui6r3zvfN/c+99/zvznzLlzywCgfpIrFuegGgDkivIlsSEBjLHJKQxSN0AACdCABdDj8vLErOjoCABt8Px3e3cDekO76ijT+mf/fzVNviCPBwASDXEaP4+XC/EhAPBKnliSDwBRxltMzRfLMGxAWwIThHihDGcocKUMpynwPrlPfCwb4hYAVNS4XEkGALTLkGcU8DKgBq0PYmcRXygCQJ0BsW9u7mQ+xKkQ20IfMcQyfWbaDzoZf9NMG9LkcjOGsGIuclMJFOaJc7jT/89y/G/LzZEOxrCGTS1TEhormzOs263syeEyrAZxrygtMgpiLYg/CPlyf4hRSqY0NEHhjxrx8tiwZkAXYmc+NzAcYiOIg0U5kRFKPi1dGMyBGK4QdJownxMPsT7ECwV5QXFKn82SybHKWGhduoTNUvLnuBJ5XFmsB9LsBJZS/3WmgKPUx2iFmfFJEFMgtiwQJkZCTIPYKS87LlzpM7owkx056CORxsryt4Q4ViAKCVDoYwXpkuBYpX9pbt7gfLHNmUJOpBIfyM+MD1XUB2vhceX5w7lglwUiVsKgjiBvbMTgXPiCwCDF3LFugSghTqnzQZwfEKsYi1PEOdFKf9xckBMi480hds0riFOOxRPz4YJU6OPp4vzoeEWeeGEWNyxakQ++DEQANggEDCCFLQ1MBllA2N5b3wuvFD3BgAskIAMIgKOSGRyRJO8RwWMcKAR/QiQAeUPjAuS9AlAA+a9DrOLoCNLlvQXyEdngKcS5IBzkwGupfJRoKFoieAIZ4T+ic2HjwXxzYJP1/3t+kP3OsCAToWSkgxEZ6oOexCBiIDGUGEy0ww1xX9wbj4BHf9hccCbuOTiP7/6Ep4QOwiPCdUIn4fYkYZHkpyzHgE6oH6ysRdqPtcCtoaYbHoD7QHWojOvihsARd4VxWLgfjOwGWbYyb1lVGD9p/20GP9wNpR/ZmYyS9cj+ZNufR9LsaW5DKrJa/1gfRa5pQ/VmD/X8HJ/9Q/X58Bz+sye2EDuItWKnsPPYMaweMLAmrAFrw47L8NDqeiJfXYPRYuX5ZEMd4T/iDd5ZWSXznGuce5y/KPryBdNk72jAniyeLhFmZOYzWPCLIGBwRDyn4QwXZxdXAGTfF8Xr602M/LuB6LZ95+b/AYBP08DAwNHvXFgTAPs94ON/5Dtny4SfDlUAzh3hSSUFCg6XHQjwLaEOnzQDYAK/XrZwPi7AHXgDfxAEwkAUiAfJYCLMPhOucwmYCmaCeaAElIFlYDVYDzaBrWAn2AMOgHpwDJwCZ8FFcBlcB3fh6ukCL0AfeAc+IwhCQqgIHTFATBErxAFxQZiILxKERCCxSDKSimQgIkSKzETmI2XICmQ9sgWpRvYjR5BTyHmkA7mNPER6kNfIJxRD1VBt1Bi1RkegTJSFhqPx6AQ0A52CFqLF6BJ0LVqF7kbr0FPoRfQ62om+QPsxgKliupgZ5ogxMTYWhaVg6ZgEm42VYuVYFVaLNcL7fBXrxHqxjzgRp+MM3BGu4FA8AefhU/DZ+GJ8Pb4Tr8Nb8Kv4Q7wP/0agEowIDgQvAocwlpBBmEooIZQTthMOE87AZ6mL8I5IJOoSbYge8FlMJmYRZxAXEzcQ9xJPEjuIj4n9JBLJgORA8iFFkbikfFIJaR1pN6mJdIXURfqgoqpiquKiEqySoiJSKVIpV9mlckLlisozlc9kDbIV2YscReaTp5OXkreRG8mXyF3kzxRNig3FhxJPyaLMo6yl1FLOUO5R3qiqqpqreqrGqApV56quVd2nek71oepHNS01ezW22ng1qdoStR1qJ9Vuq72hUqnWVH9qCjWfuoRaTT1NfUD9QKPTnGgcGp82h1ZBq6Ndob1UJ6tbqbPUJ6oXqperH1S/pN6rQdaw1mBrcDVma1RoHNG4qdGvSdccqRmlmau5WHOX5nnNbi2SlrVWkBZfq1hrq9Zprcd0jG5BZ9N59Pn0bfQz9C5toraNNkc7S7tMe492u3afjpaOq06izjSdCp3jOp26mK61Lkc3R3ep7gHdG7qf9Iz1WHoCvUV6tXpX9N7rD9P31xfol+rv1b+u/8mAYRBkkG2w3KDe4L4hbmhvGGM41XCj4RnD3mHaw7yH8YaVDjsw7I4RamRvFGs0w2irUZtRv7GJcYix2Hid8WnjXhNdE3+TLJNVJidMekzppr6mQtNVpk2mzxk6DBYjh7GW0cLoMzMyCzWTmm0xazf7bG5jnmBeZL7X/L4FxYJpkW6xyqLZos/S1HKM5UzLGss7VmQrplWm1RqrVqv31jbWSdYLrOutu230bTg2hTY1NvdsqbZ+tlNsq2yv2RHtmHbZdhvsLtuj9m72mfYV9pccUAd3B6HDBoeO4YThnsNFw6uG33RUc2Q5FjjWOD500nWKcCpyqnd6OcJyRMqI5SNaR3xzdnPOcd7mfHek1siwkUUjG0e+drF34blUuFwbRR0VPGrOqIZRr1wdXAWuG11vudHdxrgtcGt2++ru4S5xr3Xv8bD0SPWo9LjJ1GZGMxczz3kSPAM853ge8/zo5e6V73XA6y9vR+9s713e3aNtRgtGbxv92Mfch+uzxafTl+Gb6rvZt9PPzI/rV+X3yN/Cn++/3f8Zy46VxdrNehngHCAJOBzwnu3FnsU+GYgFhgSWBrYHaQUlBK0PehBsHpwRXBPcF+IWMiPkZCghNDx0eehNjjGHx6nm9IV5hM0KawlXC48LXx/+KMI+QhLROAYdEzZm5Zh7kVaRosj6KBDFiVoZdT/aJnpK9NEYYkx0TEXM09iRsTNjW+PocZPidsW9iw+IXxp/N8E2QZrQnKieOD6xOvF9UmDSiqTOsSPGzhp7MdkwWZjckEJKSUzZntI/Lmjc6nFd493Gl4y/McFmwrQJ5ycaTsyZeHyS+iTupIOphNSk1F2pX7hR3CpufxonrTKtj8fmreG94PvzV/F7BD6CFYJn6T7pK9K7M3wyVmb0ZPpllmf2CtnC9cJXWaFZm7LeZ0dl78geyEnK2Zurkpuae0SkJcoWtUw2mTxtcofYQVwi7pziNWX1lD5JuGR7HpI3Ia8hXxv+yLdJbaW/SB8W+BZUFHyYmjj14DTNaaJpbdPtpy+a/qwwuPC3GfgM3ozmmWYz5818OIs1a8tsZHba7OY5FnOK53TNDZm7cx5lXva834uci1YUvZ2fNL+x2Lh4bvHjX0J+qSmhlUhKbi7wXrBpIb5QuLB90ahF6xZ9K+WXXihzLisv+7KYt/jCryN/XfvrwJL0Je1L3ZduXEZcJlp2Y7nf8p0rNFcUrni8cszKulWMVaWr3q6etPp8uWv5pjWUNdI1nWsj1jass1y3bN2X9Znrr1cEVOytNKpcVPl+A3/DlY3+G2s3GW8q2/Rps3DzrS0hW+qqrKvKtxK3Fmx9ui1xW+tvzN+qtxtuL9v+dYdoR+fO2J0t1R7V1buMdi2tQWukNT27x+++vCdwT0OtY+2Wvbp7y/aBfdJ9z/en7r9xIPxA80HmwdpDVocqD9MPl9YhddPr+uoz6zsbkhs6joQdaW70bjx81OnojmNmxyqO6xxfeoJyovjEQFNhU/9J8cneUxmnHjdPar57euzpay0xLe1nws+cOxt89nQrq7XpnM+5Y+e9zh+5wLxQf9H9Yl2bW9vh391+P9zu3l53yeNSw2XPy40doztOXPG7cupq4NWz1zjXLl6PvN5xI+HGrZvjb3be4t/qvp1z+9Wdgjuf7869R7hXel/jfvkDowdVf9j9sbfTvfP4w8CHbY/iHt19zHv84kneky9dxU+pT8ufmT6r7nbpPtYT3HP5+bjnXS/ELz73lvyp+WflS9uXh/7y/6utb2xf1yvJq4HXi98YvNnx1vVtc390/4N3ue8+vy/9YPBh50fmx9ZPSZ+efZ76hfRl7Ve7r43fwr/dG8gdGBBzJVz5rwAGG5qeDsDrHQBQkwGgw/0ZZZxi/yc3RLFnlSPwn7Bijyg3dwBq4f97TC/8u7kJwL5tcPsF9dXHAxBNBSDeE6CjRg21wb2afF8pMyLcB2yO/JqWmwb+jSn2nD/k/fMZyFRdwc/nfwFuDXxagZYyAQAAAIplWElmTU0AKgAAAAgABAEaAAUAAAABAAAAPgEbAAUAAAABAAAARgEoAAMAAAABAAIAAIdpAAQAAAABAAAATgAAAAAAAACQAAAAAQAAAJAAAAABAAOShgAHAAAAEgAAAHigAgAEAAAAAQAAATqgAwAEAAAAAQAAAaAAAAAAQVNDSUkAAABTY3JlZW5zaG90nkwT8QAAAAlwSFlzAAAWJQAAFiUBSVIk8AAAAdZpVFh0WE1MOmNvbS5hZG9iZS54bXAAAAAAADx4OnhtcG1ldGEgeG1sbnM6eD0iYWRvYmU6bnM6bWV0YS8iIHg6eG1wdGs9IlhNUCBDb3JlIDYuMC4wIj4KICAgPHJkZjpSREYgeG1sbnM6cmRmPSJodHRwOi8vd3d3LnczLm9yZy8xOTk5LzAyLzIyLXJkZi1zeW50YXgtbnMjIj4KICAgICAgPHJkZjpEZXNjcmlwdGlvbiByZGY6YWJvdXQ9IiIKICAgICAgICAgICAgeG1sbnM6ZXhpZj0iaHR0cDovL25zLmFkb2JlLmNvbS9leGlmLzEuMC8iPgogICAgICAgICA8ZXhpZjpQaXhlbFlEaW1lbnNpb24+NDE2PC9leGlmOlBpeGVsWURpbWVuc2lvbj4KICAgICAgICAgPGV4aWY6UGl4ZWxYRGltZW5zaW9uPjMxNDwvZXhpZjpQaXhlbFhEaW1lbnNpb24+CiAgICAgICAgIDxleGlmOlVzZXJDb21tZW50PlNjcmVlbnNob3Q8L2V4aWY6VXNlckNvbW1lbnQ+CiAgICAgIDwvcmRmOkRlc2NyaXB0aW9uPgogICA8L3JkZjpSREY+CjwveDp4bXBtZXRhPgpo2F0VAAAAHGlET1QAAAACAAAAAAAAANAAAAAoAAAA0AAAANAAACEo704DDQAAIPRJREFUeAHsnAlU1dW+x3+gKKylOGQmGgqmqGulpi/pObzKIFsO1b2VN5+amChgKGSpyHMgFJxyQEAkgUQhh9J6zjnkmFo+1HvfvWbepWDPUOsiXpPkMPr2b3vPv4P+D6Kd/9C/715Lzv7vvc/ev/35nfM9e9Std99nbxECCIAACFiYgBuEzsLeRddAAAQkAQgdPgggAAKWJ2C40Lm7u9HchHhq2LChhL0sJY0uXPjO8uDRQRAAAf0IGC503NXcNVlKj2fGzaGCggvKMyIgAAIg8GsJ6C50DRp4kK+vL50/n6/YnrM6k9zc3OTz+MhounGjRMZ9fHyorMxGxcXXlLKIgAAIgMD9EtBd6CZOGE9PBT5JJ06eopTUFVRZWUWrstLJw8ND2j5yVKh8DRk1goKD+tOly1coZtqM++0XyoMACICAQkBXoWvTpjXNnztbGb2VltooWYhdlBA/Ly9Pqq6uprj4RJrybjR5e3srRq74IJOOHDmmPCMCAiAAAvdDQFehCw5+jkLeGK4IXV0N3X/wMGVlZde1OMqBAAiAQA0Cugodt8wjtdAxo6hnjyfuKXjnzuVThhC4wsLCGkbjAQRAAATuh4DuQmc3rnHjRjRrRiz5+LSyJymvNluZmMImCIG7pKQhAgIgAAIPSsAQoevRo7uYwo6gFi0ecmp3SUkJbfpsC+3Z84XTMsgAARAAgboQ0FXoAgI60oS3wql582Z1sU2WKS0tpZyP1tOhQ1/W+T0oCAIgAAKOBHQVusDAXmKHNcKxffr6eB516/q43HWtqqoi3ngI6v9MjfW7vfsOUHZ2To334QEEQAAE6kpAV6Fjo95fkCjX5XiklpScRqdPf0MfZqYTHyTmwOfofH0fpamTJ1GzZk2J1+vCIiLF0RP8JysSEP6AAAjcNwHdhY5FbMjggbQyI4uqqqqlwWuyM8jd3V3Gx4ZFCnGzyfiw14dSfkEBHRejPgQQAAEQeFACugudmqGOd11jYmdit1UNEtJAAAQemIDhQsf/e8nqVRnKmhzfjHC8B/vAPcMbQQAEQOBfBAwXOngCBEAABLQmAKHTmjDqBwEQMJwAhM5wF8AAEAABrQlA6LQmjPpBAAQMJwChM9wFMAAEQEBrAhA6rQmjfhAAAcMJQOgMdwEMAAEQ0JoAhE5rwqgfBEDAcAIQOsNdAANAAAS0JgCh05ow6gcBEDCcAITOcBfAABAAAa0JQOi0Joz6QQAEDCcAoTPcBTAABEBAawIQOq0Jo34QAAHDCUDoDHcBDAABENCaAIROa8KoHwRAwHACEDrDXQADQAAEtCYAodOaMOoHARAwnACEznAXwAAQAAGtCUDotCaM+kEABAwnAKEz3AUwAARAQGsCEDqtCaN+EAABwwlA6Ax3AQwAARDQmgCETmvCqB8EQMBwAhA6w10AA0AABLQmAKHTmjDqBwEQMJwAhM5wF8AAEAABrQlA6LQmjPpBAAQMJwChM9wFMAAEQEBrAhA6rQmjfhAAAcMJQOgMdwEMAAEQ0JoAhE5rwqgfBEDAcAKGC527uxvNTYinhg0bShjLUtLowoXvDAczccJ4au/vJ+3YvXcf7dy5y3CbYAAIgMCDETBc6Njs3DVZivUz4+ZQQcEF5dmoSFrqUvL29pbN79q9l3Jy1xllCtoFARD4lQR0F7oGDTzI19eXzp/PV0zPWZ1Jbm5u8nl8ZDTduFEi4z4+PlRWZqPi4mtKWa0iXbp0pjNnvlWqX7p4AT38cAv5vG7DRtq+faeMe3p6UuvWPpSfX6CURQQEQMDcBHQXOp4SPhX4JJ04eYpSUldQZWUVrcpKJw8PD0lq5KhQ+RoyagQFB/WnS5evUMy0GZpSDAzsRVETIujKlR9o/sIlVFRURPMS44UgPyrbTUvPpKNHj1Hfvr0p9M0QIcpE4yPfJpvNpqldqBwEQMA1BHQVujZtWtP8ubOV0VtpqY2ShdhFCfHz8vKk6upqiotPpCnvRivTRu7mig8y6ciRY67p8R21sGitTE8V7XvJHLZh06ebqXu3rhQQ0EGmLUlKpZeGDKIOHdor7847cYqSlqUqz4iAAAiYl4CuQhcc/ByFvDFcEbq6Ytl/8DBlZWXXtfh9lWPxTZg9SxlRqr351q1bd9lceOmy5iNNNVuQBgIgcP8EdBU6No8X+EPHjKKePZ64SzzuNP/cuXzKEAJXWFh4Z5ZLn+vVc6ehr71KA54PIl5DrC0UFV2l3LXrKS/vZG3FkAcCIGAiAroLnb3vjRs3olkzYsnHp5U9SXm12crEFDZBCNwlJU2PCB91CRsXSv3EWpxa4Gn28eN5allIAwEQMDEBQ4SuR4/uYgo7glq0eMgpmpKSEtr02Rbas+cLp2VcmcFTWN5osK/LqdVdUVFBBw8fobViRFdeXqFWBGkgAAImJKCr0AUEdKQJb4VT8+bN6oyitLSUcj5aT4cOfVnn99xPQR5ZTn4nmh577JeNhnu9v6qqivYfOETZq3PvVRT5IAACJiCgq9DZj3E49vtrMRXs1vVxuesqBURsPAT1f6bG+t3efQcoOzvH8W0ui7PQLU9ZSu7u7kqdPGWuqKwkv3ZtZdqOz3fT8+Koi/0IDCdeFsdepsRMV96DCAiAgHkJ6Cp0jOH9BYlyXY5HaknJaXT69Df0YWa6sgnA5+j4/NrUyZOoWbOm4qxaGYVFRIqjJ7c0ozg6ZKQ8s8dHSzZ88qk8HDxH7MT6+7WTbdrtnCyOvXQSo1IOsdPj6OLF72Ucf0AABMxNQHehYxEbMnggrczIoqqqaklnTXaGMqIaGxapHMQd9vpQyi8o0HwDgDchoqMiaU3OWrp6tVjatGjhXGrV6pHb9onrX7vFNTAOPCplAdzw8Ub5jD8gAALmJ6C70KkhcbzrGhM7U/fdVjWbUpOXUNOmTWTW1m07IWxqkJAGAr8RAoYLHY+mVq/KUNbk+GaE4z1Yozg6Ch0u9RvlBbQLAq4hYLjQuaYbqAUEQAAEnBOA0DlngxwQAAGLEIDQWcSR6AYIgIBzAhA652yQAwIgYBECEDqLOBLdAAEQcE4AQuecDXJAAAQsQgBCZxFHohsgAALOCUDonLNBDgiAgEUIQOgs4kh0AwRAwDkBCJ1zNsgBARCwCAEInUUciW6AAAg4JwChc84GOSAAAhYhAKGziCPRDRAAAecEIHTO2SAHBEDAIgQgdBZxJLoBAiDgnACEzjkb5IAACFiEAITOIo5EN0AABJwTgNA5Z4McEAABixCA0FnEkegGCICAcwIQOudskAMCIGARAhA6izgS3QABEHBOAELnnA1yQAAELEIAQmcRR6IbIAACzglA6JyzQQ4IgIBFCEDoLOJIdAMEQMA5AQidczbIAQEQsAgBCJ1FHIlugAAIOCcAoXPOBjkgAAIWIQChs4gj0Q0QAAHnBCB0ztkgBwRAwCIEIHQWcSS6AQIg4JyA4ULn7u5GcxPiqWHDhtLKZSlpdOHCd84t1iln4oTx1N7fT7a2e+8+2rlzl04tO2/G39+PJkZGkJubG5WXl1NM7EznhZEDAiCgEDBc6NiS3DVZikEz4+ZQQcEF5dmoSFrqUvL29pbN79q9l3Jy1xllitJuv359KCIsVD5XVlbS6DHhSh4iIAACzgnoLnQNGniQr68vnT+fr1iVszpTjlI4YXxkNN24USLzfHx8qKzMRsXF15SyWkW6dOlMZ858q1S/dPECevjhFvJ53YaNtH37Thn39PSk1q19KD+/QCmrVaRly5ZUVVVJV68Wyya6dn2cYqZMkvHSUhuNC49Umu7cuROdPXuWbt1SkhABARD4FwHdhY6nhE8FPkknTp6ilNQVVFlZRauy0snDw0OaNHLU7RFLyKgRFBzUny5dvkIx02Zo6rDAwF4UNSGCrlz5geYvXEJFRUU0LzFeCPKjst209Ew6evQY9e3bm0LfDBGizIL8NtlsNk3tSlm2mJo08aZNn26mzVu2Udu2bcU0P062ef36TxQ5cRJ5eXnRlHffpoCADrRrzxeUk7NWU5tQOQj8FgnoKnRt2rSm+XNnK6M3HpUkC7GLEuLn5eVJ1dXVFBefKL640cq0kaGu+CCTjhw5pglfFq2V6alSMLgBtoGFpXu3rlI8OG1JUiq9NGQQdejQnh9lyDtxipKWpdofXf46aNALNHzYn5R6LwvBT0vPoDnxt9flWJS3ilHmaPGDYP+RYNujJ02la9e0HwErhiECAr8BAroKXXDwcxTyxnBF6OrKZ//Bw5SVlV3X4vdVjsU3YfYsRSzU3nxLzAd5A8AxFF66rOlIMzoqkno92dOxSSnC7u7uNdIcH1joWAy/+uq4YzLiIPC7J6Cr0DFtXuAPHTOKevZ44i7xuNMb587lU4YQuMLCwjuzXPpcr547DX3tVRrwfBDxGmJtoajoKuWuXU95eSdrK+aSvPbt/WnsmBAxZfWttT4WuK+P51H26hz6+eebtZZFJgj8HgnoLnR2yI0bN6JZM2LJx6eVPUl5tdnKxBQ2QQjcJSVNjwgfdQkbF0r9xFqcWuBp9nEhKHoHf38/ipsZS/Xr17+rad7U4XXF0tLSu/KQAAIgcJuAIULXo0d3MYUdQS1aPOTUDyUlJbTpsy20Ryyw6xF4CssbDbyo7yxUVFTQwcNHaK0Y0ZWXVzgr5rJ0ni2/OGSw+DdQWUNUq5w3bFZl59TYNVYrhzQQ+L0S0FXoAgI60oS3wql582Z15s0jlZyP1tOhQ1/W+T33U5BHlpPfiabHHvtlo+Fe76+qqqL9Bw6JqWLuvYo+cP6AAcH0+tBXlIPUdanoxx//ITd3zHDgui72ogwI6EVAV6GzH+Nw7ByvLXUT58N411UKiNh4COr/TI31u737DlC2GLFoEVjolqcsJcdFfp4yV4gDuX7t2somd3y+m54P6l9jw4J3QafETNfCJFmn/RiOvQFeh9u8dTv98eUXZRKL2j+vX6eAjjVHoInz3sfIzg4NryDwLwK6Ch23+f6CRLkuxyO1pOQ0On36G/owM13ZBOBzdHx+berkSdSsWVNxVq2MwiIixY6jdidhR4eMlGf2WEw2fPKpPBw8R+zE+vu1k5jsdk4Wx146iVEph9jpcXTx4vcyrsUfPpi8YnmSFFeems5fsEiM7jwFvwTZXLE4QhIVPZn69OktNyx4E4U3b96bnaiFOagTBH7TBHQXOhaxIYMH0sqMLDGCq5bw1mRnKCOqsWGRykHcYa8PpfyCAs03AHgTgo9zrBGHbe23EBYtnEutWj1y2z5x/Wu3uAbGgUelLIAbPt4on7X88+yzT1OjRo1o27YdspkuXTrR9NipMn7z5k3xAzBRxlkUw8XVsJzctbrcItGyz6gbBLQgoLvQqXXC8a4rX1TXe7dVzabU5CXUtGkTmbV1205dhE3NDsc0x6k/b4y8GRrhmI04CICAEwKGCx2PplavylDW5PhmhOM9WCd2a57sKHRmudTPV9DGh4+VfYfQaf4RQAMWImC40FmIJboCAiBgUgIQOpM6BmaBAAi4jgCEznUsURMIgIBJCUDoTOoYmAUCIOA6AhA617FETSAAAiYlAKEzqWNgFgiAgOsIQOhcxxI1gQAImJQAhM6kjoFZIAACriMAoXMdS9QEAiBgUgIQOpM6BmaBAAi4jgCEznUsURMIgIBJCUDoTOoYmAUCIOA6AhA617FETSAAAiYlAKEzqWNgFgiAgOsIQOhcxxI1gQAImJQAhM6kjoFZIAACriMAoXMdS9QEAiBgUgIQOpM6BmaBAAi4jgCEznUsURMIgIBJCUDoTOoYmAUCIOA6AhA617FETSAAAiYlAKEzqWNgFgiAgOsIQOhcxxI1gQAImJQAhM6kjoFZIAACriMAoXMdS9QEAiBgUgIQOpM6BmaBAAi4jgCEznUsURMIgIBJCUDoTOoYmAUCIOA6AhA617FETSAAAiYlAKEzqWNgFgiAgOsIQOhcxxI1gQAImJQAhM6kjoFZIAACriNguNC5u7vR3IR4atiwoezVspQ0unDhO9f18AFrmjhhPLX395Pv3r13H+3cuesBa3Ld2/z9/WhiZAS5ublReXk5xcTOdF3lD1iTWf33gN3B2yxKwHChY665a7IUvDPj5lBBwQXl2ahIWupS8vb2ls3v2r2XcnLXGWWK0m6/fn0oIixUPldWVtLoMeFKnpERM/rPSB5o23wEdBe6Bg08yNfXl86fz1do5KzOlKMUThgfGU03bpTIPB8fHyors1Fx8TWlrFaRLl0605kz3yrVL128gB5+uIV8XrdhI23fvlPGPT09qXVrH8rPL1DKahVp2bIlVVVV0tWrxbKJrl0fp5gpk2S8tNRG48IjlaY7d+5EZ8+epVu3lCRNImb1nyadRaWWIaC70PGU8KnAJ+nEyVOUkrqCKiuraFVWOnl4eEioI0fdHrGEjBpBwUH96dLlKxQzbYamwAMDe1HUhAi6cuUHmr9wCRUVFdG8xHghyI/KdtPSM+no0WPUt29vCn0zRIgyC/LbZLPZNLUrZdliatLEmzZ9upk2b9lGbdu2FdP8ONnm9es/UeTESeTl5UVT3n2bAgI60K49X1BOzlpNbTKj/zTtMCq3BAFdha5Nm9Y0f+5sZfTGo5JkIXZRQvy8vDypurqa4uITxRc3Wpk2MuUVH2TSkSPHNAHOorUyPVUKBjfANrCwdO/WVYoHpy1JSqWXhgyiDh3a86MMeSdOUdKyVPujy18HDXqBhg/7k1LvZSH4aekZNCf+9roci/JWMcocLX4Q7D8SbHv0pKl07Zo2I2Az+k8BhAgI1EJAV6ELDn6OQt4YrghdLXbVyNp/8DBlZWXXSHPVA395E2bPUsRCrd5bYj7IGwCOofDSZU1HmtFRkdTryZ6OTUoRdnd3r5Hm+MBCx2L41VfHHZNdFjej/1zWOVRkaQK6Ch2T5AX+0DGjqGePJ+4SjztJnzuXTxlC4AoLC+/MculzvXruNPS1V2nA80HEa1C1haKiq5S7dj3l5Z2srZhL8tq396exY0LElNW31vpY4L4+nkfZq3Po559v1lr212aa0X+/tk94v/UJ6C50dqSNGzeiWTNiycenlT1JebXZysQUNkEI3CUlTY8IH5UIGxdK/cRanFrgafZxISh6B39/P4qbGUv169e/q2ne1OF1xdLS0rvytEwwo/+07C/q/m0TMEToevToLqawI6hFi4ec0ispKaFNn22hPWKBXY/AU1jeaOBFfWehoqKCDh4+QmvFiK68vMJZMZel82z5xSGDxb+ByhqiWuW8YbMqO6fGrrFaOVelmdF/ruob6rEmAV2FLiCgI014K5yaN29WZ5o8Usn5aD0dOvRlnd9zPwV5ZDL5nWh67LFfNhru9f6qqiraf+CQmCrm3qvoA+cPGBBMrw99RTlIXZeKfvzxH3JzR6sD12b0X124oAwI6Cp09mMcjth5bambOB/Gu65SQMTGQ1D/Z2qs3+3dd4CyxYhFi8BCtzxlKTku8vOUuUIcyPVr11Y2uePz3fR8UP8aGxa8CzolZroWJsk67cc47A3wOtzmrdvpjy+/KJNY1P55/ToFdKw5Ak2c975mIzsz+s/OB68gUBsBXYWODXl/QaJcl+ORWlJyGp0+/Q19mJmubALwOTo+vzZ18iRq1qypOKtWRmERkWLHUbuTsKNDRsozeywmGz75VB4OniN2Yv392kl2djsni2MvncSolEPs9Di6ePF7GdfiDx9MXrE8SYorT03nL1gkRneegl+CbK5YHCGJip5Mffr0lhsWvInCmzfvzU7UwhylTjP6TzEOERBwQkB3oWMRGzJ4IK3MyBIjuGpp1prsDGVENTYsUjmIO+z1oZRfUKD5BgBvQvBxjjXisK39FsKihXOpVatHbtsnrn/tFtfAOPCohgVww8cb5bOWf5599mlq1KgRbdu2QzbTpUsnmh47VcZv3rwpfgAmyjiLYri4GpaTu1bzWyRm9J+WPkDd1iCgu9CpYXO8K8kX1fXebVWzKTV5CTVt2kRmbd22UxdhU7PDMc1x6sgbI2+GRjhmGxY3o/8Mg4GGTUnAcKHj0dTqVRnKmhzfjHC8B2sUNUehM8ulfr6CNj58rERiFqEzq/+M+tygXXMSMFzozIkFVoEACFiJAITOSt5EX0AABFQJQOhUsSARBEDASgQgdFbyJvoCAiCgSgBCp4oFiSAAAlYiAKGzkjfRFxAAAVUCEDpVLEgEARCwEgEInZW8ib6AAAioEoDQqWJBIgiAgJUIQOis5E30BQRAQJUAhE4VCxJBAASsRABCZyVvoi8gAAKqBCB0qliQCAIgYCUCEDoreRN9AQEQUCUAoVPFgkQQAAErEYDQWcmb6AsIgIAqAQidKhYkggAIWIkAhM5K3kRfQAAEVAlA6FSxIBEEQMBKBCB0VvIm+gICIKBKAEKnigWJIAACViIAobOSN9EXEAABVQIQOlUsSAQBELASAQidlbyJvoAACKgSgNCpYkEiCICAlQhA6KzkTfQFBEBAlQCEThULEkEABKxEAEJnJW+iLyAAAqoEIHSqWJAIAiBgJQIQOit5E30BARBQJQChU8WCRBAAASsRgNBZyZvoCwiAgCoBw4XO3d2N5ibEU8OGDaWBy1LS6MKF71SN1TNx4oTx1N7fTza5e+8+2rlzl57Nq7bl7+9HEyMjyM3NjcrLyykmdqZqOT0Tzeq/gQNfoAHBz0kU5/MLKHV5up5Y0JbJCBgudMwjd02WgmVm3BwqKLigPBsVSUtdSt7e3rL5Xbv3Uk7uOqNMUdrt168PRYSFyufKykoaPSZcyTMyYkb/vfP2ROrZ8wmJpbDwkil+FIz00e+9bd2FrkEDD/L19aXz5/MV9jmrM+UohRPGR0bTjRslMs/Hx4fKymxUXHxNKatVpEuXznTmzLdK9UsXL6CHH24hn9dt2Ejbt++UcU9PT2rd2ofyxShB69CyZUuqqqqkq1eLZVNduz5OMVMmyXhpqY3GhUcqJnTu3InOnj1Lt24pSZpEzOq/jh07iB/IAqqsrJL9Dhs3hp7+j74y/ve/n6PZCfMUHnf6WslAxLIEdBc6nhI+FfgknTh5ilJSV8gP5qqsdPLw8JCQR466PWIJGTWCgoP606XLVyhm2gxNHRAY2IuiJkTQlSs/0PyFS6ioqIjmJcYLQX5UtpuWnklHjx6jvn17U+ibIUKUWZDfJpvNpqldKcsWU5Mm3rTp0820ecs2atu2rZjmx8k2r1//iSInTiIvLy+a8u7bFBDQgXbt+YJyctZqapMZ/ccj79TkxeJHsZySxWfqr3/9G/3nsD/R4EEvSBZ5J05R0rJUyW/Ku9HUrFlTSpy3UPywndWUFSo3DwFdha5Nm9Y0f+5sZfTGoxL+YEYJ8fPy8qTq6mqKi08UX9xoZdrIqFZ8kElHjhzThBqL1sr0VCkY3ADbwMLSvVtXKR6ctiQplV4aMog6dGjPjzLYvzz2Z1e/DhJf0uHiy2oPl4Xgp6Vn0Jz42+tyLMpbxShztPhBsP9IsO3Rk6bStWvajIDN6D/mM3PGNOoU0NGOitg3vM772qt/kGn7DxySr88+8x/KZ8/+Q6G8CRFLE9BV6ILF4nDIG8OVD1tdye4/eJiysrLrWvy+yvGXN2H2LEUs1N58S8wHeQPAMRReuqzpSDM6KpJ6PdnTsUkpwu7u7jXSHB9Y6FgMv/rquGOyy+Jm9B93LjlpETVv3uy++llWVkaT3p1GP/300329D4V/mwR0FTpGxNOM0DGjqGePJ+4SjzsRnjuXTxlC4AoLC+/MculzvXruNPS1V2nA80HEa1C1haKiq5S7dj3l5Z2srZhL8tq396exY0LElMu31vpY4L4+nkfZq3Po559v1lr212aa0X/cJ96oGT5saI2ZgFpfbbYy2r7jc/rvzVs0X89Uax9pxhDQXejs3WzcuBHNmhFLPj6t7EnKK38Y4+IThMBdUtL0iPBRibBxodRPrMWpBZ5mHxeConfw9/ejuJmxVL9+/bua5k0dXlcsLS29K0/LBDP6j/v77LNPyx8Htb5/vmsvfbR2HQRODY7F0wwRuh49uosp7Ahq0eIhp3hLSkpo02dbaI9YYNcj8BSWNxp4Ud9ZqKiooIOHj9BaMaIrL69wVsxl6TxbfnHIYPFvoLKGqFY5b9isys6psWusVs5VaWb0H2/KjBLLIn16P0X16tVT7SovQZw+fYYyP1wtN5xUCyHRkgR0FboAsWA84a3w+1pP4ZFKzkfr6dChLzVxAI9MJr8TTY899stGw70aqqqqIl7gzl6de6+iD5w/YEAwvT70FeUgdV0q+vHHf8jNHa0OXJvRf8xlfMQ46v3vgVTb+uWd/L49+3datHiZ5jvnd7aLZ2MI6Cp09mMcjl3ltaVu4nwY77pKAREbD0H9n6mxfrd33wHKFiMWLQIL3fKUpTW+JDxlrhAHcv3atZVN7vh8Nz0f1L/GhgXvgk6Jma6FSbJO+zEOewO8Drd563b648svyiQWtX9ev04BHWuOQBPnva/ZyM6M/mMYfAyHj4zYA/84/vkvf5Xix2l//sv/kr+fnzyqYy/DB67DIiboMjK3t4lX4wjoKnTczfcXJMp1Of4wJiWnianEN/RhZrqyCcDn6Pj82tTJk+SHl9frwiIixY6jdidhR4eMlGf2WEw2fPKpPBw8R+zE+vu1k56x2zlZHHuxH2OInR5HFy9+r5nn+GDyiuVJUlx5ajp/wSIxuvMU/BJkm8XiCElU9GTq06e3XJPiTRTevHlvdqJmNnHFZvQfHwCeHjtF9vt/xCZR6vIV9Morf6CXXxws0776+rhI+4DeEFNbvhbGO+gfb/yMtoiziQi/DwK6Cx2L2JDBA2llRpYYwVVLymuyM5QR1diwSGU6Mez1oZQvTrtrvQHAmxB8nGONOGxrv4WwaOFcatXqkdv2ietfu8U1MA48qmEB3PDxRvms5R9eWG/UqBFt27ZDNtOlSyfxhZ4q4zdv3hQ/ABNlnEUxXFwNy8ldq/ktEjP6jyHwjxWfn/vb305LJqFit7q/4Mfh9DdnaN78RTLOa7GvChFMFneqEX4/BHQXOjW0jncl+aK63rutajalJi+hpk2byKyt23bqImxqdjimOU4deWPkzdAIx2zD4mb0X9TEtyiw179JJt/930WaPuM9w/igYeMJGC50PJpavSpDWZPjmxGO92CNQuQodGa51M9X0MaHj5VIzCJ0ZvWf44Hr778vpGn/NcuojxLaNQEBw4XOBAxgAgiAgMUJQOgs7mB0DwRAgAhCh08BCICA5Qn8PwAAAP//5H/cZwAAGZVJREFU7dx7UJZVHgfwHygCM4piaqKh4AV1JjUcpfEyWwa546V2dsvVUQMTAwyFLJQYLywK5qUUhZAEEoW8lNp4i0TzmloO6l9mzijQGGot4rqSvNz3nGPvsy/6vIj23Dx9n5ngub3nOedzXr88l/PkMnzki42ECQIQgIDEAi4IOol7F02DAASEAIIOXwQIQEB6AQSd9F2MBkIAAgg6fAcgAAHpBRB00ncxGggBCCDo8B2AAASkF0DQSd/FaCAEIICgw3cAAhCQXgBBJ30Xo4EQgACCDt8BCEBAegEEnfRdjAZCAAIIOnwHIAAB6QUQdNJ3MRoIAQgg6PAdgAAEpBdA0EnfxWggBCCAoMN3AAIQkF4AQSd9F6OBEIAAgg7fAQhAQHoBBJ30XYwGQgACCDp8ByAAAekFEHTSdzEaCAEIIOjwHYAABKQXQNBJ38VoIAQggKDDdwACEJBeAEEnfRejgRCAAIIO3wEIQEB6AQSd9F2MBkIAAgg6fAcgAAHpBUwPOldXF1qWnETu7u4Ce21aBpWW/mQ6/JzZs6iXv5+oR+Ghw1RQcMD0Ovn7+9Gc6ChycXGhmpoaik9YZHqdrNp/psOgApYSMD3ouEb+5hwFZVHiUiopKVWWzZrJSF9DXl5e4vAHCg9RXv5Ws6qiHHfUqBEUFREuluvq6mj6jEhlm5kzVuw/Mz1wbOsJGB50bdq4ka+vL125Uqxo5G3KFmcpfMWs6Fi6c6dSbPPx8aHqahtVVNxS9tVrZsCA/nTx4o9K8Ws+WkGdO3cSy1u376D9+wvEvIeHB3Xr5kPFxSXKvnrNdOnSherr6+jmzQpxiIEDn6X4eXPFfFWVjd6KjFYO3b9/P7p06RI1NiqrdJmxav/p0lgUKo2A4UHHLwmfDxpKZ8+dp7T09VRXV08bczLJzc1NoE4LvXfGEhY6lUKCR9O16zco/v2FuoIHBQ2jmNlRdOPGL7R85WoqLy+nD1KSWCA/I46bkZlNp06dppEjh1P4m2EslHkgv0M2m03XeqWt/Yjat/einbt20+49+6hHjx7sMj9RHPP27f9S9Jy55OnpSfPee4cCAvrQgYPfUF7eFl3rZMX+07XBKFwKAUODrnv3brR82RLl7I2flaxjYRfDws/T04MaGhooMSmF/cONVS4bufL6T7Lp5MnTuoDz0NqQmS4Cgx+A14EHy+BBA0V48HWrU9Pp1QnjqE+fXnxRTEVnz1Pq2nT7oua/x437K02Z/E+l3Oss8DMys2hp0r37cjyU97KzzOnsD4L9jwSve+zc+XTrlj5nwFbsPwUIMxBoRsDQoAsJeYnC3piiBF0z9Wqy6cixE5STk9tknVYL/B9v8pLFSlioldvIrgf5AwDHqezadV3PNGNjomnY0CGOhxQh7Orq2mSd4wIPOh6G3313xnG1ZvNW7D/NGoeCpBYwNOi4JL/BHz4jlIYEPvdAeNwvfflyMWWxgCsrK7t/k6bLrVq50sTXX6MxLwcTvwfV3FRefpPyt2yjoqJzze2mybZevfxp5owwdsnq22x5POC+P1NEuZvy6Lff7ja77x/daMX++6NtwuflFzA86Oyk7dq1pcULE8jHp6t9lfLbZqtml7DJLOCuKeuMmOFDJSLeCqdR7F6c2sQvs8+wQDF68vf3o8RFCdS6desHDs0f6vD7ilVVVQ9s03OFFftPz/ai7CdbwJSgCwwczC5hp1KnTk851ausrKSdX+6hg+wGuxETv4TlDxr4TX1nU21tLR07cZK2sDO6mppaZ7tptp5fLb8yYTz7b6xyD1GtcP7AZmNuXpOnxmr7abXOiv2nVdtQjpwChgZdQEBfmv12JHXs6N1iTX6mkvfZNjp+/NsWf+ZRduRnJnHvxlLv3v9/0PCwz9fX19ORo8fZpWL+w3Z97O1jxoTQpIn/UAZSt6SgX3/9t3i4o9eAayv2X0tcsA8EDA06+zAOR3Z+b2kQGx/Gn7qKAGEPHoJHv9Dk/t2hw0cpl52x6DHxoPs4bQ053uTnl8y1bECuX88e4pBffV1ILwePbvLAgj8FnRe/QI8qiTLtwzjsB+D34Xbv3U9//9srYhUPtf/cvk0BfZuegaZ8sEq3Mzsr9p/dB78h0JyAoUHHK7JqRYq4L8fP1FLXZdCFCz/Qp9mZykMAPo6Oj1+bHzeXvL07sLFq1RQRFc2eOOo3EnZ62DQxZo+HyfYvdonBwUvZk1h/v57Czl7PODbspR87K+VTwoJEunr1ZzGvxw8+MHn9x6kiXPml6fIVH7KzOw/mlywOV8GGkMTExtGIEcPFAwv+EIU/vPnXkhQ9qqOUacX+UyqHGQg4ETA86HiITRg/ljZk5bAzuAZRrc25WcoZ1cyIaGUg7uRJE6m4pET3BwD8IQQfzrGZDba1v4Xw4cpl1LXr0/fqx17/KmSvgfGJn9XwANz++Q6xrOePF1/8C7Vt25b27ftKHGbAgH60IGG+mL979y77AzBHzPNQjGSvhuXlb9H9LRIr9p+efYCy5RAwPOjU2BzfleQvqhv9tFWtTunrVlOHDu3Fpr37CgwJNrV6OK5zvHTkD0beDI9y3GzavBX7zzQMHNiSAqYHHT+b2rQxS7knx9+McHwP1iw1x6Czykv9/BW0WZEzBYlVgs6q/WfW9wbHtaaA6UFnTRbUCgIQkEkAQSdTb6ItEICAqgCCTpUFKyEAAZkEEHQy9SbaAgEIqAog6FRZsBICEJBJAEEnU2+iLRCAgKoAgk6VBSshAAGZBBB0MvUm2gIBCKgKIOhUWbASAhCQSQBBJ1Nvoi0QgICqAIJOlQUrIQABmQQQdDL1JtoCAQioCiDoVFmwEgIQkEkAQSdTb6ItEICAqgCCTpUFKyEAAZkEEHQy9SbaAgEIqAog6FRZsBICEJBJAEEnU2+iLRCAgKoAgk6VBSshAAGZBBB0MvUm2gIBCKgKIOhUWbASAhCQSQBBJ1Nvoi0QgICqAIJOlQUrIQABmQQQdDL1JtoCAQioCiDoVFmwEgIQkEkAQSdTb6ItEICAqgCCTpUFKyEAAZkEEHQy9SbaAgEIqAog6FRZsBICEJBJAEEnU2+iLRCAgKoAgk6VBSshAAGZBEwPOldXF1qWnETu7u7CdW1aBpWW/mS68ZzZs6iXv5+oR+Ghw1RQcMD0Ovn7+9Gc6ChycXGhmpoaik9YZHqdUAEIPAkCpgcdR8rfnKNYLUpcSiUlpcqyWTMZ6WvIy8tLHP5A4SHKy99qVlWU444aNYKiIsLFcl1dHU2fEalswwwEIOBcwPCga9PGjXx9fenKlWKlVnmbssVZCl8xKzqW7typFNt8fHyoutpGFRW3lH31mhkwoD9dvPijUvyaj1ZQ586dxPLW7Tto//4CMe/h4UHduvlQcXGJsq9eM126dKH6+jq6ebNCHGLgwGcpft5cMV9VZaO3IqOVQ/fv348uXbpEjY3KKsxAAAK/CxgedPyS8PmgoXT23HlKS19PdXX1tDEnk9zc3ESVpoXeO2MJC51KIcGj6dr1GxT//kJdOywoaBjFzI6iGzd+oeUrV1N5eTl9kJLEAvkZcdyMzGw6deo0jRw5nMLfDGOhzAP5HbLZbLrWK23tR9S+vRft3LWbdu/ZRz169GCX+YnimLdv/5ei58wlT09PmvfeOxQQ0IcOHPyG8vK26FonFA6BJ1HA0KDr3r0bLV+2RDl742cl61jYxbDw8/T0oIaGBkpMSmH/cGOVy0aOuv6TbDp58rQuvjy0NmSmi8DgB+B14MEyeNBAER583erUdHp1wjjq06cXXxRT0dnzlLo23b6o+e9x4/5KUyb/Uyn3Ogv8jMwsWpp0774cD+W97CxzOvuDYP8jweseO3c+3bql/xmwUjHMQOAJEDA06EJCXqKwN6YoQddSnyPHTlBOTm5Ld3+k/Xj4Ji9ZrISF2ocb2fUgfwDgOJVdu67rmWZsTDQNGzrE8ZAihF1dXZusc1zgQcfD8LvvzjiuxjwE/vQChgYd1+Y3+MNnhNKQwOceCI/7e+Py5WLKYgFXVlZ2/yZNl1u1cqWJr79GY14OJn4PsbmpvPwm5W/ZRkVF55rbTZNtvXr508wZYeyS1bfZ8njAfX+miHI35dFvv91tdl9shMCfUcDwoLMjt2vXlhYvTCAfn672Vcpvm62aXcIms4C7pqwzYoYPdYl4K5xGsXtxahO/zD7DAsXoyd/fjxIXJVDr1q0fODR/qMPvK1ZVVT2wDSsgAIF7AqYEXWDgYHYJO5U6dXrKaT9UVlbSzi/30EF2g92IiV/C8gcN/Ka+s6m2tpaOnThJW9gZXU1NrbPdNFvPr5ZfmTCe/TdWuYeoVjh/YLMxN6/JU2O1/bAOAn9WAUODLiCgL81+O5I6dvRusTc/U8n7bBsdP/5tiz/zKDvyM8u4d2Opd+//P2h42Ofr6+vpyNHj7FIx/2G7Pvb2MWNCaNLEfygDqVtS0K+//ls83LHCgOuW1Bf7QMAoAUODzj6Mw7Fx/N7SIDY+jD91FQHCHjwEj36hyf27Q4ePUi47Y9Fj4kH3cdoacrzJzy+Za9mAXL+ePcQhv/q6kF4OHt3kgQV/CjovfoEeVRJl2ofh2A/A78Pt3ruf/v63V8QqHmr/uX2bAvo2PQNN+WAVzuzsaPgNgd8FDA06fsxVK1LEfTl+ppa6LoMuXPiBPs3OVB4C8HF0fPza/Li55O3dgY1Vq6aIqGj2xFG/kbDTw6aJMXs8TLZ/sUsMDl7KnsT6+/UUTPZ6xrFhL/3YWSmfEhYk0tWrP4t5PX7wgcnrP04V4covTZev+JCd3Xkwv2RxuAo2hCQmNo5GjBguHljwhyj84c2/lqToUR2UCYEnWsDwoOMhNmH8WNqQlcPO4BoE3ubcLOWMamZEtDIQd/KkiVRcUqL7AwD+EIIP59jMBtva30L4cOUy6tr16Xv1Y69/FbLXwPjEz0p5AG7/fIdY1vPHiy/+hdq2bUv79n0lDjNgQD9akDBfzN+9e5f9AZgj5nkoRrJXw/LytxjyFomebUbZENBDwPCgU2uE47uu/EV1o5+2qtUpfd1q6tChvdi0d1+BIcGmVg/HdY6X/vzByJvhUY6bMQ8BCDgRMD3o+NnUpo1Zyj05/maE43uwTuqt+2rHoLPKS/38FbRZkTNF2xF0un8FcACJBEwPOoks0RQIQMCiAgg6i3YMqgUBCGgngKDTzhIlQQACFhVA0Fm0Y1AtCEBAOwEEnXaWKAkCELCoAILOoh2DakEAAtoJIOi0s0RJEICARQUQdBbtGFQLAhDQTgBBp50lSoIABCwqgKCzaMegWhCAgHYCCDrtLFESBCBgUQEEnUU7BtWCAAS0E0DQaWeJkiAAAYsKIOgs2jGoFgQgoJ0Agk47S5QEAQhYVABBZ9GOQbUgAAHtBBB02lmiJAhAwKICCDqLdgyqBQEIaCeAoNPOEiVBAAIWFUDQWbRjUC0IQEA7AQSddpYoCQIQsKgAgs6iHYNqQQAC2gkg6LSzREkQgIBFBRB0Fu0YVAsCENBOAEGnnSVKggAELCqAoLNox6BaEICAdgIIOu0sURIEIGBRAQSdRTsG1YIABLQTQNBpZ4mSIAABiwog6CzaMagWBCCgnQCCTjtLlAQBCFhUAEFn0Y5BtSAAAe0ETA86V1cXWpacRO7u7qJVa9MyqLT0J+1a+JglzZk9i3r5+4lPFx46TAUFBx6zJHwMAhAwW8D0oOMA+ZtzFIdFiUuppKRUWTZrJiN9DXl5eYnDHyg8RHn5W82qCo4LAQj8QQHDg65NGzfy9fWlK1eKlarnbcomFxcXsTwrOpbu3KkU8z4+PlRdbaOKilvKvnrNDBjQny5e/FEpfs1HK6hz505ieev2HbR/f4GY9/DwoG7dfKi4uETZFzMQgIC1BQwPOn5J+HzQUDp77jylpa+nurp62piTSW5ubkJqWmi4+B0WOpVCgkfTtes3KP79hboqBgUNo5jZUXTjxi+0fOVqKi8vpw9SklggPyOOm5GZTadOnaaRI4dT+JthLJSJZkW/QzabTdd6oXAIQEAbAUODrnv3brR82RLl7K2qykbrWNjFsPDz9PSghoYGSkxKoXnvxSqXjbyZ6z/JppMnT2vT4vtK4aG1ITOdHd9TbOF12LlrNw0eNJACAvqIdatT0+nVCeOoT59eyqeLzp6n1LXpyjJmIAAB6woYGnQhIS9R2BtTlKBrKcuRYycoJye3pbs/0n48fJOXLFbOKNU+3NjY+ECdy65d1/1MU60uWAcBCDy6gKFBx6vHb/CHzwilIYHPPRAe91f/8uViymIBV1ZWdv8mTZdbtXKlia+/RmNeDiZ+D7G5qbz8JuVv2UZFReea2w3bIAABCwkYHnT2trdr15YWL0wgH5+u9lXKb5utml3CJrOAu6asM2KGD3WJeCucRrF7cWoTv8w+c6ZIbRPWQQACFhYwJegCAwezS9ip1KnTU05pKisraeeXe+jgwW+c7qPlBn4Jyx802O/LqZVdW1tLx06cpC3sjK6mplZtF6yDAAQsKGBo0AUE9KXZb0dSx47eLaaoqqqivM+20fHj37b4M4+yIz+zjHs3lnr3/v+Dhod9vr6+no4cPU65m/Iftiu2QwACFhAwNOjswzgc2/09uxQcNPBZ8dRVBAh78BA8+oUm9+8OHT5Kubl5jh/TbJ4H3cdpa8jV1VUpk18y19bVkV/PHmLdV18X0stsqIt9CAxfeZ0Ne5kXv0D5DGYgAAHrChgadJxh1YoUcV+On6mlrsugCxd+oE+zM5WHAHwcHR+/Nj9uLnl7d2Bj1aopIiqaDT1p1E1xetg0MWaPDy3Z/sUuMTh4KXsS6+/XUxzTXs84NuylHzsr5VPCgkS6evVnMY8fEICAtQUMDzoeYhPGj6UNWTlUX98gdDbnZilnVDMjopWBuJMnTaTikhLdHwDwhxCxMdG0OW8L3bxZIer04cpl1LXr0/fqx17/KmSvgfGJn5XyANz++Q6xjB8QgID1BQwPOjUSx3dd4xMWGf60Va1O6etWU4cO7cWmvfsKEGxqSFgHgSdEwPSg42dTmzZmKffk+JsRju/BmuXoGHR4qd+sXsBxIaCNgOlBp00zUAoEIAAB5wIIOuc22AIBCEgigKCTpCPRDAhAwLkAgs65DbZAAAKSCCDoJOlINAMCEHAugKBzboMtEICAJAIIOkk6Es2AAAScCyDonNtgCwQgIIkAgk6SjkQzIAAB5wIIOuc22AIBCEgigKCTpCPRDAhAwLkAgs65DbZAAAKSCCDoJOlINAMCEHAugKBzboMtEICAJAIIOkk6Es2AAAScCyDonNtgCwQgIIkAgk6SjkQzIAAB5wIIOuc22AIBCEgigKCTpCPRDAhAwLkAgs65DbZAAAKSCCDoJOlINAMCEHAugKBzboMtEICAJAIIOkk6Es2AAAScCyDonNtgCwQgIIkAgk6SjkQzIAAB5wIIOuc22AIBCEgigKCTpCPRDAhAwLkAgs65DbZAAAKSCCDoJOlINAMCEHAugKBzboMtEICAJAIIOkk6Es2AAAScCyDonNtgCwQgIImA6UHn6upCy5KTyN3dXZCuTcug0tKfJOFFMyAAASsImB50HCF/c45isShxKZWUlCrLmIEABCDwRwUMD7o2bdzI19eXrlwpVuqetymbXFxcxPKs6Fi6c6dSzPv4+FB1tY0qKm4p+2IGAhCAwKMKGB50c2bPoueDhtLZc+cpLX091dXV08acTHJzcxN1nxYaLn6HhU6lkODRdO36DYp/f+Gjtgv7QwACEFAEDA267t270fJlS5Szt6oqG61jYRfDws/T04MaGhooMSmF5r0XS15eXkol13+STSdPnlaWMQMBCEDgUQQMDbqQkJco7I0pStC1tKJHjp2gnJzclu6O/SAAAQg0ETA06PiR+Zla+IxQGhL43EMD7/LlYspiAVdWVtak0liAAAQg8CgChgedvXLt2rWlxQsTyMenq32V8ttmq2aXsMks4K4p6zADAQhA4HEFTAm6wMDB7BJ2KnXq9JTTeldWVtLOL/fQwYPfON0HGyAAAQi0RMDQoAsI6Euz346kjh29W1I3sU9VVRXlfbaNjh//tsWfwY4QgAAEHAUMDbqgoGHsCWuU4/Hp+zNFNGjgs+Kpa319PfEHD8GjX2hy/+7Q4aOUm5vX5HNYgAAEINBSAUODjldq1YoUcV+On6mlrsugCxd+oE+zM4kPJOYTH0fn6/sMzY+bS97eHYjfr4uIimZDTxrFdvyAAAQg8KgChgcdD7EJ48fShqwcqq9vEPXdnJtFrq6uYn5mRDQLN5uYnzxpIhWXlNAZdtaHCQIQgMDjChgedGoVdXzXNT5hEZ62qiFhHQQg8NgCpgcd/7+XbNqYpdyT429GOL4H+9gtwwchAAEI/C5getChJyAAAQjoLYCg01sY5UMAAqYLIOhM7wJUAAIQ0FsAQae3MMqHAARMF0DQmd4FqAAEIKC3AIJOb2GUDwEImC6AoDO9C1ABCEBAbwEEnd7CKB8CEDBdAEFnehegAhCAgN4CCDq9hVE+BCBgugCCzvQuQAUgAAG9BRB0egujfAhAwHQBBJ3pXYAKQAACegsg6PQWRvkQgIDpAgg607sAFYAABPQWQNDpLYzyIQAB0wUQdKZ3ASoAAQjoLYCg01sY5UMAAqYLIOhM7wJUAAIQ0FsAQae3MMqHAARMF0DQmd4FqAAEIKC3AIJOb2GUDwEImC6AoDO9C1ABCEBAbwEEnd7CKB8CEDBd4H+RN56eGIIF2QAAAABJRU5ErkJggg==)\n"
      ],
      "metadata": {
        "id": "lhjezDJPxHVZ"
      }
    },
    {
      "cell_type": "code",
      "source": [
        "for i in range(1, 10):\n",
        "  if i <=5:\n",
        "    print('*' * i)\n",
        "  else:\n",
        "    print('*' * (10 - i))\n",
        "  print()"
      ],
      "metadata": {
        "id": "iINLS3EAx0Jc",
        "colab": {
          "base_uri": "https://localhost:8080/"
        },
        "outputId": "6a4d949d-fecb-44f4-f357-a39e7dfb8cb2"
      },
      "execution_count": null,
      "outputs": [
        {
          "output_type": "stream",
          "name": "stdout",
          "text": [
            "*\n",
            "\n",
            "**\n",
            "\n",
            "***\n",
            "\n",
            "****\n",
            "\n",
            "*****\n",
            "\n",
            "****\n",
            "\n",
            "***\n",
            "\n",
            "**\n",
            "\n",
            "*\n",
            "\n"
          ]
        }
      ]
    },
    {
      "cell_type": "markdown",
      "source": [
        " ## **Homework 14**\n",
        "Müştərinin net qalıq məbləğini hesablayan proqram yazın.\n",
        "Əgər D-200 yazılırsa bu hesabına 200 azn məbləğ qoydu deməkdir. Əgər W-100 qeyd olunubsa 100 azn pul geri götürüb deməkdir. Proqram user-dən hər dəfə yuxarıdakı patternlərə(D-məbləğ və W-məbləğ şəklində) uyğun inputlar götürür. Nə vaxtki heçnə daxil edilməyib enter vurulur proqram yekun nəticəni ekrana çıxarır.\n",
        "\n",
        "*Qeyd: *Nəticə mənfi də ola bilər.\n",
        "\n",
        "**Input**:  \n",
        "\n",
        "    D-100\n",
        "    D-100\n",
        "    D-300\n",
        "    W-400\n",
        "\n",
        "**Output**:\n",
        "\n",
        "    100\n",
        "  --------------------\n",
        "  **Input**:  \n",
        "\n",
        "    W-100\n",
        "    D-300\n",
        "    D-300\n",
        "    W-400\n",
        "    W-300\n",
        "\n",
        "**Output**:\n",
        "\n",
        "    -200\n",
        "    "
      ],
      "metadata": {
        "id": "4SV5aIc8ygfo"
      }
    },
    {
      "cell_type": "code",
      "source": [
        "net = 0\n",
        "while True:\n",
        "  transaction = input('Enter transaction code: ')\n",
        "  if not transaction:\n",
        "    #print(net)\n",
        "    break\n",
        "\n",
        "  typee, amount = transaction.split('-')\n",
        "  amount = int(amount)\n",
        "  if typee == 'D':\n",
        "    net+=amount\n",
        "  elif typee == 'W':\n",
        "    net-=amount\n",
        "  else:\n",
        "    print('Invalid transaction type')\n",
        "print(net)"
      ],
      "metadata": {
        "colab": {
          "base_uri": "https://localhost:8080/"
        },
        "id": "gYvoKU8KU-se",
        "outputId": "be4748a0-04d5-4587-88e4-ba10fadc2d04"
      },
      "execution_count": null,
      "outputs": [
        {
          "output_type": "stream",
          "name": "stdout",
          "text": [
            "Enter transaction code: W-100\n",
            "Enter transaction code: D-5000\n",
            "Enter transaction code: \n",
            "4900\n"
          ]
        }
      ]
    },
    {
      "cell_type": "markdown",
      "source": [
        " ## **Homework 9**\n",
        "User bir password(input) daxil edir. Daxil edilən parolun tələbləri ödəyib ödəmədiyini qeyd edən script yazın. Qaydalar aşğıdakılardır\n",
        "1. Ən azı 1 kiçik hərf  [a-z]\n",
        "2. Ən azı 1 rəqəm [0-9]\n",
        "1. Ən azı 1 böyük hərf [A-Z]\n",
        "4. Minimum uzunluq: 6\n",
        "5. Maxsimum uzunluq: 12\n",
        "\n",
        "**Input**: gulcohre_1992\n",
        "\n",
        "**Output**: not valid\n",
        "\n",
        " -----------\n",
        " **Input**: Gulya_1992\n",
        "\n",
        "**Output**: valid"
      ],
      "metadata": {
        "id": "0e5y6wP31f2q"
      }
    },
    {
      "cell_type": "code",
      "source": [
        "passw = input('Enter the password you want to set up: ')\n",
        "low = False\n",
        "up = False\n",
        "dig = False\n",
        "for i in passw:\n",
        "  if i.isdigit():\n",
        "    dig = True\n",
        "  elif i.islower():\n",
        "    low = True\n",
        "  if i.isupper():\n",
        "    up = True\n",
        "\n",
        "if len(passw) > 12 or lecn(passw) < 6 or not dig or not low or not up:\n",
        "  print('Not valid!')\n",
        "else:\n",
        "  print('Valid!')\n"
      ],
      "metadata": {
        "colab": {
          "base_uri": "https://localhost:8080/"
        },
        "id": "nFzlYOSqWPgg",
        "outputId": "2c76426b-286b-4687-fb1e-2a0d58e27f34"
      },
      "execution_count": null,
      "outputs": [
        {
          "output_type": "stream",
          "name": "stdout",
          "text": [
            "Enter the password you want to set up: Akbar_908\n",
            "Valid!\n"
          ]
        }
      ]
    },
    {
      "cell_type": "code",
      "source": [],
      "metadata": {
        "id": "5NZiNF0TYMn8"
      },
      "execution_count": null,
      "outputs": []
    }
  ]
}