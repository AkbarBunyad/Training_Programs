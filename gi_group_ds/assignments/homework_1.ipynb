{
  "nbformat": 4,
  "nbformat_minor": 0,
  "metadata": {
    "colab": {
      "provenance": []
    },
    "kernelspec": {
      "name": "python3",
      "display_name": "Python 3"
    },
    "language_info": {
      "name": "python"
    }
  },
  "cells": [
    {
      "cell_type": "markdown",
      "source": [
        "1. Try to correct this error:"
      ],
      "metadata": {
        "id": "Txkp_FbArnL4"
      }
    },
    {
      "cell_type": "code",
      "source": [
        "print('Hello-Python!')"
      ],
      "metadata": {
        "colab": {
          "base_uri": "https://localhost:8080/"
        },
        "id": "8jNGXd_krqE1",
        "outputId": "16b2344b-52d8-499a-bcbc-a0b0cedf2d63"
      },
      "execution_count": null,
      "outputs": [
        {
          "output_type": "stream",
          "name": "stdout",
          "text": [
            "Hello-Python!\n"
          ]
        }
      ]
    },
    {
      "cell_type": "markdown",
      "source": [
        "2. Convert 34 to a float\n",
        "\n"
      ],
      "metadata": {
        "id": "KG_XmcXtrxPS"
      }
    },
    {
      "cell_type": "code",
      "source": [
        "float(34)"
      ],
      "metadata": {
        "colab": {
          "base_uri": "https://localhost:8080/"
        },
        "id": "t6gYWPYOsEvF",
        "outputId": "a0702d4f-3e63-4330-f7ff-0a1dcfefe3f6"
      },
      "execution_count": null,
      "outputs": [
        {
          "output_type": "execute_result",
          "data": {
            "text/plain": [
              "34.0"
            ]
          },
          "metadata": {},
          "execution_count": 3
        }
      ]
    },
    {
      "cell_type": "markdown",
      "source": [
        "3. Convert 0 to boolean."
      ],
      "metadata": {
        "id": "7Fxqcul0r9gA"
      }
    },
    {
      "cell_type": "code",
      "source": [
        "bool(0)"
      ],
      "metadata": {
        "colab": {
          "base_uri": "https://localhost:8080/"
        },
        "id": "m4FBC9rXrukt",
        "outputId": "4a37e60a-6377-4b9b-9801-eb7aab658945"
      },
      "execution_count": null,
      "outputs": [
        {
          "output_type": "execute_result",
          "data": {
            "text/plain": [
              "False"
            ]
          },
          "metadata": {},
          "execution_count": 4
        }
      ]
    },
    {
      "cell_type": "markdown",
      "source": [
        " 4. Print the data type of the result of: 7 // 3."
      ],
      "metadata": {
        "id": "jNzwdqs8sM8u"
      }
    },
    {
      "cell_type": "code",
      "source": [
        "type(7//3)"
      ],
      "metadata": {
        "colab": {
          "base_uri": "https://localhost:8080/"
        },
        "id": "yK7QQ_gbr70X",
        "outputId": "95418b4a-0ec5-466f-d327-1fd5d5738898"
      },
      "execution_count": null,
      "outputs": [
        {
          "output_type": "execute_result",
          "data": {
            "text/plain": [
              "int"
            ]
          },
          "metadata": {},
          "execution_count": 5
        }
      ]
    },
    {
      "cell_type": "markdown",
      "source": [
        "5. Find the length of the string \"Data Science\"."
      ],
      "metadata": {
        "id": "J68Y7cSBsXap"
      }
    },
    {
      "cell_type": "code",
      "source": [
        "len('Data Science')"
      ],
      "metadata": {
        "colab": {
          "base_uri": "https://localhost:8080/"
        },
        "id": "BATubIC9sVTs",
        "outputId": "10985d94-3a85-440a-e144-6b56b0aefeee"
      },
      "execution_count": null,
      "outputs": [
        {
          "output_type": "execute_result",
          "data": {
            "text/plain": [
              "12"
            ]
          },
          "metadata": {},
          "execution_count": 7
        }
      ]
    },
    {
      "cell_type": "markdown",
      "source": [
        "6. Print the last element in this string."
      ],
      "metadata": {
        "id": "lm3Fk35Xsg4r"
      }
    },
    {
      "cell_type": "code",
      "source": [
        "s = 'Data Science'\n",
        "s[len(s)-1]"
      ],
      "metadata": {
        "colab": {
          "base_uri": "https://localhost:8080/",
          "height": 35
        },
        "id": "JADK27YYsbo5",
        "outputId": "16c8f4c7-b089-47dd-e8bf-67dc35925624"
      },
      "execution_count": null,
      "outputs": [
        {
          "output_type": "execute_result",
          "data": {
            "text/plain": [
              "'e'"
            ],
            "application/vnd.google.colaboratory.intrinsic+json": {
              "type": "string"
            }
          },
          "metadata": {},
          "execution_count": 8
        }
      ]
    },
    {
      "cell_type": "markdown",
      "source": [
        "7. Get every second element in the range from index 0 to index 4 in this string."
      ],
      "metadata": {
        "id": "GfoBPYOQszI0"
      }
    },
    {
      "cell_type": "code",
      "source": [
        "s[0:5:2]"
      ],
      "metadata": {
        "colab": {
          "base_uri": "https://localhost:8080/",
          "height": 35
        },
        "id": "26ySxDabsvgR",
        "outputId": "bbba65cc-c62e-4530-c94b-1ba0f4edd5fd"
      },
      "execution_count": null,
      "outputs": [
        {
          "output_type": "execute_result",
          "data": {
            "text/plain": [
              "'Dt '"
            ],
            "application/vnd.google.colaboratory.intrinsic+json": {
              "type": "string"
            }
          },
          "metadata": {},
          "execution_count": 9
        }
      ]
    },
    {
      "cell_type": "markdown",
      "source": [
        "8. Convert the variable m to lowercase: m = \"I am a minimalist person\"."
      ],
      "metadata": {
        "id": "MARGwGE2tHly"
      }
    },
    {
      "cell_type": "code",
      "source": [
        "m = 'I am a minimalist person'\n",
        "m.lower()"
      ],
      "metadata": {
        "colab": {
          "base_uri": "https://localhost:8080/",
          "height": 35
        },
        "id": "_kHAdCPutBzt",
        "outputId": "095ea5b0-eac8-4918-eedb-7da1424a43a0"
      },
      "execution_count": null,
      "outputs": [
        {
          "output_type": "execute_result",
          "data": {
            "text/plain": [
              "'i am a minimalist person'"
            ],
            "application/vnd.google.colaboratory.intrinsic+json": {
              "type": "string"
            }
          },
          "metadata": {},
          "execution_count": 10
        }
      ]
    },
    {
      "cell_type": "markdown",
      "source": [
        "9. Consider the variable g, and find the first index of the sub-string \"snow\" and replace the sub-string Mary with Tom."
      ],
      "metadata": {
        "id": "Svjc1nYBtaa0"
      }
    },
    {
      "cell_type": "code",
      "source": [
        "g = \"Mary had a little lamb Little lamb, \\n\\\n",
        "little lamb Mary had a little lamb Its fleece was white as snow \\n\\\n",
        "And everywhere that Mary went Mary went, Mary went Everywhere \\n\\\n",
        "that Mary went The lamb was sure to go\"\n",
        "idx = g.find('snow')\n",
        "print(f\"the first index of the sub-string 'snow' is {idx}\")\n",
        "g = g.replace('Mary', 'Tom')\n",
        "print(f'\\nupdated g: \\n\\\n",
        "\\n{g}')"
      ],
      "metadata": {
        "colab": {
          "base_uri": "https://localhost:8080/"
        },
        "id": "bwmIMyD2tY_2",
        "outputId": "c6b77952-fcf6-4455-8c1e-f51dc761cb2a"
      },
      "execution_count": null,
      "outputs": [
        {
          "output_type": "stream",
          "name": "stdout",
          "text": [
            "the first index of the sub-string 'snow' is 96\n",
            "\n",
            "updated g: \n",
            "\n",
            "Tom had a little lamb Little lamb, \n",
            "little lamb Tom had a little lamb Its fleece was white as snow \n",
            "And everywhere that Tom went Tom went, Tom went Everywhere \n",
            "that Tom went The lamb was sure to go\n"
          ]
        }
      ]
    },
    {
      "cell_type": "markdown",
      "source": [
        "10. In the variable g, split the substring to list."
      ],
      "metadata": {
        "id": "9m-PloDKwQRV"
      }
    },
    {
      "cell_type": "code",
      "source": [
        "lst = g.split()\n",
        "print(lst)"
      ],
      "metadata": {
        "colab": {
          "base_uri": "https://localhost:8080/"
        },
        "id": "cEEtjLBmtsjM",
        "outputId": "4a0a0235-447a-4a49-ef2d-5bd711164491"
      },
      "execution_count": null,
      "outputs": [
        {
          "output_type": "stream",
          "name": "stdout",
          "text": [
            "['Tom', 'had', 'a', 'little', 'lamb', 'Little', 'lamb,', 'little', 'lamb', 'Tom', 'had', 'a', 'little', 'lamb', 'Its', 'fleece', 'was', 'white', 'as', 'snow', 'And', 'everywhere', 'that', 'Tom', 'went', 'Tom', 'went,', 'Tom', 'went', 'Everywhere', 'that', 'Tom', 'went', 'The', 'lamb', 'was', 'sure', 'to', 'go']\n"
          ]
        }
      ]
    },
    {
      "cell_type": "code",
      "source": [],
      "metadata": {
        "id": "wcr1FEBsu0Qo"
      },
      "execution_count": null,
      "outputs": []
    }
  ]
}