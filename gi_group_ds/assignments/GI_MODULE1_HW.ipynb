{
  "nbformat": 4,
  "nbformat_minor": 0,
  "metadata": {
    "colab": {
      "provenance": [],
      "include_colab_link": true
    },
    "kernelspec": {
      "name": "python3",
      "display_name": "Python 3"
    },
    "language_info": {
      "name": "python"
    }
  },
  "cells": [
    {
      "cell_type": "markdown",
      "metadata": {
        "id": "view-in-github",
        "colab_type": "text"
      },
      "source": [
        "<a href=\"https://colab.research.google.com/github/AkbarBunyad/Training_Programs/blob/main/gi_group_ds/assignments/GI_MODULE1_HW.ipynb\" target=\"_parent\"><img src=\"https://colab.research.google.com/assets/colab-badge.svg\" alt=\"Open In Colab\"/></a>"
      ]
    },
    {
      "cell_type": "markdown",
      "metadata": {
        "id": "ffda7109"
      },
      "source": [
        " ## **Homework 1**\n",
        "\n",
        "#### Aşağıdakı stringin simvol asyını ekrana çıxarın.\n"
      ]
    },
    {
      "cell_type": "code",
      "execution_count": null,
      "metadata": {
        "id": "218a98c7",
        "colab": {
          "base_uri": "https://localhost:8080/"
        },
        "outputId": "bb598aef-2661-4340-bd8f-04e88dff32c9"
      },
      "outputs": [
        {
          "output_type": "stream",
          "name": "stdout",
          "text": [
            "number of characters: 24\n",
            "24\n"
          ]
        }
      ],
      "source": [
        "my_word = \"azerbaijanismynativeland\"\n",
        "\n",
        "# 1st way\n",
        "c = 0\n",
        "for i in my_word:\n",
        "  c+=1\n",
        "print(f'number of characters: {c}')\n",
        "\n",
        "#2nd\n",
        "print(len(my_word))"
      ]
    },
    {
      "cell_type": "markdown",
      "metadata": {
        "id": "a84da9ca"
      },
      "source": [
        " ## **Homework 2**\n",
        "\n",
        "#### İki stringi bir yerə gətirib onları boşluqla ayırın. Həmin stringi başqa bir variable-yə mənimsədin.\n",
        "\n"
      ]
    },
    {
      "cell_type": "code",
      "execution_count": null,
      "metadata": {
        "id": "f3e4be93",
        "colab": {
          "base_uri": "https://localhost:8080/"
        },
        "outputId": "3fba6956-d84a-40e7-c666-de9492f6dd87"
      },
      "outputs": [
        {
          "output_type": "stream",
          "name": "stdout",
          "text": [
            "gigroup academy\n"
          ]
        }
      ],
      "source": [
        "string_one = \"gigroup\"\n",
        "string_two = \"academy\"\n",
        "\n",
        "combined = string_one + ' ' + string_two\n",
        "print(combined)"
      ]
    },
    {
      "cell_type": "markdown",
      "metadata": {
        "id": "51b8b75e"
      },
      "source": [
        " ## **Homework 3**\n",
        "\n",
        "#### Stringdən \"Azerbaijan\" substring-ni çıxarın.\n",
        "\n",
        "\n"
      ]
    },
    {
      "cell_type": "code",
      "execution_count": null,
      "metadata": {
        "id": "57ae08ac",
        "colab": {
          "base_uri": "https://localhost:8080/"
        },
        "outputId": "9c3e692e-e85b-4f40-ffc4-a346e154a32b"
      },
      "outputs": [
        {
          "output_type": "stream",
          "name": "stdout",
          "text": [
            "Azerbaijan\n"
          ]
        }
      ],
      "source": [
        "my_word = \"landoffireAzerbaijan\"\n",
        "print(my_word[10:20])"
      ]
    },
    {
      "cell_type": "markdown",
      "metadata": {
        "id": "9f6e6001"
      },
      "source": [
        " ## **Homework 4**\n",
        "\n",
        "#### Aşağıdakı stringi \"ForFunExample\" formatında ekrana çıxarın(capitalize vasitəsi ilə)\n",
        "\n",
        "\n"
      ]
    },
    {
      "cell_type": "code",
      "execution_count": null,
      "metadata": {
        "id": "c7965dc8",
        "colab": {
          "base_uri": "https://localhost:8080/"
        },
        "outputId": "d1d48652-44cf-418f-9058-58afeb8d6643"
      },
      "outputs": [
        {
          "output_type": "stream",
          "name": "stdout",
          "text": [
            "ForFunExample\n"
          ]
        }
      ],
      "source": [
        "my_word = \"forfunexample\"\n",
        "nw = ''\n",
        "for i in range(len(my_word)):\n",
        "  if i in (0, 3, 6):\n",
        "    nw+=my_word[i].upper()\n",
        "  else:\n",
        "    nw+=my_word[i]\n",
        "print(nw)\n"
      ]
    },
    {
      "cell_type": "markdown",
      "metadata": {
        "id": "f210ecaf"
      },
      "source": [
        " ## **Homework 5**\n",
        "#### Aşağıdakı 2 rəqəmi istifadə edərək exponensial qiyməti əldə edin:\n",
        "**Output**: 125"
      ]
    },
    {
      "cell_type": "code",
      "execution_count": null,
      "metadata": {
        "id": "6b0f11da",
        "outputId": "77c96e1b-e34b-4660-bf2d-6fd7e277d4ba",
        "colab": {
          "base_uri": "https://localhost:8080/"
        }
      },
      "outputs": [
        {
          "output_type": "stream",
          "name": "stdout",
          "text": [
            "5 to the power of 3  =  125\n"
          ]
        }
      ],
      "source": [
        "base = 5\n",
        "exponent = 3\n",
        "result = base ** exponent\n",
        "print(base,\"to the power of\",exponent, \" = \",result)"
      ]
    },
    {
      "cell_type": "markdown",
      "source": [
        " ## **Homework 6**\n",
        "\n",
        "Inputda verilmiş listdən outputdakı resultı alan code-u yazın.\n",
        "\n",
        "**Input**\n",
        "\n",
        " [10, 20, [300, 400, [5000, 6000], 500], 30, 40]\n",
        "\n",
        "**Output**\n",
        "\n",
        "[10, 20, [300, 400, [5000, 7400,6000], 500], 30, 40]"
      ],
      "metadata": {
        "id": "2PeTPTqUaF1h"
      }
    },
    {
      "cell_type": "code",
      "source": [
        "input = [10, 20, [300, 400, [5000, 6000], 500], 30, 40]\n",
        "out = []\n",
        "for i in range(len(input)):\n",
        "  sub = []\n",
        "  if type(input[i]) == list:\n",
        "    sub = input[i]\n",
        "    for j in range(len(sub)):\n",
        "      if sub[2] == [5000, 6000]:\n",
        "        sub[2] = [5000, 7400,6000]\n",
        "        out+= [sub]\n",
        "  else:\n",
        "    out+=[input[i]]\n",
        "print(out)"
      ],
      "metadata": {
        "id": "hwjgdktZaCJF",
        "colab": {
          "base_uri": "https://localhost:8080/"
        },
        "outputId": "5fb5e8de-fb95-40bb-eafd-5825e8b8ef48"
      },
      "execution_count": null,
      "outputs": [
        {
          "output_type": "stream",
          "name": "stdout",
          "text": [
            "[10, 20, [300, 400, [5000, 7400, 6000], 500], 30, 40]\n"
          ]
        }
      ]
    },
    {
      "cell_type": "markdown",
      "metadata": {
        "id": "dYfQDd6EaF3E"
      },
      "source": [
        " ## **Homework 7**\n",
        "\n",
        "İstifadəçidən bir say daxil etməsini istəyin. Əgər numeric bir qiymət daxil etməyibsə yenidən qiymət daxil etməsini istəyin. Daxil edilmiş sayda yeni ədəd daxil etməsini istəyin. Yeni daxil edilmiş ədədlərin tək və cüt olaraq ayırıb onları ən sonda ekrana çıxardın.\n",
        "\n",
        "Aşağıdakı misala göz atın:\n",
        "\n",
        "**Input**\n",
        "\n",
        "*say*: 4\n",
        "\n",
        "*Ədəd daxil edin*:  1\n",
        "\n",
        "*Ədəd daxil edin*:  5\n",
        "\n",
        "*Ədəd daxil edin*:  8\n",
        "\n",
        "*Ədəd daxil edin*:  17\n",
        "\n",
        "**Output**\n",
        "\n",
        "tək ədədlər [1,5,17] şəklindədir.\n",
        "\n",
        "cüt ədədlər [8] şəklindədir."
      ]
    },
    {
      "cell_type": "code",
      "source": [
        "while True:\n",
        "  try:\n",
        "    n = int(input('Number: '))\n",
        "    if n<=0:\n",
        "      raise ValueError('Number should be greater than 0')\n",
        "    odd = []\n",
        "    even = []\n",
        "    for i in range(n):\n",
        "      while True:\n",
        "        try:\n",
        "          num = int(input('Enter a numeric value: '))\n",
        "          if num%2 == 0:\n",
        "            even+=[num]\n",
        "          else:\n",
        "            odd+=[num]\n",
        "          break\n",
        "        except:\n",
        "          print('Enter integer value, please')\n",
        "\n",
        "    print('Odds:', odd)\n",
        "    print('Evens:', even)\n",
        "    break\n",
        "  except:\n",
        "    print('Enter a valid integer greater than 0 for the number of values you want to print')"
      ],
      "metadata": {
        "id": "iCz6j7mI1sKd",
        "colab": {
          "base_uri": "https://localhost:8080/"
        },
        "outputId": "b3631ed5-8357-463a-f356-e1f3a4465b82"
      },
      "execution_count": null,
      "outputs": [
        {
          "output_type": "stream",
          "name": "stdout",
          "text": [
            "Number: -9\n",
            "Enter a valid integer greater than 0 for the number of values you want to print\n",
            "Number: -8\n",
            "Enter a valid integer greater than 0 for the number of values you want to print\n",
            "Number: 0\n",
            "Enter a valid integer greater than 0 for the number of values you want to print\n",
            "Number: 9\n",
            "Enter a numeric value: 12\n",
            "Enter a numeric value: 12.9\n",
            "Enter integer value, please\n",
            "Enter a numeric value: 23\n",
            "Enter a numeric value: 34\n",
            "Enter a numeric value: 56\n",
            "Enter a numeric value: 90\n",
            "Enter a numeric value: -9\n",
            "Enter a numeric value: 9o\n",
            "Enter integer value, please\n",
            "Enter a numeric value: 90\n",
            "Enter a numeric value: 89\n",
            "Enter a numeric value: 23\n",
            "Odds: [23, -9, 89, 23]\n",
            "Evens: [12, 34, 56, 90, 90]\n"
          ]
        }
      ]
    },
    {
      "cell_type": "markdown",
      "source": [
        " ## **Homework 8**\n",
        "\n",
        "Aşağıda qeyd olunmuş iki listi uyğun olaraq eyni yerdə(indexdə) dayanan qiymətlərini birləşdirib ekrana çıxarın\n",
        "\n",
        "**Input**\n",
        "\n",
        "list1 = [\"M\", \"na\", \"i\", \"Əlöv\"]\n",
        "\n",
        "list2 = [\"y\", \"me\", \"s\", \"sət\"]\n",
        "\n",
        "**Output**\n",
        "\n",
        " My name is Əlövsət"
      ],
      "metadata": {
        "id": "6pDSQ2knVlNL"
      }
    },
    {
      "cell_type": "code",
      "source": [
        "s = ''\n",
        "list1 = [\"M\", \"na\", \"i\", \"Əlöv\"]\n",
        "list2 = [\"y\", \"me\", \"s\", \"sət\"]\n",
        "for i in range(len(list1)):\n",
        "  s+=list1[i] + list2[i] + ' '\n",
        "print(s)"
      ],
      "metadata": {
        "id": "B0yz94XWYL_l",
        "colab": {
          "base_uri": "https://localhost:8080/"
        },
        "outputId": "3db7d427-b580-41b4-e99c-15476e9c71b0"
      },
      "execution_count": null,
      "outputs": [
        {
          "output_type": "stream",
          "name": "stdout",
          "text": [
            "My name is Əlövsət \n"
          ]
        }
      ]
    },
    {
      "cell_type": "markdown",
      "source": [
        " ## **Homework 9**\n",
        "\n",
        "Verilmiş dictionary-dən qeyd olunmuş keylər üzrə qiymətləri çıxarıb başqa bir dictionaryə yazan kodu yazın.\n",
        "\n",
        "**Input**\n",
        "\n",
        "Sample_dictionary:  {\n",
        "    \"name\": \"Kelly\",\n",
        "    \"age\": 25,\n",
        "    \"salary\": 8000,\n",
        "    \"city\": \"New york\"}\n",
        "\n",
        "Keys: [\"name\", \"salary\"]\n",
        "\n",
        "**Output**\n",
        "\n",
        " {'name': 'Kelly', 'salary': 8000}"
      ],
      "metadata": {
        "id": "dGFSXNQgXi4n"
      }
    },
    {
      "cell_type": "code",
      "source": [
        "Sample_dictionary = { \"name\": \"Kelly\", \"age\": 25, \"salary\": 8000, \"city\": \"New york\"}\n",
        "Keys = [\"name\", \"salary\"]\n",
        "ex = {}\n",
        "for key in Keys:\n",
        "  ex[key]  = Sample_dictionary[key]\n",
        "print(ex)"
      ],
      "metadata": {
        "id": "GWdyyLiXYNpl",
        "colab": {
          "base_uri": "https://localhost:8080/"
        },
        "outputId": "7e184273-ae4e-49e0-bebd-81422787e3fe"
      },
      "execution_count": null,
      "outputs": [
        {
          "output_type": "stream",
          "name": "stdout",
          "text": [
            "{'name': 'Kelly', 'salary': 8000}\n"
          ]
        }
      ]
    },
    {
      "cell_type": "markdown",
      "source": [
        " ## **Homework 10**\n",
        "\n",
        "Verilmiş nested dictionary-də Brad üçün salary-ni 8500 edib ekrana çıxarın.\n",
        "\n",
        "**Input**\n",
        "\n",
        "\n",
        "\n",
        "    'emp1': {'name': 'Jhon', 'salary': 7500},\n",
        "    'emp2': {'name': 'Emma', 'salary': 8000},\n",
        "    'emp3': {'name': 'Brad', 'salary': 6500}\n",
        "\n",
        "\n",
        "**Output**\n",
        "\n",
        "\n",
        "    'emp1': {'name': 'Jhon', 'salary': 7500},\n",
        "    'emp2': {'name': 'Emma', 'salary': 8000},\n",
        "    'emp3': {'name': 'Brad', 'salary': 8500}"
      ],
      "metadata": {
        "id": "py_T4QtaYQGA"
      }
    },
    {
      "cell_type": "code",
      "source": [
        "inp = {'emp1': {'name': 'Jhon', 'salary': 7500},\n",
        "        'emp2': {'name': 'Emma', 'salary': 8000},\n",
        "        'emp3': {'name': 'Brad', 'salary': 6500}}\n",
        "for id, details in inp.items():\n",
        "  if details['name'] == 'Brad':\n",
        "    details['salary'] = 8500\n",
        "print(inp)"
      ],
      "metadata": {
        "id": "7Zwr444yYM3W",
        "colab": {
          "base_uri": "https://localhost:8080/"
        },
        "outputId": "f45e6e86-bc18-4bbc-9114-51381012f7ee"
      },
      "execution_count": null,
      "outputs": [
        {
          "output_type": "stream",
          "name": "stdout",
          "text": [
            "{'emp1': {'name': 'Jhon', 'salary': 7500}, 'emp2': {'name': 'Emma', 'salary': 8000}, 'emp3': {'name': 'Brad', 'salary': 8500}}\n"
          ]
        }
      ]
    },
    {
      "cell_type": "markdown",
      "source": [
        " ## **Homework 11**\n",
        "\n",
        "Tələbələrin smestrdəki balları əsasında onların əlaçı, zərbəçi və ya adi təqaüd alacaqlarını göstərən proqram yazın. 1 fəndən belə 51-dən aşağı qiymət varsa o halda təqaüd ala bilməyəcəyini ekrana qaytarsın.Bundan əlavə tələbənin ortalama balıdı həmin outputda görsənsin.\n",
        "\n",
        "**Vacib not** Ballar eyni bir inputun içərisində boşluq işarəsi ilə ayrılaraq yazılıb daxil edilməlidir.\n",
        "\n",
        "### *Misal 1:*\n",
        "\n",
        "*Input (boşluqla)*: 55 60 70 82 98 66\n",
        "\n",
        "*output*: Siz adi təqaüd alacaqsınız. Ortalamanız 71.83 bərabərdir.\n",
        "\n",
        "### *Misal 2:*\n",
        "\n",
        "*Input*: 95 90 49 82 98 66\n",
        "\n",
        "*output*: Təssüf siz təqaüd ala bilməyəcəksiz. Ortalamanız 80 bərabərdir.\n"
      ],
      "metadata": {
        "id": "i2LdD5QedUvU"
      }
    },
    {
      "cell_type": "code",
      "source": [
        "while True:\n",
        "  inp = input('Enter exam scores separated by space: ')\n",
        "  vals = inp.split()\n",
        "  flag = True\n",
        "  t = []\n",
        "  for val in vals:\n",
        "    try:\n",
        "      num = float(val)\n",
        "      if num < 0 or num > 100:\n",
        "        raise ValueError('Exam score should be between 0 and 100 inclusive')\n",
        "      t+=[num]\n",
        "    except:\n",
        "      print(f'Error: {val} is not a valid input type, enter value between 0 and 100 inclusive')\n",
        "      flag = False\n",
        "      break\n",
        "  if flag:\n",
        "    break\n",
        "av = sum(t) / len(t)\n",
        "if any(i < 51 for i in t) or av < 51:\n",
        "  print(f'Tessuf, siz teqaud ala bilmeyeceksiniz. Ortalamaniz {av:.2f}-dir')\n",
        "elif av > 91:\n",
        "  print(f'Siz elaci teqaudu alacaqsiniz. Ortalamaniz {av:.2f}-dir')\n",
        "elif av > 81:\n",
        "  print(f'Siz zerbeci teqaudu alacaqsiniz. Ortalamaniz {av:.2f}-dir')\n",
        "elif av > 51:\n",
        "  print(f'Siz adi teqaud alacaqsiniz. Ortalamaniz {av:.2f}-dir')\n",
        "#print(t)"
      ],
      "metadata": {
        "id": "OwQ7sT5D12T7",
        "colab": {
          "base_uri": "https://localhost:8080/"
        },
        "outputId": "382152ab-9090-4f34-a64c-dac703e304c0"
      },
      "execution_count": null,
      "outputs": [
        {
          "output_type": "stream",
          "name": "stdout",
          "text": [
            "Enter exam scores separated by space: 56 90 98 _\n",
            "Error: _ is not a valid input type, enter value between 0 and 100 inclusive\n",
            "Enter exam scores separated by space: 100 97 85 67\n",
            "Siz zerbeci teqaudu alacaqsiniz. Ortalamaniz 87.25-dir\n",
            "[100.0, 97.0, 85.0, 67.0]\n"
          ]
        }
      ]
    },
    {
      "cell_type": "markdown",
      "source": [
        " ## **Homework 12**\n",
        "\n",
        "İstifadəçidən 2 söz daxil etməsini istyin. Daxil edilmiş sözlərdə ortaq olamayan unikal hərfləri ekrana çıxarın.\n",
        "\n",
        "**Input**\n",
        "\n",
        "*1-ci ad*: Gülçöhrə\n",
        "\n",
        "*2-ci ad*:  Aygül\n",
        "\n",
        "**Output**\n",
        "\n",
        "{'a', 'h', 'r', 'y', 'ç', 'ö', 'ə'}"
      ],
      "metadata": {
        "id": "Z2ggRruOd94c"
      }
    },
    {
      "cell_type": "code",
      "source": [
        "while True:\n",
        "    w1 = input('Enter the first word: ')\n",
        "    if not w1.isalpha():\n",
        "        print('Error: enter a valid word consisting only of letters.')\n",
        "    else:\n",
        "        while True:\n",
        "            w2 = input('Enter the second word: ')\n",
        "            if not w2.isalpha():\n",
        "                print('Error: enter a valid word consisting only of letters.')\n",
        "            else:\n",
        "                unique = set(w1.lower()).union(set(w2.lower())) - set(w1.lower()).intersection(set(w2.lower()))\n",
        "                print(unique)\n",
        "                break\n",
        "        break\n",
        "\n",
        "#reason why I used lower() is that size of the letter does not need to have any influence on its uniqueness."
      ],
      "metadata": {
        "id": "CJ3eDIFp13Ty",
        "colab": {
          "base_uri": "https://localhost:8080/"
        },
        "outputId": "204dd250-dd1c-4895-d132-7e13bc5ec843"
      },
      "execution_count": null,
      "outputs": [
        {
          "output_type": "stream",
          "name": "stdout",
          "text": [
            "Enter the first word: Rasi8\n",
            "Error: enter a valid word consisting only of letters.\n",
            "Enter the first word: Rasim\n",
            "Enter the second word: Rusa\n",
            "{'i', 'u', 'm'}\n"
          ]
        }
      ]
    },
    {
      "cell_type": "markdown",
      "source": [
        " ## **Homework 13**\n",
        "\n",
        "Təsəvvür edinki magistr qrup üçün bir nəfər qrup rəhbəri seçməlidir. Sizdən bu məsələni həll etmək üçün bir proqram yazmağınız istənir. Proqram təsviri bu şəkildə olmalıdır. İlk öncə öz istifadəçidən namizədlərin adını düzgün daxil etməyi istəyirsiz(eyni bir input içərisində boşluqlarla ayrılmış şəkildə). Daha sonra səsvermədə iştirak edən iştirakçı sayının qeyd olunmasını istəyirsiz. Növbəti mərhələdə namzədlərin sayı iştirakçı sayı qədər ekrana gətirilir və iştirakçılardan namizədin adının qeyd olunmağı istənilir(böyük kiçik biri böyük biri kiçik hərflərlə də daxil edə bilər səs verdiyi namizədin adını). Ən sonda son iştirakçıda səs verdikdən sonra yekun nəticə ekrana çıxarılmalıdır.  \n",
        "\n",
        "Aşağıdakı misala göz atın:\n",
        "\n",
        "**Input**\n",
        "\n",
        "*Namizədləri daxil edin(boşluqla)*: Əli Vəli Kənan\n",
        "\n",
        "*Seçkidəki iştirakçı sayı*: 8\n",
        "\n",
        "\n",
        "*Seçiminizi daxil edin Əli,Vəli, Kənan*:  kənan\n",
        "\n",
        "*Seçiminizi daxil edin Əli,Vəli, Kənan*:  əli\n",
        "\n",
        "*Seçiminizi daxil edin Əli,Vəli, Kənan*:  ƏLİ\n",
        "\n",
        "*Seçiminizi daxil edin Əli,Vəli, Kənan*:  VƏli\n",
        "\n",
        "*Seçiminizi daxil edin Əli,Vəli, Kənan*:  KənaN\n",
        "\n",
        "*Seçiminizi daxil edin Əli,Vəli, Kənan*:  kənan\n",
        "\n",
        "*Seçiminizi daxil edin Əli,Vəli, Kənan*:  əli\n",
        "\n",
        "*Seçiminizi daxil edin Əli,Vəli, Kənan*:  Kənan\n",
        "\n",
        "*Seçiminizi daxil edin Əli,Vəli, Kənan*:  Vəli\n",
        "\n",
        "*Seçiminizi daxil edin Əli,Vəli, Kənan*:  KƏNAN\n",
        "\n",
        "**Output**\n",
        "\n",
        "\n",
        " Əli-2\n",
        "\n",
        " Kənan-4\n",
        "\n",
        " Vəli-3"
      ],
      "metadata": {
        "id": "p_v4JpOTfCeh"
      }
    },
    {
      "cell_type": "code",
      "source": [
        "while True:\n",
        "  candts = input('Enter candidates names properly separated by spaces: ').split()\n",
        "  if all(candt.isalpha() for candt in candts):\n",
        "    break\n",
        "  else:\n",
        "    print('You have entered invalid input, please enter enter valid names consisting of only letters')\n",
        "\n",
        "while True:\n",
        "  num = input('Enter the number of participants in the election: ')\n",
        "  try:\n",
        "    no = int(num)\n",
        "    break\n",
        "  except:\n",
        "    print(f'{num} is not number, enter valid format')\n",
        "\n",
        "votes = {}\n",
        "\n",
        "for i in range(no):\n",
        "  while True:\n",
        "      choice = input(f\"Enter your ideal candidate to vote {', '.join(candts)}: \").strip()\n",
        "      choice = choice.lower()\n",
        "      if choice in [candt.lower() for candt in candts]:\n",
        "        if choice in votes:\n",
        "          votes[choice] += 1\n",
        "        else:\n",
        "          votes[choice] = 1\n",
        "        break\n",
        "      else:\n",
        "        print('Invalid choice, please do your selection from the candidates provided above')\n",
        "        new_choice = input('Enter a valid candidate name to replace your invalid choice before: ').strip()\n",
        "        new_choice = new_choice.lower()\n",
        "        if new_choice in [candt.lower() for candt in candts]:\n",
        "          if new_choice in votes:\n",
        "            votes[new_choice] += 1\n",
        "          else:\n",
        "            votes[new_choice] = 1\n",
        "          break\n",
        "        else:\n",
        "          print('Invalid replacement choice, please choose from the candidates provided above')\n",
        "for candidate in candts:\n",
        "    count = votes.get(candidate.lower(), 0)\n",
        "    print(f\"{candidate}-{count}\")"
      ],
      "metadata": {
        "id": "Pd6bpxE715H4",
        "colab": {
          "base_uri": "https://localhost:8080/"
        },
        "outputId": "b3faf585-4ef4-4547-d84a-6c54aaba5aac"
      },
      "execution_count": null,
      "outputs": [
        {
          "output_type": "stream",
          "name": "stdout",
          "text": [
            "Enter candidates names properly separated by spaces: akbar nah\n",
            "Enter the number of participants in the election: akbar\n",
            "akbar is not number, enter valid format\n",
            "Enter the number of participants in the election: Akbar\n",
            "Akbar is not number, enter valid format\n",
            "Enter the number of participants in the election: 2\n",
            "Enter your ideal candidate to vote akbar, nah: Akbar\n",
            "Enter your ideal candidate to vote akbar, nah: akbar\n",
            "akbar-2\n",
            "nah-0\n"
          ]
        }
      ]
    },
    {
      "cell_type": "markdown",
      "source": [
        " ## **Homework 14**\n",
        "Istifadəçidən hava temperaturlarını daxil etməyini istəyin(boşluqlarla). Daha sonra həmin temperaturları 15-dan böyük 33-dən kiçik olanarı *mülayim*, 33-dən yuxarı olanları *isti* və 15-dən kiçik olanları *soyuq* olaraq qiymətləndirin. Ən sonda daxil olunmuş temperaturları qiymətləndirmiş nəticələrlə birgə ekrana çıxarın.\n",
        "\n",
        "**Input**\n",
        "\n",
        "*Temperaturları daxil edin(boşluqla)*: 30 40 -10 5\n",
        "\n",
        "**Output**\n",
        "\n",
        "30°C  mülayimdir.\n",
        "\n",
        "40°C istidir.\n",
        "\n",
        "-10°C soyuqdur.\n",
        "\n",
        "5°C  soyuqdur."
      ],
      "metadata": {
        "id": "-x-xlKHLgoe6"
      }
    },
    {
      "cell_type": "code",
      "source": [
        "while True:\n",
        "  inp = input('Enter temperature values separated by space: ')\n",
        "  vals = inp.split()\n",
        "  flag = True\n",
        "  t = []\n",
        "  for val in vals:\n",
        "    try:\n",
        "      num = float(val)\n",
        "      t+=[num]\n",
        "    except:\n",
        "      print(f'Error: {val} is not a valid input type, enter numerical value')\n",
        "      flag = False\n",
        "      break\n",
        "  if flag:\n",
        "    break\n",
        "\n",
        "def determiner(x):\n",
        "  if x >= 33:\n",
        "    return 'istidir'\n",
        "  elif x<=15:\n",
        "    return 'soyuqdur'\n",
        "  else:\n",
        "    return 'mulayimdir'\n",
        "\n",
        "for i in t:\n",
        "  print(f'{i}°C {determiner(i)}')\n",
        "\n",
        "#the problem in this code here is that if the user somehow enters non-valid input, he/she will be prompted again to enter the whole range of values\n",
        "#the code below can fix the problem to replace that invalid type with a new valid one with while True loop until done"
      ],
      "metadata": {
        "id": "hgJjxTjk18AW",
        "colab": {
          "base_uri": "https://localhost:8080/"
        },
        "outputId": "0ac56259-b4bd-4b58-8ef4-97a96e6ae933"
      },
      "execution_count": null,
      "outputs": [
        {
          "output_type": "stream",
          "name": "stdout",
          "text": [
            "Enter temperature values separated by space: 12 23 _\n",
            "Error: _ is not a valid input type, enter numerical value\n",
            "Enter temperature values separated by space: 12 45 90 88\n",
            "12.0°C soyuqdur\n",
            "45.0°C istidir\n",
            "90.0°C istidir\n",
            "88.0°C istidir\n"
          ]
        }
      ]
    },
    {
      "cell_type": "code",
      "source": [
        "while True:\n",
        "  inp = input('Enter temperature values separated by space: ')\n",
        "  vals = inp.split()\n",
        "  #flag = True\n",
        "  t = []\n",
        "  for val in vals:\n",
        "    try:\n",
        "      num = float(val)\n",
        "      t+=[num]\n",
        "    except:\n",
        "      while True:\n",
        "        new_val = input(f'Error: {val} is not a valid numerical input, please enter a numerical value: ')\n",
        "        try:\n",
        "          num = float(new_val)\n",
        "          t+=[num]\n",
        "          break\n",
        "        except:\n",
        "          print(f'Error: \"{new_val}\" is not a valid numerical input. Please try again.')\n",
        "  if len(t) == len(vals):\n",
        "    break\n",
        "\n",
        "def determiner(x):\n",
        "  if x >= 33:\n",
        "    return 'istidir'\n",
        "  elif x<=15:\n",
        "    return 'soyuqdur'\n",
        "  else:\n",
        "    return 'mulayimdir'\n",
        "\n",
        "for i in t:\n",
        "  print(f'{i}°C {determiner(i)}')"
      ],
      "metadata": {
        "colab": {
          "base_uri": "https://localhost:8080/"
        },
        "id": "dVPjpvK5SdhC",
        "outputId": "246dceef-6e8c-4f70-8abf-eccedb8b5549"
      },
      "execution_count": null,
      "outputs": [
        {
          "output_type": "stream",
          "name": "stdout",
          "text": [
            "Enter temperature values separated by space: 12 23 ) _ 9\n",
            "Error: ) is not a valid numerical input, please enter a numerical value: 09\n",
            "Error: _ is not a valid numerical input, please enter a numerical value: 45\n",
            "12.0°C soyuqdur\n",
            "23.0°C mulayimdir\n",
            "9.0°C soyuqdur\n",
            "45.0°C istidir\n",
            "9.0°C soyuqdur\n"
          ]
        }
      ]
    },
    {
      "cell_type": "markdown",
      "source": [
        " ## **Homework 15**\n",
        "Userdən eyni ölçülü 2 set götürün. Daha sonra bu set-lərin ortaq qiyməti varsa \"yes\" və hansı(lar) olduğunu, deyilsə \"no\" sözünü ekrana çıxarın.\n",
        "\n",
        "**Example**\n",
        "\n",
        " set1 = {10, 20, 30, 40, 50}\n",
        "\n",
        " set2 = {60, 70, 80, 90, 10}\n",
        "\n",
        "**Output**\n",
        "\n",
        " yes\n",
        "\n",
        "{10}"
      ],
      "metadata": {
        "id": "Upq4CkI_cLiL"
      }
    },
    {
      "cell_type": "code",
      "source": [
        "while True:\n",
        "  set1 = set(input('Enter elements of set1 separated by space: ').split())\n",
        "  set2 = set(input(\"Enter elements of set2 separated by space with the same length as set1: \").split())\n",
        "  if len(set1) == len(set2):\n",
        "    break\n",
        "  print('Sets must have the same length')\n",
        "\n",
        "if set1.intersection(set2):\n",
        "  print('Yes')\n",
        "  print(set1.intersection(set2))\n",
        "else:\n",
        "  print('No')"
      ],
      "metadata": {
        "id": "ludIVEwtdjxs",
        "colab": {
          "base_uri": "https://localhost:8080/"
        },
        "outputId": "933c9b9a-0542-475c-b30d-a5055d585c68"
      },
      "execution_count": null,
      "outputs": [
        {
          "output_type": "stream",
          "name": "stdout",
          "text": [
            "Enter elements of set1 separated by space: 12 34 45.6\n",
            "Enter elements of set2 separated by space with the same length as set1: 23 46 45.6\n",
            "Yes\n",
            "{'45.6'}\n"
          ]
        }
      ]
    },
    {
      "cell_type": "code",
      "source": [],
      "metadata": {
        "id": "F-uImneyNMOu"
      },
      "execution_count": null,
      "outputs": []
    }
  ]
}