{
  "cells": [
    {
      "cell_type": "markdown",
      "metadata": {
        "id": "view-in-github",
        "colab_type": "text"
      },
      "source": [
        "<a href=\"https://colab.research.google.com/github/AkbarBunyad/Training_Programs/blob/main/gi_group_ds/class_practice/functions.ipynb\" target=\"_parent\"><img src=\"https://colab.research.google.com/assets/colab-badge.svg\" alt=\"Open In Colab\"/></a>"
      ]
    },
    {
      "cell_type": "markdown",
      "metadata": {
        "id": "NhLinzlH62j3"
      },
      "source": [
        "# Funksiyalar mövzusunu əhatə edən tapşırıqlar"
      ]
    },
    {
      "cell_type": "markdown",
      "metadata": {
        "id": "XaM4FEMz62j8"
      },
      "source": []
    },
    {
      "cell_type": "markdown",
      "metadata": {
        "id": "Vq9poe6Y62j8"
      },
      "source": [
        "### Tapşırıq 1"
      ]
    },
    {
      "cell_type": "markdown",
      "metadata": {
        "id": "mT5bOM8u62j9"
      },
      "source": [
        "Daxil olunmuş 2 ədədin Pifagor ədədləri olub olmadığını yoxlayan funksiya yazın"
      ]
    },
    {
      "cell_type": "code",
      "execution_count": null,
      "metadata": {
        "id": "fZPSkvw-62j9",
        "colab": {
          "base_uri": "https://localhost:8080/",
          "height": 35
        },
        "outputId": "531c2ac7-d8c5-4307-e21f-cc8349d59945"
      },
      "outputs": [
        {
          "output_type": "execute_result",
          "data": {
            "text/plain": [
              "'No'"
            ],
            "application/vnd.google.colaboratory.intrinsic+json": {
              "type": "string"
            }
          },
          "metadata": {},
          "execution_count": 21
        }
      ],
      "source": [
        "import math\n",
        "def pifo(a,b):\n",
        "  c = math.sqrt(a**2 + b**2)\n",
        "  if c == int(c):\n",
        "    return 'Yes'\n",
        "  else:\n",
        "    return 'No'\n",
        "pifo(13, 5)"
      ]
    },
    {
      "cell_type": "markdown",
      "metadata": {
        "id": "ZxDPxreU62j_"
      },
      "source": []
    },
    {
      "cell_type": "markdown",
      "metadata": {
        "id": "GOnmloYq62j_"
      },
      "source": [
        "### Tapşırıq 2\n",
        "Daxil edilmiş qiymətlər üçün özündən 1 sonraki indexdə dayanan qiymətlə cəmini ekrana çıxaran funksiya yazın.   \n",
        "Misal üçün aşağıdakı örnəyə baxaq:   \n",
        "\n",
        "**Input:** *[5,6,7,8,9]*  \n",
        "**Output:** *[11,13,15,17]*"
      ]
    },
    {
      "cell_type": "code",
      "execution_count": null,
      "metadata": {
        "id": "Ta44bIia62kA",
        "colab": {
          "base_uri": "https://localhost:8080/"
        },
        "outputId": "d0457499-e47c-4a25-cdd2-c8362a894608"
      },
      "outputs": [
        {
          "output_type": "execute_result",
          "data": {
            "text/plain": [
              "[11, 13, 15, 17, 19]"
            ]
          },
          "metadata": {},
          "execution_count": 13
        }
      ],
      "source": [
        "def sum_next(ls):\n",
        "  new = []\n",
        "  for i in range(len(ls)):\n",
        "    if i!=len(ls)-1:\n",
        "      s = ls[i]+ls[i+1]\n",
        "      new+=[s]\n",
        "  return new\n",
        "ls = [5,6,7,8,9, 10]\n",
        "sum_next(ls)"
      ]
    },
    {
      "cell_type": "markdown",
      "metadata": {
        "id": "1yhBVngR62kB"
      },
      "source": []
    },
    {
      "cell_type": "markdown",
      "metadata": {
        "id": "KE7UEQQ462kB"
      },
      "source": [
        "### Tapşırıq 3\n",
        "Daxil edilmiş 2 stringin minimal 2 unikal simvolunun eyni olub olmadığını yoxlayan funksiya yazın.\n",
        "Misal üçün 'advance' və 'anormal' bu iki string üçünhər ikisində 2 a simvolu var lakin unikal\n",
        "baxılmalı olduğu üçün cəmi 1 a simvol ortaq görsənir. Yekun cavab olaraq hə və ya yox qayıtmalıdır.\n"
      ]
    },
    {
      "cell_type": "code",
      "execution_count": null,
      "metadata": {
        "id": "d1Gcub8-62kC",
        "colab": {
          "base_uri": "https://localhost:8080/",
          "height": 35
        },
        "outputId": "a542d143-4370-45d6-f899-5fb96607361a"
      },
      "outputs": [
        {
          "output_type": "execute_result",
          "data": {
            "text/plain": [
              "'Yes'"
            ],
            "application/vnd.google.colaboratory.intrinsic+json": {
              "type": "string"
            }
          },
          "metadata": {},
          "execution_count": 20
        }
      ],
      "source": [
        "def string_def(string1,string2):\n",
        "    s1 = []\n",
        "    s2 = []\n",
        "    for i in string1:\n",
        "      if i not in s1:\n",
        "        s1+=[i]\n",
        "    for j in string2:\n",
        "      if j not in s2:\n",
        "        s2+=[j]\n",
        "    elv = list(set(s1).intersection(set(s2)))\n",
        "    if len(elv)>=2:\n",
        "      return 'Yes'\n",
        "    else:\n",
        "      return 'No'\n",
        "\n",
        "string_def('anormal', 'advance')"
      ]
    },
    {
      "cell_type": "markdown",
      "metadata": {
        "id": "I_iVil_a62kD"
      },
      "source": []
    },
    {
      "cell_type": "markdown",
      "metadata": {
        "id": "A3zXvktH62kD"
      },
      "source": [
        "### Tapşırıq 4"
      ]
    },
    {
      "cell_type": "markdown",
      "metadata": {
        "id": "r5UVaTHc62kD"
      },
      "source": [
        "   Təsəvvür edək ki 2 kenquru arasında yarış keçirilir. Kenquruların başlanğıc nöqtələri və hər tullanışda neçə metr qət elədiyini bilərək bu kenquruların hansısa bir nöqtədə eyni nöqtədə olub olmayacaqlarını çıxaran funksiya yazın.     \n",
        "    **Qeyd :** Hər bir iterasiyada kenquruların hər ikisi tullanış etməlidir.\n",
        "    \n",
        "   *Kenquruların başlanğıc nöqtələri uyğun olaraq* : **x1,x2**    \n",
        "   *Kenquruların tullanış məsafələri uyğun olaraq* : **v1,v2**\n",
        "   \n",
        "   Aşağıdakı şəkildə misal verilmişdir:  \n",
        "   Kangroo 1: x1=0,v1=3   \n",
        "   Kangroo 2: x2=4,v2=2"
      ]
    },
    {
      "cell_type": "code",
      "execution_count": null,
      "metadata": {
        "id": "3L29YpKI62kE",
        "colab": {
          "base_uri": "https://localhost:8080/",
          "height": 35
        },
        "outputId": "d9a5f153-9d5f-4bab-8405-5a2d194e321a"
      },
      "outputs": [
        {
          "output_type": "execute_result",
          "data": {
            "text/plain": [
              "'They will never meet'"
            ],
            "application/vnd.google.colaboratory.intrinsic+json": {
              "type": "string"
            }
          },
          "metadata": {},
          "execution_count": 42
        }
      ],
      "source": [
        "def kangroo(x1,v1,x2,v2):\n",
        "  if (v1>v2 and x1>x2) or (v2>v1 and x2>x1):\n",
        "    return 'They will never meet'\n",
        "  s1 = x1\n",
        "  s2 = x2\n",
        "  while True:\n",
        "    s1+=v1\n",
        "    s2+=v2\n",
        "    if s1 == s2:\n",
        "      return f'They will meet at {s1}'\n",
        "    if (s1>s2 and v1 > v2) or (s2 > s1 or v2 > v1):\n",
        "       return 'They will never meet'\n",
        "\n",
        "kangroo(0,5,4,6)"
      ]
    },
    {
      "cell_type": "markdown",
      "metadata": {
        "id": "0AdGz7Er62kF"
      },
      "source": [
        "### Tapşırıq 5\n",
        "\n",
        " Təsəvvür edin ki, NA ayaqqabı brendində çalışırsız. Ayaqqabılar istehsal olduqdan sonra qarışıq təsadüfi formada bir qutuya toplanır. Sizdən bu qutulara yığılan ayaqqabıların ölçüləri əsasında cütlənə bilənlərinin sayıyını göstərən proqram yazılması tələb olunur.  \n",
        "\n",
        " Funksiyada istənilən qədər ayaqqabı daxil oluna bilər. Daxil olunan ayaqqabıları təmsil edən onların ölçüləridir. Yəni funksiyanın inputu ayaqqabı ölçüləri olacaqdır.   \n",
        "\n",
        " **Qeyd :** Avropa ölçü sisteminə görə ayaqqabı ölçüləri ~ [35:48] aralığında dəyişir.\n"
      ]
    },
    {
      "cell_type": "code",
      "execution_count": null,
      "metadata": {
        "id": "Wg_Z8c9M62kG",
        "colab": {
          "base_uri": "https://localhost:8080/"
        },
        "outputId": "fafa52ec-c09d-4ebb-f4d5-860504c25903"
      },
      "outputs": [
        {
          "output_type": "stream",
          "name": "stdout",
          "text": [
            "Enter shoe size: 35\n",
            "Enter shoe size: 35\n",
            "Enter shoe size: 35\n",
            "Enter shoe size: 57\n",
            "Enter shoe size: 56\n",
            "Enter shoe size: 56\n",
            "{35.0: 3, 57.0: 1, 56.0: 2}\n"
          ]
        },
        {
          "output_type": "execute_result",
          "data": {
            "text/plain": [
              "2"
            ]
          },
          "metadata": {},
          "execution_count": 41
        }
      ],
      "source": [
        "def shoe(n):\n",
        "  lst = []\n",
        "  for i in range(n):\n",
        "    v = float(input('Enter shoe size: '))\n",
        "    lst+=[v]\n",
        "  dct = {}\n",
        "  '''for it in lst:\n",
        "    dct[it] = dct.get(it, 0) + 1\n",
        "  print(dct)'''\n",
        "  for itm in lst:\n",
        "    if (itm in dct):\n",
        "      dct[itm] +=1\n",
        "    else:\n",
        "      dct[itm] = 1\n",
        "  m = 0\n",
        "  print(dct)\n",
        "  for key, value in dct.items():\n",
        "    if value >=2:\n",
        "      m+=(value // 2)\n",
        "  return m\n",
        "\n",
        "shoe(6)"
      ]
    },
    {
      "cell_type": "code",
      "source": [],
      "metadata": {
        "id": "Gaf5OlOeFOM8"
      },
      "execution_count": null,
      "outputs": []
    }
  ],
  "metadata": {
    "kernelspec": {
      "display_name": "Python 3 (ipykernel)",
      "language": "python",
      "name": "python3"
    },
    "language_info": {
      "codemirror_mode": {
        "name": "ipython",
        "version": 3
      },
      "file_extension": ".py",
      "mimetype": "text/x-python",
      "name": "python",
      "nbconvert_exporter": "python",
      "pygments_lexer": "ipython3",
      "version": "3.9.5"
    },
    "colab": {
      "provenance": [],
      "include_colab_link": true
    }
  },
  "nbformat": 4,
  "nbformat_minor": 0
}