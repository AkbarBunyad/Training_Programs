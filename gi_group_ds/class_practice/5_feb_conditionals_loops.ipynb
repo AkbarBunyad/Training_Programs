{
 "cells": [
  {
   "cell_type": "code",
   "execution_count": 50,
   "id": "ecaca53d",
   "metadata": {},
   "outputs": [
    {
     "name": "stdout",
     "output_type": "stream",
     "text": [
      "yas daxil edin: 13-\n",
      "duzgun yas daxil edin\n"
     ]
    }
   ],
   "source": [
    "try:\n",
    "    n = input('yas daxil edin: ')\n",
    "    m = int(n)\n",
    "    if m == int(n): \n",
    "        if m > 18:\n",
    "            print('yetiskinsen')\n",
    "        else:\n",
    "            print('deyilsen')\n",
    "except:\n",
    "    print('duzgun yas daxil edin')"
   ]
  },
  {
   "cell_type": "code",
   "execution_count": 53,
   "id": "7d781d69",
   "metadata": {},
   "outputs": [
    {
     "name": "stdout",
     "output_type": "stream",
     "text": [
      "birinci ededi daxil edin: 12.9\n",
      "ikinci ededi daxil edin: 90h\n",
      "duzgun input formati daxil edin\n"
     ]
    }
   ],
   "source": [
    "a = input('birinci ededi daxil edin: ')\n",
    "b = input('ikinci ededi daxil edin: ')\n",
    "try:\n",
    "    a = float(a)\n",
    "    b = float(b)\n",
    "    if a == b:\n",
    "        print('ededler beraberdir')\n",
    "    elif a > b:\n",
    "        print('birinci eded boyukdur')\n",
    "    else:\n",
    "        print('ikinci eded boyukdur')\n",
    "except:\n",
    "    print('duzgun input formati daxil edin')"
   ]
  },
  {
   "cell_type": "code",
   "execution_count": 54,
   "id": "3c292f1d",
   "metadata": {},
   "outputs": [
    {
     "name": "stdout",
     "output_type": "stream",
     "text": [
      "temperaturu daxil edin: 12\n",
      "soyuq\n"
     ]
    }
   ],
   "source": [
    "try:\n",
    "    a = input('temperaturu daxil edin: ')\n",
    "    a = float(a)\n",
    "    if a < 0:\n",
    "        print('cox soyuq')\n",
    "    elif 0 < a < 20:\n",
    "        print('soyuq')\n",
    "    else:\n",
    "        print('iliq')\n",
    "except:\n",
    "    print('duzgun temperatur format daxil edin')"
   ]
  },
  {
   "cell_type": "code",
   "execution_count": 26,
   "id": "03dcbacc",
   "metadata": {},
   "outputs": [
    {
     "name": "stdout",
     "output_type": "stream",
     "text": [
      "1 2 3 4 5 6 7 8 9 10 "
     ]
    }
   ],
   "source": [
    "for i in range(1, 11):\n",
    "    print(i, end = ' ')"
   ]
  },
  {
   "cell_type": "code",
   "execution_count": 42,
   "id": "7b123600",
   "metadata": {},
   "outputs": [
    {
     "name": "stdout",
     "output_type": "stream",
     "text": [
      "450.\n",
      "duzgun eded daxil edin\n"
     ]
    }
   ],
   "source": [
    "try:\n",
    "    a = input()\n",
    "    b = int(a)\n",
    "    if b == int(a):\n",
    "        print(a)\n",
    "except:\n",
    "    print('duzgun eded daxil edin')"
   ]
  },
  {
   "cell_type": "code",
   "execution_count": 55,
   "id": "7cd26731",
   "metadata": {},
   "outputs": [
    {
     "name": "stdout",
     "output_type": "stream",
     "text": [
      "eded daxil et: 336\n",
      "deyil\n"
     ]
    }
   ],
   "source": [
    "n = int(input('eded daxil et: '))\n",
    "a = 0\n",
    "for i in range(1, n):\n",
    "    if n%i == 0:\n",
    "        a+=i\n",
    "if a == n:\n",
    "    print('ozudu')\n",
    "else:\n",
    "    print('deyil')"
   ]
  },
  {
   "cell_type": "code",
   "execution_count": 1,
   "id": "41292a7a",
   "metadata": {},
   "outputs": [
    {
     "name": "stdout",
     "output_type": "stream",
     "text": [
      "eded: 6\n",
      "720\n"
     ]
    }
   ],
   "source": [
    "a = int(input('eded: '))\n",
    "x = 1\n",
    "for i in range(1, a+1):\n",
    "    x*=i\n",
    "print(x)"
   ]
  },
  {
   "cell_type": "code",
   "execution_count": 7,
   "id": "fe73f160",
   "metadata": {
    "scrolled": true
   },
   "outputs": [
    {
     "name": "stdout",
     "output_type": "stream",
     "text": [
      "enter multiple values: 156.8, 90\n",
      "246.8\n"
     ]
    }
   ],
   "source": [
    "i = input('enter multiple values: ')\n",
    "inn = i.split(',')\n",
    "s = 0\n",
    "for j in inn:\n",
    "    s+=float(j)\n",
    "print(s)"
   ]
  },
  {
   "cell_type": "code",
   "execution_count": 6,
   "id": "db73ae4a",
   "metadata": {},
   "outputs": [
    {
     "name": "stdout",
     "output_type": "stream",
     "text": [
      "stringi daxil edin: Akbar\n",
      "A\n",
      "k\n",
      "b\n",
      "a\n",
      "r\n"
     ]
    }
   ],
   "source": [
    "i = input('stringi daxil edin: ')\n",
    "for j in i:\n",
    "    print(j)"
   ]
  },
  {
   "cell_type": "code",
   "execution_count": 15,
   "id": "38f382b3",
   "metadata": {},
   "outputs": [
    {
     "name": "stdout",
     "output_type": "stream",
     "text": [
      "metni daxil edin: ffg'\n",
      "1\n"
     ]
    }
   ],
   "source": [
    "i = input('metni daxil edin: ')\n",
    "\n",
    "#print(len(i.split()))\n",
    "\n",
    "w = 0\n",
    "flag = False\n",
    "for char in i:\n",
    "    if char.isspace():\n",
    "        if flag:\n",
    "            w+=1\n",
    "            flag = False\n",
    "    else:\n",
    "        flag = True\n",
    "if flag:\n",
    "    w+=1\n",
    "print(w)"
   ]
  },
  {
   "cell_type": "code",
   "execution_count": 23,
   "id": "21d8e8b8",
   "metadata": {},
   "outputs": [
    {
     "name": "stdout",
     "output_type": "stream",
     "text": [
      "metn daxil edin: Akbar elt\n",
      "8\n"
     ]
    }
   ],
   "source": [
    "i = input('metn daxil edin: ')\n",
    "\n",
    "w = 0\n",
    "for j in i:\n",
    "    if j.isalpha():\n",
    "        w+=1\n",
    "print(w)"
   ]
  },
  {
   "cell_type": "code",
   "execution_count": 21,
   "id": "899cc518",
   "metadata": {},
   "outputs": [
    {
     "name": "stdout",
     "output_type": "stream",
     "text": [
      "how many numbers to enter: 5\n",
      "enter a number: 12\n",
      "enter a number: 13\n",
      "enter a number: 12\n",
      "enter a number: 12\n",
      "enter a number: 16\n",
      "[12.0, 13.0, 12.0, 12.0, 16.0]\n",
      "[16.0, 12.0, 13.0]\n",
      "[12.0, 13.0, 16.0]\n"
     ]
    }
   ],
   "source": [
    "n = int(input('how many numbers to enter: '))\n",
    "lst = []\n",
    "for i in range(n):\n",
    "    p = input('enter a number: ')\n",
    "    try:\n",
    "        num = float(p)\n",
    "        lst.append(num)\n",
    "    except:\n",
    "        print('enter valid input')\n",
    "print(lst)\n",
    "\n",
    "print(list(set(lst)))\n",
    "t = []\n",
    "\n",
    "for e in lst:\n",
    "    if e not in t:\n",
    "        t.append(e)\n",
    "print(t)\n",
    "            "
   ]
  },
  {
   "cell_type": "code",
   "execution_count": 38,
   "id": "8f39d564",
   "metadata": {},
   "outputs": [
    {
     "name": "stdout",
     "output_type": "stream",
     "text": [
      "ededi daxil et: 362\n",
      "[2, 181]\n"
     ]
    }
   ],
   "source": [
    "i = int(input('ededi daxil et: '))\n",
    "l = []\n",
    "w = 0   \n",
    "for j in range(1, i):\n",
    "    w = 0\n",
    "    if i%j == 0 and j not in l:\n",
    "        for k in range(1, j):\n",
    "            if j%k == 0:\n",
    "                w+=1\n",
    "        if w<=1:       \n",
    "            l+=[j]\n",
    "print(l[1: len(l)])"
   ]
  },
  {
   "cell_type": "code",
   "execution_count": 29,
   "id": "b5768abd",
   "metadata": {},
   "outputs": [
    {
     "name": "stdout",
     "output_type": "stream",
     "text": [
      "1, 4, 9, 16, 25, 36, 49, 64, 81, 100, 121, 144, 169, 196, 225, 256, 289, 324, 361, 400, 441, 484, 529, 576, 625, 676, 729, 784, 841, 900, 961, 1024, 1089, 1156, 1225, 1296, 1369, 1444, 1521, 1600, 1681, 1764, 1849, 1936, 2025, 2116, 2209, 2304, 2401, 2500, 2601, 2704, 2809, 2916, 3025, 3136, 3249, 3364, 3481, 3600, 3721, 3844, 3969, 4096, 4225, 4356, 4489, 4624, 4761, 4900, 5041, 5184, 5329, 5476, 5625, 5776, 5929, 6084, 6241, 6400, 6561, 6724, 6889, 7056, 7225, 7396, 7569, 7744, 7921, 8100, 8281, 8464, 8649, 8836, 9025, 9216, 9409, 9604, 9801, 10000"
     ]
    }
   ],
   "source": [
    "for i in range(1, 101):\n",
    "    print(i**2, end = ', ' if i < 100 else '')"
   ]
  },
  {
   "cell_type": "code",
   "execution_count": 46,
   "id": "0aea5f7a",
   "metadata": {},
   "outputs": [
    {
     "name": "stdout",
     "output_type": "stream",
     "text": [
      "enter the number or write stop to finish the loop: 34\n",
      "enter the number or write stop to finish the loop: 56\n",
      "enter the number or write stop to finish the loop: 90\n",
      "enter the number or write stop to finish the loop: 23\n",
      "enter the number or write stop to finish the loop: 0\n",
      "enter the number or write stop to finish the loop: p-\n",
      "invalid input\n",
      "enter the number or write stop to finish the loop: stop\n",
      "['34', '56', '90', '23', '0']\n",
      "40.6\n"
     ]
    }
   ],
   "source": [
    "lst = []\n",
    "t = 0\n",
    "i = input('enter the number or write stop to finish the loop: ')\n",
    "c = 0\n",
    "while i != 'stop':\n",
    "    try:\n",
    "        num = float(i)\n",
    "        lst+=[i]\n",
    "        c+=1\n",
    "        t+=num\n",
    "    except:\n",
    "        print('invalid input')\n",
    "    i = input('enter the number or write stop to finish the loop: ')\n",
    "print(lst)\n",
    "print(t/c)"
   ]
  },
  {
   "cell_type": "code",
   "execution_count": 47,
   "id": "ad6c946c",
   "metadata": {},
   "outputs": [
    {
     "name": "stdout",
     "output_type": "stream",
     "text": [
      "sum is: 1124999250000\n",
      "0.2835695743560791\n"
     ]
    }
   ],
   "source": [
    "import time\n",
    "\n",
    "start = time.time()\n",
    "t = 0\n",
    "for i in range(0, 1500000):\n",
    "    t+=i\n",
    "end = time.time()\n",
    "print('sum is: '+str(t))\n",
    "print(end-start)"
   ]
  },
  {
   "cell_type": "code",
   "execution_count": 53,
   "id": "07c3e045",
   "metadata": {},
   "outputs": [
    {
     "name": "stdout",
     "output_type": "stream",
     "text": [
      "1124999250000\n",
      "0.0065157413482666016\n"
     ]
    }
   ],
   "source": [
    "import numpy as np\n",
    "start = time.time()\n",
    "print(np.sum(np.arange(1500000, dtype = np.int64)))\n",
    "end = time.time()\n",
    "print(end-start)"
   ]
  },
  {
   "cell_type": "code",
   "execution_count": 66,
   "id": "79d1b20f",
   "metadata": {},
   "outputs": [
    {
     "name": "stdout",
     "output_type": "stream",
     "text": [
      "2.0\n"
     ]
    }
   ],
   "source": [
    "print(np.mean(np.arange(5)))"
   ]
  },
  {
   "cell_type": "code",
   "execution_count": 71,
   "id": "01f4e374",
   "metadata": {},
   "outputs": [
    {
     "data": {
      "text/html": [
       "<div>\n",
       "<style scoped>\n",
       "    .dataframe tbody tr th:only-of-type {\n",
       "        vertical-align: middle;\n",
       "    }\n",
       "\n",
       "    .dataframe tbody tr th {\n",
       "        vertical-align: top;\n",
       "    }\n",
       "\n",
       "    .dataframe thead th {\n",
       "        text-align: right;\n",
       "    }\n",
       "</style>\n",
       "<table border=\"1\" class=\"dataframe\">\n",
       "  <thead>\n",
       "    <tr style=\"text-align: right;\">\n",
       "      <th></th>\n",
       "      <th>a</th>\n",
       "      <th>b</th>\n",
       "      <th>c</th>\n",
       "      <th>d</th>\n",
       "    </tr>\n",
       "  </thead>\n",
       "  <tbody>\n",
       "    <tr>\n",
       "      <th>0</th>\n",
       "      <td>29</td>\n",
       "      <td>43</td>\n",
       "      <td>15</td>\n",
       "      <td>34</td>\n",
       "    </tr>\n",
       "    <tr>\n",
       "      <th>1</th>\n",
       "      <td>14</td>\n",
       "      <td>5</td>\n",
       "      <td>20</td>\n",
       "      <td>5</td>\n",
       "    </tr>\n",
       "    <tr>\n",
       "      <th>2</th>\n",
       "      <td>12</td>\n",
       "      <td>32</td>\n",
       "      <td>2</td>\n",
       "      <td>36</td>\n",
       "    </tr>\n",
       "    <tr>\n",
       "      <th>3</th>\n",
       "      <td>10</td>\n",
       "      <td>32</td>\n",
       "      <td>23</td>\n",
       "      <td>41</td>\n",
       "    </tr>\n",
       "    <tr>\n",
       "      <th>4</th>\n",
       "      <td>15</td>\n",
       "      <td>4</td>\n",
       "      <td>7</td>\n",
       "      <td>9</td>\n",
       "    </tr>\n",
       "  </tbody>\n",
       "</table>\n",
       "</div>"
      ],
      "text/plain": [
       "    a   b   c   d\n",
       "0  29  43  15  34\n",
       "1  14   5  20   5\n",
       "2  12  32   2  36\n",
       "3  10  32  23  41\n",
       "4  15   4   7   9"
      ]
     },
     "execution_count": 71,
     "metadata": {},
     "output_type": "execute_result"
    }
   ],
   "source": [
    "import pandas as pd\n",
    "df = pd.DataFrame(np.random.randint(1,50,size = (500000,4)), columns = ['a','b','c','d'])\n",
    "df.shape\n",
    "df.head()"
   ]
  },
  {
   "cell_type": "code",
   "execution_count": 68,
   "id": "f7dd149b",
   "metadata": {},
   "outputs": [
    {
     "ename": "KeyboardInterrupt",
     "evalue": "",
     "output_type": "error",
     "traceback": [
      "\u001b[1;31m---------------------------------------------------------------------------\u001b[0m",
      "\u001b[1;31mKeyboardInterrupt\u001b[0m                         Traceback (most recent call last)",
      "Cell \u001b[1;32mIn[68], line 4\u001b[0m\n\u001b[0;32m      1\u001b[0m start \u001b[38;5;241m=\u001b[39m time\u001b[38;5;241m.\u001b[39mtime()\n\u001b[0;32m      3\u001b[0m \u001b[38;5;28;01mfor\u001b[39;00m idx, row \u001b[38;5;129;01min\u001b[39;00m df\u001b[38;5;241m.\u001b[39miterrows():\n\u001b[1;32m----> 4\u001b[0m     df\u001b[38;5;241m.\u001b[39mat[idx, \u001b[38;5;124m'\u001b[39m\u001b[38;5;124mratio\u001b[39m\u001b[38;5;124m'\u001b[39m] \u001b[38;5;241m=\u001b[39m \u001b[38;5;241m100\u001b[39m \u001b[38;5;241m*\u001b[39m (row[\u001b[38;5;124m'\u001b[39m\u001b[38;5;124md\u001b[39m\u001b[38;5;124m'\u001b[39m]\u001b[38;5;241m/\u001b[39mrow[\u001b[38;5;124m'\u001b[39m\u001b[38;5;124mc\u001b[39m\u001b[38;5;124m'\u001b[39m])\n\u001b[0;32m      5\u001b[0m end \u001b[38;5;241m=\u001b[39m time\u001b[38;5;241m.\u001b[39mtime()\n\u001b[0;32m      6\u001b[0m \u001b[38;5;28mprint\u001b[39m(end \u001b[38;5;241m-\u001b[39m start)\n",
      "File \u001b[1;32m~\\anaconda3\\lib\\site-packages\\pandas\\core\\indexing.py:2442\u001b[0m, in \u001b[0;36m_AtIndexer.__setitem__\u001b[1;34m(self, key, value)\u001b[0m\n\u001b[0;32m   2439\u001b[0m     \u001b[38;5;28mself\u001b[39m\u001b[38;5;241m.\u001b[39mobj\u001b[38;5;241m.\u001b[39mloc[key] \u001b[38;5;241m=\u001b[39m value\n\u001b[0;32m   2440\u001b[0m     \u001b[38;5;28;01mreturn\u001b[39;00m\n\u001b[1;32m-> 2442\u001b[0m \u001b[38;5;28;01mreturn\u001b[39;00m \u001b[38;5;28;43msuper\u001b[39;49m\u001b[43m(\u001b[49m\u001b[43m)\u001b[49m\u001b[38;5;241;43m.\u001b[39;49m\u001b[38;5;21;43m__setitem__\u001b[39;49m\u001b[43m(\u001b[49m\u001b[43mkey\u001b[49m\u001b[43m,\u001b[49m\u001b[43m \u001b[49m\u001b[43mvalue\u001b[49m\u001b[43m)\u001b[49m\n",
      "File \u001b[1;32m~\\anaconda3\\lib\\site-packages\\pandas\\core\\indexing.py:2386\u001b[0m, in \u001b[0;36m_ScalarAccessIndexer.__setitem__\u001b[1;34m(self, key, value)\u001b[0m\n\u001b[0;32m   2384\u001b[0m \u001b[38;5;28;01mdef\u001b[39;00m \u001b[38;5;21m__setitem__\u001b[39m(\u001b[38;5;28mself\u001b[39m, key, value) \u001b[38;5;241m-\u001b[39m\u001b[38;5;241m>\u001b[39m \u001b[38;5;28;01mNone\u001b[39;00m:\n\u001b[0;32m   2385\u001b[0m     \u001b[38;5;28;01mif\u001b[39;00m \u001b[38;5;28misinstance\u001b[39m(key, \u001b[38;5;28mtuple\u001b[39m):\n\u001b[1;32m-> 2386\u001b[0m         key \u001b[38;5;241m=\u001b[39m \u001b[38;5;28;43mtuple\u001b[39;49m\u001b[43m(\u001b[49m\u001b[43mcom\u001b[49m\u001b[38;5;241;43m.\u001b[39;49m\u001b[43mapply_if_callable\u001b[49m\u001b[43m(\u001b[49m\u001b[43mx\u001b[49m\u001b[43m,\u001b[49m\u001b[43m \u001b[49m\u001b[38;5;28;43mself\u001b[39;49m\u001b[38;5;241;43m.\u001b[39;49m\u001b[43mobj\u001b[49m\u001b[43m)\u001b[49m\u001b[43m \u001b[49m\u001b[38;5;28;43;01mfor\u001b[39;49;00m\u001b[43m \u001b[49m\u001b[43mx\u001b[49m\u001b[43m \u001b[49m\u001b[38;5;129;43;01min\u001b[39;49;00m\u001b[43m \u001b[49m\u001b[43mkey\u001b[49m\u001b[43m)\u001b[49m\n\u001b[0;32m   2387\u001b[0m     \u001b[38;5;28;01melse\u001b[39;00m:\n\u001b[0;32m   2388\u001b[0m         \u001b[38;5;66;03m# scalar callable may return tuple\u001b[39;00m\n\u001b[0;32m   2389\u001b[0m         key \u001b[38;5;241m=\u001b[39m com\u001b[38;5;241m.\u001b[39mapply_if_callable(key, \u001b[38;5;28mself\u001b[39m\u001b[38;5;241m.\u001b[39mobj)\n",
      "File \u001b[1;32m~\\anaconda3\\lib\\site-packages\\pandas\\core\\indexing.py:2386\u001b[0m, in \u001b[0;36m<genexpr>\u001b[1;34m(.0)\u001b[0m\n\u001b[0;32m   2384\u001b[0m \u001b[38;5;28;01mdef\u001b[39;00m \u001b[38;5;21m__setitem__\u001b[39m(\u001b[38;5;28mself\u001b[39m, key, value) \u001b[38;5;241m-\u001b[39m\u001b[38;5;241m>\u001b[39m \u001b[38;5;28;01mNone\u001b[39;00m:\n\u001b[0;32m   2385\u001b[0m     \u001b[38;5;28;01mif\u001b[39;00m \u001b[38;5;28misinstance\u001b[39m(key, \u001b[38;5;28mtuple\u001b[39m):\n\u001b[1;32m-> 2386\u001b[0m         key \u001b[38;5;241m=\u001b[39m \u001b[38;5;28mtuple\u001b[39m(com\u001b[38;5;241m.\u001b[39mapply_if_callable(x, \u001b[38;5;28mself\u001b[39m\u001b[38;5;241m.\u001b[39mobj) \u001b[38;5;28;01mfor\u001b[39;00m x \u001b[38;5;129;01min\u001b[39;00m key)\n\u001b[0;32m   2387\u001b[0m     \u001b[38;5;28;01melse\u001b[39;00m:\n\u001b[0;32m   2388\u001b[0m         \u001b[38;5;66;03m# scalar callable may return tuple\u001b[39;00m\n\u001b[0;32m   2389\u001b[0m         key \u001b[38;5;241m=\u001b[39m com\u001b[38;5;241m.\u001b[39mapply_if_callable(key, \u001b[38;5;28mself\u001b[39m\u001b[38;5;241m.\u001b[39mobj)\n",
      "\u001b[1;31mKeyboardInterrupt\u001b[0m: "
     ]
    }
   ],
   "source": [
    "start = time.time()\n",
    "\n",
    "for idx, row in df.iterrows():\n",
    "    df.at[idx, 'ratio'] = 100 * (row['d']/row['c'])\n",
    "end = time.time()\n",
    "print(end - start)"
   ]
  },
  {
   "cell_type": "code",
   "execution_count": 72,
   "id": "d8b9522c",
   "metadata": {},
   "outputs": [
    {
     "name": "stdout",
     "output_type": "stream",
     "text": [
      "0.010472536087036133\n"
     ]
    }
   ],
   "source": [
    "s = time.time()\n",
    "df['ratio'] = 100 * (df['d'] / df['c'])\n",
    "\n",
    "e = time.time()\n",
    "print(e - s)"
   ]
  },
  {
   "cell_type": "code",
   "execution_count": 73,
   "id": "c795a9ba",
   "metadata": {},
   "outputs": [
    {
     "name": "stdout",
     "output_type": "stream",
     "text": [
      "97.49154138565063\n"
     ]
    }
   ],
   "source": [
    "import time \n",
    "start = time.time()\n",
    "\n",
    "# Iterating through DataFrame using iterrows\n",
    "for idx, row in df.iterrows():\n",
    "    if row.a == 0:\n",
    "        df.at[idx,'e'] = row.d    \n",
    "    elif (row.a <= 25) & (row.a > 0):\n",
    "        df.at[idx,'e'] = (row.b)-(row.c)    \n",
    "    else:\n",
    "        df.at[idx,'e'] = row.b + row.c\n",
    "end = time.time()\n",
    "print(end - start)\n",
    "### Time taken: 177 seconds"
   ]
  },
  {
   "cell_type": "code",
   "execution_count": 74,
   "id": "abcd879d",
   "metadata": {},
   "outputs": [
    {
     "name": "stdout",
     "output_type": "stream",
     "text": [
      "0.04010009765625\n"
     ]
    }
   ],
   "source": [
    "st = time.time()\n",
    "df['e'] = df['b'] + df['c']\n",
    "df.loc[df['a'] <= 25, 'e'] = df['b'] - df['c']\n",
    "df.loc[df['a'] == 0, 'e'] = df['d']\n",
    "en = time.time()\n",
    "print(en - st)"
   ]
  },
  {
   "cell_type": "code",
   "execution_count": 75,
   "id": "c8809882",
   "metadata": {},
   "outputs": [
    {
     "data": {
      "text/plain": [
       "array([[0.92310427, 0.55793096, 0.91691388, 0.8587712 , 0.04270421]])"
      ]
     },
     "execution_count": 75,
     "metadata": {},
     "output_type": "execute_result"
    }
   ],
   "source": [
    "m = np.random.rand(1,5)\n",
    "m"
   ]
  },
  {
   "cell_type": "code",
   "execution_count": 76,
   "id": "ce18c624",
   "metadata": {},
   "outputs": [
    {
     "data": {
      "text/plain": [
       "array([[0.48485065, 0.83584849, 0.86837011, 0.39493088, 0.97393677],\n",
       "       [0.18504944, 0.7704143 , 0.35363769, 0.30188661, 0.96716277],\n",
       "       [0.66659166, 0.83151552, 0.12332128, 0.84539494, 0.15229628],\n",
       "       ...,\n",
       "       [0.42536966, 0.14521431, 0.86553673, 0.67306436, 0.22711125],\n",
       "       [0.67421248, 0.49608812, 0.55213259, 0.79702123, 0.3400777 ],\n",
       "       [0.44792633, 0.08830155, 0.51721377, 0.05705376, 0.68171285]])"
      ]
     },
     "execution_count": 76,
     "metadata": {},
     "output_type": "execute_result"
    }
   ],
   "source": [
    "x = np.random.rand(1000000, 5)\n",
    "x"
   ]
  },
  {
   "cell_type": "code",
   "execution_count": 80,
   "id": "9f8a9c50",
   "metadata": {},
   "outputs": [
    {
     "name": "stdout",
     "output_type": "stream",
     "text": [
      "14.1875\n"
     ]
    }
   ],
   "source": [
    "t = 0\n",
    "z=[]\n",
    "tic = time.process_time()\n",
    "m = np.random.rand(1,5)\n",
    "x = np.random.rand(5000000, 5)\n",
    "for i in range(0, 5000000):\n",
    "    t = 0\n",
    "    for j in range(0,5):\n",
    "        t+=x[i][j]*m[0][j]\n",
    "    z.append(t)\n",
    "toc = time.process_time()\n",
    "print(toc-tic)"
   ]
  },
  {
   "cell_type": "code",
   "execution_count": 81,
   "id": "4dd948d1",
   "metadata": {},
   "outputs": [
    {
     "name": "stdout",
     "output_type": "stream",
     "text": [
      "0.046875\n"
     ]
    }
   ],
   "source": [
    "tic = time.process_time()\n",
    "np.dot(x, m.T)\n",
    "toc = time.process_time()\n",
    "print(toc - tic)"
   ]
  },
  {
   "cell_type": "code",
   "execution_count": null,
   "id": "5bd8a949",
   "metadata": {},
   "outputs": [],
   "source": []
  }
 ],
 "metadata": {
  "kernelspec": {
   "display_name": "Python 3 (ipykernel)",
   "language": "python",
   "name": "python3"
  },
  "language_info": {
   "codemirror_mode": {
    "name": "ipython",
    "version": 3
   },
   "file_extension": ".py",
   "mimetype": "text/x-python",
   "name": "python",
   "nbconvert_exporter": "python",
   "pygments_lexer": "ipython3",
   "version": "3.10.9"
  }
 },
 "nbformat": 4,
 "nbformat_minor": 5
}
