{
  "cells": [
    {
      "cell_type": "markdown",
      "metadata": {
        "id": "view-in-github",
        "colab_type": "text"
      },
      "source": [
        "<a href=\"https://colab.research.google.com/github/AkbarBunyad/Training_Programs/blob/main/gi_group_ds/assignments/homework_3_(Scholarship).ipynb\" target=\"_parent\"><img src=\"https://colab.research.google.com/assets/colab-badge.svg\" alt=\"Open In Colab\"/></a>"
      ]
    },
    {
      "cell_type": "markdown",
      "id": "2842f859",
      "metadata": {
        "id": "2842f859"
      },
      "source": [
        "**1.  Phone number is +99470-500-97-87 . Print phone number using for loop as +9945009787.**"
      ]
    },
    {
      "cell_type": "code",
      "source": [
        "s = '+99470-500-97-87'\n",
        "n=''\n",
        "for i in s:\n",
        "  if i!='-':\n",
        "    n+=i\n",
        "print(n)"
      ],
      "metadata": {
        "colab": {
          "base_uri": "https://localhost:8080/"
        },
        "id": "CUs1JT17u43B",
        "outputId": "f5e4a5f4-fcd0-4c35-9506-3304c921e2c1"
      },
      "id": "CUs1JT17u43B",
      "execution_count": null,
      "outputs": [
        {
          "output_type": "stream",
          "name": "stdout",
          "text": [
            "+994705009787\n"
          ]
        }
      ]
    },
    {
      "cell_type": "markdown",
      "id": "ef64024a",
      "metadata": {
        "id": "ef64024a"
      },
      "source": [
        "**2. The user to enter her/his age, checks if the age is greater than 65, and if so, it breaks out of the loop. Otherwise, it prints the entered age.**"
      ]
    },
    {
      "cell_type": "code",
      "source": [
        "while True:\n",
        "  try:\n",
        "    age = int(input('Enter the age: '))\n",
        "    if age>65:\n",
        "      print('Over 65 years old, thus breaking the loop')\n",
        "      break\n",
        "    else:\n",
        "      print(f'Age is {age}')\n",
        "  except:\n",
        "    print('Enter a valid age format')"
      ],
      "metadata": {
        "colab": {
          "base_uri": "https://localhost:8080/"
        },
        "id": "mE70Y_GIvbO_",
        "outputId": "abd19488-10eb-4b70-adc1-f935ccabf069"
      },
      "id": "mE70Y_GIvbO_",
      "execution_count": null,
      "outputs": [
        {
          "output_type": "stream",
          "name": "stdout",
          "text": [
            "Enter the age: 12\n",
            "Age is 12\n",
            "Enter the age: 34\n",
            "Age is 34\n",
            "Enter the age: t\n",
            "Enter a valid age format\n",
            "Enter the age: 90\n",
            "Over 65 years old, thus breaking the loop\n"
          ]
        }
      ]
    },
    {
      "cell_type": "markdown",
      "id": "89b47073",
      "metadata": {
        "id": "89b47073"
      },
      "source": [
        "**3. Write a loop to print numbers from 10 to 100 except 25,50,75. Output the result in a line**"
      ]
    },
    {
      "cell_type": "code",
      "source": [
        "for i in range(10, 101):\n",
        "  if i not in (25, 50, 75):\n",
        "    print(i, end = ',' if i<100 else '')"
      ],
      "metadata": {
        "colab": {
          "base_uri": "https://localhost:8080/"
        },
        "id": "E0w82hqRwhD1",
        "outputId": "121c8c53-471d-4983-dbc4-d8e33db1e89a"
      },
      "id": "E0w82hqRwhD1",
      "execution_count": null,
      "outputs": [
        {
          "output_type": "stream",
          "name": "stdout",
          "text": [
            "10,11,12,13,14,15,16,17,18,19,20,21,22,23,24,26,27,28,29,30,31,32,33,34,35,36,37,38,39,40,41,42,43,44,45,46,47,48,49,51,52,53,54,55,56,57,58,59,60,61,62,63,64,65,66,67,68,69,70,71,72,73,74,76,77,78,79,80,81,82,83,84,85,86,87,88,89,90,91,92,93,94,95,96,97,98,99,100"
          ]
        }
      ]
    },
    {
      "cell_type": "markdown",
      "id": "5c5db89a",
      "metadata": {
        "id": "5c5db89a"
      },
      "source": [
        "**4. Print all even numbers except those that are divisible by 10 out of the first 100 numbers. Use continue function.**"
      ]
    },
    {
      "cell_type": "code",
      "source": [
        "for i in range(1, 101):\n",
        "  if i%2 == 0:\n",
        "    if i%10==0:\n",
        "      continue\n",
        "    print(i, end = ',' if i<98 else '')"
      ],
      "metadata": {
        "colab": {
          "base_uri": "https://localhost:8080/"
        },
        "id": "G1s6uuISw_eV",
        "outputId": "fe3fa585-f45d-4c9f-de1b-abdbbe3306d6"
      },
      "id": "G1s6uuISw_eV",
      "execution_count": null,
      "outputs": [
        {
          "output_type": "stream",
          "name": "stdout",
          "text": [
            "2,4,6,8,12,14,16,18,22,24,26,28,32,34,36,38,42,44,46,48,52,54,56,58,62,64,66,68,72,74,76,78,82,84,86,88,92,94,96,98"
          ]
        }
      ]
    },
    {
      "cell_type": "markdown",
      "id": "521c04ca",
      "metadata": {
        "id": "521c04ca"
      },
      "source": [
        "**5. Ask the user to enter a number. İf the input is not a number, print \"Please enter a number\"  and exit the code. Use try and except.**"
      ]
    },
    {
      "cell_type": "code",
      "execution_count": null,
      "id": "d39a08a9",
      "metadata": {
        "id": "d39a08a9",
        "colab": {
          "base_uri": "https://localhost:8080/"
        },
        "outputId": "da4b17ab-4761-4c1d-ed19-92a64fd43b4a"
      },
      "outputs": [
        {
          "output_type": "stream",
          "name": "stdout",
          "text": [
            "Enter a number: 56,\n",
            "Please enter a number.\n"
          ]
        }
      ],
      "source": [
        "try:\n",
        "  n = float(input('Enter a number: '))\n",
        "  print(f'Entered number is {n}')\n",
        "except:\n",
        "  print('Please enter a number.')\n",
        "  exit()"
      ]
    }
  ],
  "metadata": {
    "kernelspec": {
      "display_name": "Python 3 (ipykernel)",
      "language": "python",
      "name": "python3"
    },
    "language_info": {
      "codemirror_mode": {
        "name": "ipython",
        "version": 3
      },
      "file_extension": ".py",
      "mimetype": "text/x-python",
      "name": "python",
      "nbconvert_exporter": "python",
      "pygments_lexer": "ipython3",
      "version": "3.9.12"
    },
    "colab": {
      "provenance": [],
      "include_colab_link": true
    }
  },
  "nbformat": 4,
  "nbformat_minor": 5
}