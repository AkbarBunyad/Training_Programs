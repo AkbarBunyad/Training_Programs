{
  "cells": [
    {
      "cell_type": "markdown",
      "metadata": {
        "id": "view-in-github",
        "colab_type": "text"
      },
      "source": [
        "<a href=\"https://colab.research.google.com/github/AkbarBunyad/Training_Programs/blob/main/gi_group_ds/assignments/small_homework_4_(Scholarship).ipynb\" target=\"_parent\"><img src=\"https://colab.research.google.com/assets/colab-badge.svg\" alt=\"Open In Colab\"/></a>"
      ]
    },
    {
      "cell_type": "markdown",
      "id": "ec53d096",
      "metadata": {
        "id": "ec53d096"
      },
      "source": [
        "# GOOD LUCK!"
      ]
    },
    {
      "cell_type": "markdown",
      "id": "8e5408b3",
      "metadata": {
        "id": "8e5408b3"
      },
      "source": [
        "**1. Write the code to display the result as \"You must believe in yourself\" for the list a = [\"You\",\"must\",\"believe\",\"in\",\"yourself\"].**"
      ]
    },
    {
      "cell_type": "code",
      "source": [
        "s = 'You must believe in yourself'\n",
        "l = s.split()\n",
        "l\n",
        "\n",
        "'''lst = []\n",
        "char = ''\n",
        "for i in s:\n",
        "  if i!=' ':\n",
        "    char+=i\n",
        "  else:\n",
        "    lst+=[char]\n",
        "    char = ''\n",
        "lst+=[char]\n",
        "lst'''\n",
        "\n",
        "#trying to do without readily available function, split()"
      ],
      "metadata": {
        "colab": {
          "base_uri": "https://localhost:8080/",
          "height": 53
        },
        "id": "CD8OT0xqo2dL",
        "outputId": "1011f094-470c-4875-a72e-0b5bfed28021"
      },
      "id": "CD8OT0xqo2dL",
      "execution_count": null,
      "outputs": [
        {
          "output_type": "execute_result",
          "data": {
            "text/plain": [
              "\"lst = []\\nchar = ''\\nfor i in s:\\n  if i!=' ':\\n    char+=i\\n  else:\\n    lst+=[char]\\n    char = ''\\nlst+=[char]\\nlst\""
            ],
            "application/vnd.google.colaboratory.intrinsic+json": {
              "type": "string"
            }
          },
          "metadata": {},
          "execution_count": 38
        }
      ]
    },
    {
      "cell_type": "markdown",
      "id": "bf640653",
      "metadata": {
        "id": "bf640653"
      },
      "source": [
        "**2. Ratings = (14, 9, 60, 52, 10, 18, 99, 76, 2).    Sort this tuple in descending order and display the result. Then reverse the element of this tuple and display the result.**"
      ]
    },
    {
      "cell_type": "code",
      "source": [
        "ratings = (14, 9, 60, 52, 10, 18, 99, 76, 2)\n",
        "n = sorted(tuple(ratings), reverse = True)\n",
        "print(f'sorted: {n}')\n",
        "n[::-1]"
      ],
      "metadata": {
        "colab": {
          "base_uri": "https://localhost:8080/"
        },
        "id": "2JSrtZAmqzuP",
        "outputId": "2d1b7571-a206-4c14-cd52-68ab2c4d1b48"
      },
      "id": "2JSrtZAmqzuP",
      "execution_count": null,
      "outputs": [
        {
          "output_type": "stream",
          "name": "stdout",
          "text": [
            "sorted: [99, 76, 60, 52, 18, 14, 10, 9, 2]\n"
          ]
        },
        {
          "output_type": "execute_result",
          "data": {
            "text/plain": [
              "[2, 9, 10, 14, 18, 52, 60, 76, 99]"
            ]
          },
          "metadata": {},
          "execution_count": 40
        }
      ]
    },
    {
      "cell_type": "markdown",
      "id": "5648cf3a",
      "metadata": {
        "id": "5648cf3a"
      },
      "source": [
        "**3. Get a word from the user and write the code to display the vowels in that word.**"
      ]
    },
    {
      "cell_type": "code",
      "source": [
        "w = input('enter the word: ')\n",
        "l = ['a','e','i','o','u']\n",
        "x=[]\n",
        "for i in w:\n",
        "  if i.lower() in l:\n",
        "    x+=[i]\n",
        "if len(x) > 0:\n",
        "  print(set(x))\n",
        "else:\n",
        "  print('no vowel in the word given')"
      ],
      "metadata": {
        "colab": {
          "base_uri": "https://localhost:8080/"
        },
        "id": "ONM9Ounu-GO4",
        "outputId": "edae9c9c-0e91-4f42-b038-6381b5971084"
      },
      "id": "ONM9Ounu-GO4",
      "execution_count": null,
      "outputs": [
        {
          "output_type": "stream",
          "name": "stdout",
          "text": [
            "enter the word: 120-\n",
            "no vowel in the word given\n"
          ]
        }
      ]
    },
    {
      "cell_type": "markdown",
      "id": "658805ba",
      "metadata": {
        "id": "658805ba"
      },
      "source": [
        "**4. Write code to display the ages of customers older than 65 in a list named 'customer' using the following list:\n",
        "ages = [30, 21, 67, 49, 78, 29, 57, 27, 20, 18].**"
      ]
    },
    {
      "cell_type": "code",
      "source": [
        "ages = [30,21,67,49,78,29,57,27,20,18]\n",
        "customer = []\n",
        "for i in ages:\n",
        "  if i>65:\n",
        "    customer+=[i]\n",
        "customer"
      ],
      "metadata": {
        "colab": {
          "base_uri": "https://localhost:8080/"
        },
        "id": "IvwZ2W-e_nFk",
        "outputId": "9e9937a8-2638-4755-b2a5-04e435732025"
      },
      "id": "IvwZ2W-e_nFk",
      "execution_count": null,
      "outputs": [
        {
          "output_type": "execute_result",
          "data": {
            "text/plain": [
              "[67, 78]"
            ]
          },
          "metadata": {},
          "execution_count": 23
        }
      ]
    },
    {
      "cell_type": "markdown",
      "id": "a8025264",
      "metadata": {
        "id": "a8025264"
      },
      "source": [
        "**5. Get a full name from the user (for example: Seval Hüseynzade Hüseyn qızı) and write the code to display surname.**"
      ]
    },
    {
      "cell_type": "code",
      "execution_count": null,
      "id": "17d50b75",
      "metadata": {
        "id": "17d50b75",
        "colab": {
          "base_uri": "https://localhost:8080/",
          "height": 87
        },
        "outputId": "0edb0668-1865-4ea3-9d44-be611ae62fee"
      },
      "outputs": [
        {
          "name": "stdout",
          "output_type": "stream",
          "text": [
            "enter the full name in a proper format \n",
            "starting with name, surname, father name \n",
            "and type of gender the user belongs to: ilham karimli yashar oglu\n"
          ]
        },
        {
          "output_type": "execute_result",
          "data": {
            "text/plain": [
              "'karimli'"
            ],
            "application/vnd.google.colaboratory.intrinsic+json": {
              "type": "string"
            }
          },
          "metadata": {},
          "execution_count": 35
        }
      ],
      "source": [
        "n = input('enter the full name in a proper format \\n\\\n",
        "starting with name, surname, father name \\n\\\n",
        "and type of gender the user belongs to: ')\n",
        "x = n.split()\n",
        "x[1]"
      ]
    },
    {
      "cell_type": "code",
      "source": [],
      "metadata": {
        "id": "xqg3NxgTCFiq"
      },
      "id": "xqg3NxgTCFiq",
      "execution_count": null,
      "outputs": []
    }
  ],
  "metadata": {
    "kernelspec": {
      "display_name": "Python 3 (ipykernel)",
      "language": "python",
      "name": "python3"
    },
    "language_info": {
      "codemirror_mode": {
        "name": "ipython",
        "version": 3
      },
      "file_extension": ".py",
      "mimetype": "text/x-python",
      "name": "python",
      "nbconvert_exporter": "python",
      "pygments_lexer": "ipython3",
      "version": "3.9.12"
    },
    "colab": {
      "provenance": [],
      "include_colab_link": true
    }
  },
  "nbformat": 4,
  "nbformat_minor": 5
}