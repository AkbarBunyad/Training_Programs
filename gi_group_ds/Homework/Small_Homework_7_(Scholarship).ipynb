{
  "cells": [
    {
      "cell_type": "markdown",
      "metadata": {
        "id": "view-in-github",
        "colab_type": "text"
      },
      "source": [
        "<a href=\"https://colab.research.google.com/github/AkbarBunyad/Training_Programs/blob/main/gi_group_ds/assignments/Small_Homework_7_(Scholarship).ipynb\" target=\"_parent\"><img src=\"https://colab.research.google.com/assets/colab-badge.svg\" alt=\"Open In Colab\"/></a>"
      ]
    },
    {
      "cell_type": "markdown",
      "id": "321736e7",
      "metadata": {
        "id": "321736e7"
      },
      "source": [
        "# Good luck!"
      ]
    },
    {
      "cell_type": "markdown",
      "id": "3aaecc08",
      "metadata": {
        "id": "3aaecc08"
      },
      "source": [
        "**Import numpy library.**"
      ]
    },
    {
      "cell_type": "markdown",
      "id": "b0ca7337-8e0f-4a76-8ab0-b1805b30a78d",
      "metadata": {
        "id": "b0ca7337-8e0f-4a76-8ab0-b1805b30a78d"
      },
      "source": [
        "**1. Create an array of ones in (3,3) shape.**  (Vahid matris)"
      ]
    },
    {
      "cell_type": "code",
      "source": [
        "import numpy as np\n",
        "m = [[0 for x in range(3)] for y in range(3)]\n",
        "for i in range (3):\n",
        "  for j in range (3):\n",
        "    if i == j:\n",
        "      m[i][j] = 1\n",
        "np.array(m)"
      ],
      "metadata": {
        "colab": {
          "base_uri": "https://localhost:8080/"
        },
        "id": "iwnTYYzxRpFl",
        "outputId": "2f50984d-3bd9-4d56-8084-d7b80aa6b0e4"
      },
      "id": "iwnTYYzxRpFl",
      "execution_count": null,
      "outputs": [
        {
          "output_type": "execute_result",
          "data": {
            "text/plain": [
              "array([[1, 0, 0],\n",
              "       [0, 1, 0],\n",
              "       [0, 0, 1]])"
            ]
          },
          "metadata": {},
          "execution_count": 1
        }
      ]
    },
    {
      "cell_type": "markdown",
      "id": "bc6732d6-66d5-404b-9a05-c3eaf171b757",
      "metadata": {
        "id": "bc6732d6-66d5-404b-9a05-c3eaf171b757"
      },
      "source": [
        "**2. Create an array of random values in (4,4) shape.**"
      ]
    },
    {
      "cell_type": "code",
      "source": [
        "mt = np.random.rand(4, 4)\n",
        "mt"
      ],
      "metadata": {
        "colab": {
          "base_uri": "https://localhost:8080/"
        },
        "id": "3994BzflRzQi",
        "outputId": "6ee9cda4-3101-47f2-cadb-8e60a129cbbc"
      },
      "id": "3994BzflRzQi",
      "execution_count": null,
      "outputs": [
        {
          "output_type": "execute_result",
          "data": {
            "text/plain": [
              "array([[0.90991589, 0.32480162, 0.0914055 , 0.63196233],\n",
              "       [0.60933265, 0.12600642, 0.51661528, 0.14597898],\n",
              "       [0.67424243, 0.82425338, 0.20237434, 0.26408865],\n",
              "       [0.72103323, 0.66984377, 0.38368163, 0.64693644]])"
            ]
          },
          "metadata": {},
          "execution_count": 2
        }
      ]
    },
    {
      "cell_type": "markdown",
      "id": "44f12c16-a68e-47ab-af52-a2ff39902172",
      "metadata": {
        "id": "44f12c16-a68e-47ab-af52-a2ff39902172"
      },
      "source": [
        "**3. Insert 55 to this array at position 3: arr = np.array([76,23,19,45]).**"
      ]
    },
    {
      "cell_type": "code",
      "source": [
        "arr = np.array([76, 23, 19, 45])\n",
        "arr = np.insert(arr, 2, 55)\n",
        "arr"
      ],
      "metadata": {
        "colab": {
          "base_uri": "https://localhost:8080/"
        },
        "id": "YshvRhvLSBBX",
        "outputId": "9aaa10eb-55fd-4377-a1e3-e91d3f9d3717"
      },
      "id": "YshvRhvLSBBX",
      "execution_count": null,
      "outputs": [
        {
          "output_type": "execute_result",
          "data": {
            "text/plain": [
              "array([76, 23, 55, 19, 45])"
            ]
          },
          "metadata": {},
          "execution_count": 3
        }
      ]
    },
    {
      "cell_type": "markdown",
      "id": "2a21514d-e79e-4693-a4d1-bfab74d3c558",
      "metadata": {
        "id": "2a21514d-e79e-4693-a4d1-bfab74d3c558"
      },
      "source": [
        "**4. Copy this array as a different name and delete the element 19 from this array(copy).**"
      ]
    },
    {
      "cell_type": "code",
      "source": [
        "arr1 = arr.copy()\n",
        "arr1 = np.delete(arr1, np.where(arr1 == 19))\n",
        "arr1"
      ],
      "metadata": {
        "colab": {
          "base_uri": "https://localhost:8080/"
        },
        "id": "JeJ65N0fSUIA",
        "outputId": "3cbdbe7c-c5ba-43b0-e868-91939b5f41cd"
      },
      "id": "JeJ65N0fSUIA",
      "execution_count": null,
      "outputs": [
        {
          "output_type": "execute_result",
          "data": {
            "text/plain": [
              "array([ 1.,  2.,  3.,  5.,  6.,  7.,  8.,  9., 10., 11., 12., 13., 14.,\n",
              "       15., 16., 17., 18., 19., 20., 21., 22., 23., 24., 25.])"
            ]
          },
          "metadata": {},
          "execution_count": 26
        }
      ]
    },
    {
      "cell_type": "markdown",
      "id": "e4a3bcff-ae06-438a-9d2e-49d98e10fb2b",
      "metadata": {
        "id": "e4a3bcff-ae06-438a-9d2e-49d98e10fb2b"
      },
      "source": [
        "**5. Create a new array that contains only the elements of arr5 that are greater than 9 and less than 20.**"
      ]
    },
    {
      "cell_type": "code",
      "source": [
        "arr5 = np.arange(25).reshape(5, 5)\n",
        "new = arr5[(arr5 > 9) & (arr5<20)]\n",
        "new"
      ],
      "metadata": {
        "colab": {
          "base_uri": "https://localhost:8080/"
        },
        "id": "Dmvt2IllXG_H",
        "outputId": "ca544239-0e57-4104-f23f-a45f550346e5"
      },
      "id": "Dmvt2IllXG_H",
      "execution_count": null,
      "outputs": [
        {
          "output_type": "execute_result",
          "data": {
            "text/plain": [
              "array([10, 11, 12, 13, 14, 15, 16, 17, 18, 19])"
            ]
          },
          "metadata": {},
          "execution_count": 27
        }
      ]
    },
    {
      "cell_type": "markdown",
      "id": "90aff9a8",
      "metadata": {
        "id": "90aff9a8"
      },
      "source": [
        "**6. Convert the list [12, 42, 13] and [81, 26, 70] to numpy arrays arr1 and arr2. Then perform Addition , Subtraction , Multiplication and Division Operation on the arr1 and arr2.**"
      ]
    },
    {
      "cell_type": "code",
      "source": [
        "arr1 = np.array([12, 42, 13])\n",
        "arr2 = np.array([81, 26, 70])\n",
        "addition = arr1 + arr2\n",
        "subtraction = arr1 - arr2\n",
        "multiplication = arr1 * arr2\n",
        "division = arr1 / arr2\n",
        "print('addition: ', addition)\n",
        "print('subtraction: ', subtraction)\n",
        "print('multiplication: ', multiplication)\n",
        "print('division: ', division)"
      ],
      "metadata": {
        "colab": {
          "base_uri": "https://localhost:8080/"
        },
        "id": "brr58V05Xh2r",
        "outputId": "02189a09-ae08-481c-8023-c5120b872d6a"
      },
      "id": "brr58V05Xh2r",
      "execution_count": null,
      "outputs": [
        {
          "output_type": "stream",
          "name": "stdout",
          "text": [
            "addition:  [93 68 83]\n",
            "subtraction:  [-69  16 -57]\n",
            "multiplication:  [ 972 1092  910]\n",
            "division:  [0.14814815 1.61538462 0.18571429]\n"
          ]
        }
      ]
    },
    {
      "cell_type": "markdown",
      "id": "1b25dc43",
      "metadata": {
        "id": "1b25dc43"
      },
      "source": [
        "**7. Find the sum of maximum and minimum value in the given numpy array:\n",
        "a = np.array([15, 20, 23, 44, 98])**\n",
        "\n",
        "**(Output 113)**"
      ]
    },
    {
      "cell_type": "code",
      "source": [
        "arr = np.array([15, 20, 23, 44, 98])\n",
        "'''max_val = np.max(arr)\n",
        "min_val = np.min(arr)\n",
        "print('sum of maximum and minimum value: ', max_val + min_val)'''\n",
        "\n",
        "max_val = arr[0]\n",
        "min_val = arr[0]\n",
        "for i in arr:\n",
        "  if i > max_val:\n",
        "    max_val = i\n",
        "  if i < min_val:\n",
        "    min_val = i\n",
        "print('sum of maximum and minimum value: ', max_val + min_val)"
      ],
      "metadata": {
        "colab": {
          "base_uri": "https://localhost:8080/"
        },
        "id": "h4B5i6pmYVv0",
        "outputId": "bf693b69-292b-443e-be2f-a5c6a2cb80d7"
      },
      "id": "h4B5i6pmYVv0",
      "execution_count": null,
      "outputs": [
        {
          "output_type": "stream",
          "name": "stdout",
          "text": [
            "sum of maximum and minimum value:  113\n"
          ]
        }
      ]
    },
    {
      "cell_type": "markdown",
      "id": "edda17ba",
      "metadata": {
        "id": "edda17ba"
      },
      "source": [
        "**8. Convert the list [1, 2, 3, 4, 5] to numpy array arr1. Then find the even and odd numbers from arr1.**\n",
        "\n",
        "\n",
        "**(Output even for array1 [2 4]**\n",
        "\n",
        "\n",
        "**odd for array1 [1 3 5])**"
      ]
    },
    {
      "cell_type": "code",
      "source": [
        "arr1 = np.array([1, 2, 3, 4, 5])\n",
        "even_l = arr1[arr1 % 2 == 0]\n",
        "odd_l = arr1[arr1 % 2  == 1]\n",
        "print(even_l)\n",
        "print(odd_l)"
      ],
      "metadata": {
        "colab": {
          "base_uri": "https://localhost:8080/"
        },
        "id": "gTxraQ-nbFhO",
        "outputId": "fc463484-18f3-4027-820d-a4273e63b300"
      },
      "id": "gTxraQ-nbFhO",
      "execution_count": null,
      "outputs": [
        {
          "output_type": "stream",
          "name": "stdout",
          "text": [
            "[2 4]\n",
            "[1 3 5]\n"
          ]
        }
      ]
    }
  ],
  "metadata": {
    "kernelspec": {
      "display_name": "Python 3 (ipykernel)",
      "language": "python",
      "name": "python3"
    },
    "language_info": {
      "codemirror_mode": {
        "name": "ipython",
        "version": 3
      },
      "file_extension": ".py",
      "mimetype": "text/x-python",
      "name": "python",
      "nbconvert_exporter": "python",
      "pygments_lexer": "ipython3",
      "version": "3.11.4"
    },
    "colab": {
      "provenance": [],
      "include_colab_link": true
    }
  },
  "nbformat": 4,
  "nbformat_minor": 5
}