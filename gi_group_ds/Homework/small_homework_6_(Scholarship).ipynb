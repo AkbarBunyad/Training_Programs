{
  "cells": [
    {
      "cell_type": "markdown",
      "metadata": {
        "id": "view-in-github",
        "colab_type": "text"
      },
      "source": [
        "<a href=\"https://colab.research.google.com/github/AkbarBunyad/Training_Programs/blob/main/gi_group_ds/assignments/small_homework_6_(Scholarship).ipynb\" target=\"_parent\"><img src=\"https://colab.research.google.com/assets/colab-badge.svg\" alt=\"Open In Colab\"/></a>"
      ]
    },
    {
      "cell_type": "markdown",
      "id": "1e9561c9",
      "metadata": {
        "id": "1e9561c9"
      },
      "source": [
        "**1. Come up with a function that divides the first input by the second input. Take into account that division by zero is undefined.**"
      ]
    },
    {
      "cell_type": "code",
      "source": [
        "def div(n1, n2):\n",
        "  if n2 == 0:\n",
        "    return 'Error: division by zero undefined'\n",
        "  else:\n",
        "    return n1/n2\n",
        "\n",
        "div(14,0)"
      ],
      "metadata": {
        "colab": {
          "base_uri": "https://localhost:8080/",
          "height": 35
        },
        "id": "IyM1RzukvEp1",
        "outputId": "78fd8cd1-ad88-45a7-d968-c1cd1585253c"
      },
      "id": "IyM1RzukvEp1",
      "execution_count": null,
      "outputs": [
        {
          "output_type": "execute_result",
          "data": {
            "text/plain": [
              "'Error: division by zero undefined'"
            ],
            "application/vnd.google.colaboratory.intrinsic+json": {
              "type": "string"
            }
          },
          "metadata": {},
          "execution_count": 5
        }
      ]
    },
    {
      "cell_type": "markdown",
      "id": "583553d8",
      "metadata": {
        "id": "583553d8"
      },
      "source": [
        "**2. Create a function to print four new lines.  (as \"--------------------\")**"
      ]
    },
    {
      "cell_type": "code",
      "source": [
        "def lines():\n",
        "  for i in range (4):\n",
        "    print('-'* 25)\n",
        "lines()"
      ],
      "metadata": {
        "colab": {
          "base_uri": "https://localhost:8080/"
        },
        "id": "9dOQRsvFvmFz",
        "outputId": "6da685b5-013e-4aa4-8afc-1e51bb1205ab"
      },
      "id": "9dOQRsvFvmFz",
      "execution_count": null,
      "outputs": [
        {
          "output_type": "stream",
          "name": "stdout",
          "text": [
            "-------------------------\n",
            "-------------------------\n",
            "-------------------------\n",
            "-------------------------\n"
          ]
        }
      ]
    },
    {
      "cell_type": "markdown",
      "id": "cbb15d6a",
      "metadata": {
        "id": "cbb15d6a"
      },
      "source": [
        "**3. Create a function that displays the input number as a percentage. Use input function to get the numbers.**"
      ]
    },
    {
      "cell_type": "code",
      "source": [
        "def perc():\n",
        "  try:\n",
        "    n = float(input('Enter a number: '))\n",
        "    print(f'The number as a percentage: {100*n}%')\n",
        "  except:\n",
        "    print('Enter a valid number')\n",
        "perc()"
      ],
      "metadata": {
        "colab": {
          "base_uri": "https://localhost:8080/"
        },
        "id": "Ny2MF_KhxDjf",
        "outputId": "fea8d8f1-d353-495c-bdbf-7cdfd2aa04bd"
      },
      "id": "Ny2MF_KhxDjf",
      "execution_count": null,
      "outputs": [
        {
          "output_type": "stream",
          "name": "stdout",
          "text": [
            "Enter a number: 12\n",
            "The number as a percentage: 1200.0%\n"
          ]
        }
      ]
    },
    {
      "cell_type": "markdown",
      "id": "b433715c",
      "metadata": {
        "id": "b433715c"
      },
      "source": [
        "**4. Create a function that takes two arguments, name and age, and print their value.**"
      ]
    },
    {
      "cell_type": "code",
      "source": [
        "def func(name, age):\n",
        "  print(f'Name is {name}')\n",
        "  print(f'Age is {age}')\n",
        "func('Asena', 19)"
      ],
      "metadata": {
        "colab": {
          "base_uri": "https://localhost:8080/"
        },
        "id": "wWOdQRQBxrPZ",
        "outputId": "f40d07c3-1e88-4b11-94d0-10aeaea98e52"
      },
      "id": "wWOdQRQBxrPZ",
      "execution_count": null,
      "outputs": [
        {
          "output_type": "stream",
          "name": "stdout",
          "text": [
            "Name is Asena\n",
            "Age is 19\n"
          ]
        }
      ]
    },
    {
      "cell_type": "markdown",
      "id": "3197562f",
      "metadata": {
        "id": "3197562f"
      },
      "source": [
        "**5. Create a recursive function to calculate the sum of numbers from 15 to 20.**"
      ]
    },
    {
      "cell_type": "code",
      "execution_count": null,
      "id": "15b99a7b",
      "metadata": {
        "id": "15b99a7b",
        "colab": {
          "base_uri": "https://localhost:8080/"
        },
        "outputId": "564aeccb-c7e4-4bdc-b11a-670da4f52dc1"
      },
      "outputs": [
        {
          "output_type": "execute_result",
          "data": {
            "text/plain": [
              "105"
            ]
          },
          "metadata": {},
          "execution_count": 13
        }
      ],
      "source": [
        "def rec(n):\n",
        "  if n == 20:\n",
        "    return 20\n",
        "  else:\n",
        "    return n+rec(n+1)\n",
        "rec(15)"
      ]
    },
    {
      "cell_type": "code",
      "source": [],
      "metadata": {
        "id": "-BnCDT8dytHa"
      },
      "id": "-BnCDT8dytHa",
      "execution_count": null,
      "outputs": []
    }
  ],
  "metadata": {
    "kernelspec": {
      "display_name": "Python 3 (ipykernel)",
      "language": "python",
      "name": "python3"
    },
    "language_info": {
      "codemirror_mode": {
        "name": "ipython",
        "version": 3
      },
      "file_extension": ".py",
      "mimetype": "text/x-python",
      "name": "python",
      "nbconvert_exporter": "python",
      "pygments_lexer": "ipython3",
      "version": "3.9.12"
    },
    "colab": {
      "provenance": [],
      "include_colab_link": true
    }
  },
  "nbformat": 4,
  "nbformat_minor": 5
}