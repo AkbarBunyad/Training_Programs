{
  "cells": [
    {
      "cell_type": "markdown",
      "metadata": {
        "id": "view-in-github",
        "colab_type": "text"
      },
      "source": [
        "<a href=\"https://colab.research.google.com/github/AkbarBunyad/Training_Programs/blob/main/gi_group_ds/assignments/small_homework_5_(Scholarship).ipynb\" target=\"_parent\"><img src=\"https://colab.research.google.com/assets/colab-badge.svg\" alt=\"Open In Colab\"/></a>"
      ]
    },
    {
      "cell_type": "markdown",
      "id": "265e4bdd",
      "metadata": {
        "id": "265e4bdd"
      },
      "source": [
        "**1. Find maximum and minimum number of numbers list.**\n",
        "\n",
        "**numbers = [23, 67, 45, 98, 43, 21, 76, 77, 65].**\n",
        "\n",
        "**Use for loop.**"
      ]
    },
    {
      "cell_type": "code",
      "source": [
        "numbers = [23, 67, 45, 98, 43, 21, 76, 77, 65]\n",
        "mn = numbers[0]\n",
        "mx = numbers[0]\n",
        "for i in numbers:\n",
        "  if i < mn:\n",
        "    mn = i\n",
        "  if i > mx:\n",
        "    mx = i\n",
        "print('Min number: ', mn)\n",
        "print('Max number: ', mx)"
      ],
      "metadata": {
        "colab": {
          "base_uri": "https://localhost:8080/"
        },
        "id": "x49Z3ikA1HVF",
        "outputId": "29476360-238a-43bd-ffd0-54d25d04e29a"
      },
      "id": "x49Z3ikA1HVF",
      "execution_count": null,
      "outputs": [
        {
          "output_type": "stream",
          "name": "stdout",
          "text": [
            "Min number:  21\n",
            "Max number:  98\n"
          ]
        }
      ]
    },
    {
      "cell_type": "markdown",
      "id": "cbd54cc0",
      "metadata": {
        "id": "cbd54cc0"
      },
      "source": [
        "Nested tuple: A tuple can contain another tuple as well as other more complex data types. This process is called 'nesting'.¶"
      ]
    },
    {
      "cell_type": "markdown",
      "id": "babb7968",
      "metadata": {
        "id": "babb7968"
      },
      "source": [
        "**2. Use slicing to obtain indexes 3, 4 and 5.            \n",
        "NestedT =(1, 2, (\"pop\", \"rock\") ,(3,4),(\"disco\",(1,2)), 7.5, 0)**"
      ]
    },
    {
      "cell_type": "code",
      "source": [
        "NestedT =(1, 2, (\"pop\", \"rock\") ,(3,4),(\"disco\",(1,2)), 7.5, 0)\n",
        "\n",
        "print(NestedT[3:6])"
      ],
      "metadata": {
        "colab": {
          "base_uri": "https://localhost:8080/"
        },
        "id": "27RtOhKS2Aao",
        "outputId": "99d8b80d-4ab4-408f-8997-fc92f867ac41"
      },
      "id": "27RtOhKS2Aao",
      "execution_count": null,
      "outputs": [
        {
          "output_type": "stream",
          "name": "stdout",
          "text": [
            "((3, 4), ('disco', (1, 2)), 7.5)\n"
          ]
        }
      ]
    },
    {
      "cell_type": "markdown",
      "id": "c1659605",
      "metadata": {
        "id": "c1659605"
      },
      "source": [
        "**3. Create a dictionary named Dict with he following details:**\n",
        "\n",
        "**Keys are key1, key2, key3, key4, key5.**\n",
        "\n",
        "**Values are {1,2,[3,3,3],(4,4,4),5} corresponding to the keys.**"
      ]
    },
    {
      "cell_type": "code",
      "source": [
        "Dict = {}\n",
        "keys = ['key1', 'key2', 'key3', 'key4', 'key5']\n",
        "vls = [1, 2, [3,3,3], (4,4,4), 5]\n",
        "for key, value in zip(keys, vls):\n",
        "  Dict[key] = value\n",
        "\n",
        "print(Dict)"
      ],
      "metadata": {
        "colab": {
          "base_uri": "https://localhost:8080/"
        },
        "id": "8joROWRA2HIT",
        "outputId": "174c4d97-5233-4210-efd9-9bf6e7811ee6"
      },
      "id": "8joROWRA2HIT",
      "execution_count": null,
      "outputs": [
        {
          "output_type": "stream",
          "name": "stdout",
          "text": [
            "{'key1': 1, 'key2': 2, 'key3': [3, 3, 3], 'key4': (4, 4, 4), 'key5': 5}\n"
          ]
        }
      ]
    },
    {
      "cell_type": "markdown",
      "id": "e654bb5d",
      "metadata": {
        "id": "e654bb5d"
      },
      "source": [
        "**4. Delete first and last elements by key.**"
      ]
    },
    {
      "cell_type": "code",
      "source": [
        "lst = list(Dict.keys())\n",
        "\n",
        "for key in (lst[0], lst[-1]):\n",
        "  del Dict[key]\n",
        "\n",
        "print(Dict)"
      ],
      "metadata": {
        "colab": {
          "base_uri": "https://localhost:8080/"
        },
        "id": "6fEoePjT29mE",
        "outputId": "3fc6879d-51f3-490d-a5ee-643900c1a4f7"
      },
      "id": "6fEoePjT29mE",
      "execution_count": null,
      "outputs": [
        {
          "output_type": "stream",
          "name": "stdout",
          "text": [
            "{'key2': 2, 'key3': [3, 3, 3], 'key4': (4, 4, 4)}\n"
          ]
        }
      ]
    },
    {
      "cell_type": "markdown",
      "id": "006077fe",
      "metadata": {
        "id": "006077fe"
      },
      "source": [
        "**5. set1 = set([\"Thriller\", 'AC/DC', 'Back in Black'])**\n",
        "\n",
        "**set2 = set([ \"AC/DC\", \"Back in Black\", \"The Dark Side of the Moon\"])**\n",
        "\n",
        "**a) Find the intersections;**\n",
        "\n",
        "**b) Find the union of two sets;**\n",
        "\n",
        "**c) Find the difference in set1 but not set2;**\n",
        "\n",
        "**d) Find the symmetric difference.**"
      ]
    },
    {
      "cell_type": "code",
      "execution_count": 4,
      "id": "dc0f8699",
      "metadata": {
        "id": "dc0f8699",
        "colab": {
          "base_uri": "https://localhost:8080/"
        },
        "outputId": "a0f756d4-0927-467d-98b1-859d4b2a3139"
      },
      "outputs": [
        {
          "output_type": "stream",
          "name": "stdout",
          "text": [
            "Intersections of sets given:  {'Back in Black', 'AC/DC'}\n",
            "Union of them:  {'Back in Black', 'AC/DC', 'The Dark Side of the Moon', 'Thriller'}\n",
            "Difference in set1 but not set2:  {'Thriller'}\n",
            "Symmetric difference:  {'The Dark Side of the Moon', 'Thriller'}\n"
          ]
        }
      ],
      "source": [
        "set1 = set([\"Thriller\", 'AC/DC', 'Back in Black'])\n",
        "set2 = set([ \"AC/DC\", \"Back in Black\", \"The Dark Side of the Moon\"])\n",
        "\n",
        "print('Intersections of sets given: ', set1.intersection(set2))\n",
        "print('Union of them: ',set1.union(set2))\n",
        "print('Difference in set1 but not set2: ', set1.difference(set2))\n",
        "print('Symmetric difference: ', set2.symmetric_difference(set1))"
      ]
    },
    {
      "cell_type": "code",
      "source": [],
      "metadata": {
        "id": "gl5fBIbJlzMC"
      },
      "id": "gl5fBIbJlzMC",
      "execution_count": null,
      "outputs": []
    }
  ],
  "metadata": {
    "kernelspec": {
      "display_name": "Python 3 (ipykernel)",
      "language": "python",
      "name": "python3"
    },
    "language_info": {
      "codemirror_mode": {
        "name": "ipython",
        "version": 3
      },
      "file_extension": ".py",
      "mimetype": "text/x-python",
      "name": "python",
      "nbconvert_exporter": "python",
      "pygments_lexer": "ipython3",
      "version": "3.9.12"
    },
    "colab": {
      "provenance": [],
      "include_colab_link": true
    }
  },
  "nbformat": 4,
  "nbformat_minor": 5
}